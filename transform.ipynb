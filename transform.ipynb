{
 "cells": [
  {
   "cell_type": "code",
   "execution_count": 1,
   "metadata": {},
   "outputs": [
    {
     "name": "stdout",
     "output_type": "stream",
     "text": [
      "Spektrogramme wurden erfolgreich generiert und gespeichert.\n"
     ]
    }
   ],
   "source": [
    "import os\n",
    "import numpy as np\n",
    "import librosa\n",
    "import librosa.display\n",
    "import matplotlib.pyplot as plt\n",
    "\n",
    "def list_wav_files_in_directory(directory):\n",
    "    return sorted([os.path.join(directory, file) for file in os.listdir(directory) if file.endswith(\".wav\")])\n",
    "\n",
    "def save_spectrogram_as_image(filename, output_dir, counter):\n",
    "    y, sr = librosa.load(filename)\n",
    "    S = np.abs(librosa.stft(y, hop_length=512))\n",
    "    S_db = librosa.amplitude_to_db(S, ref=np.max)\n",
    "    \n",
    "    plt.figure(figsize=(10, 4))\n",
    "    librosa.display.specshow(S_db, sr=sr, hop_length=512, x_axis=None, y_axis=None)\n",
    "    plt.axis('off')\n",
    "    plt.tight_layout(pad=0)\n",
    "    \n",
    "    if not os.path.exists(output_dir):\n",
    "        os.makedirs(output_dir)\n",
    "    \n",
    "    plt.savefig(os.path.join(output_dir, f'{counter}.png'), bbox_inches='tight', pad_inches=0)\n",
    "    plt.close()\n",
    "\n",
    "def get_next_counter(output_dir):\n",
    "    existing_files = [f for f in os.listdir(output_dir) if f.endswith('.png')]\n",
    "    if existing_files:\n",
    "        max_number = max(int(f.split('.')[0]) for f in existing_files)\n",
    "        return max_number + 1\n",
    "    else:\n",
    "        return 0\n",
    "\n",
    "def delete_long_audio_files(directory, max_duration=25): #24 Sekunden hier festgelegt\n",
    "    for filename in os.listdir(directory):\n",
    "        filepath = os.path.join(directory, filename)\n",
    "        \n",
    "        if filepath.lower().endswith('.wav'):\n",
    "            try:\n",
    "                y, sr = librosa.load(filepath, sr=None)\n",
    "                duration = librosa.get_duration(y=y, sr=sr)\n",
    "                \n",
    "                if duration > max_duration:\n",
    "                    os.remove(filepath)\n",
    "                    print(f\"Deleted {filepath} - Duration: {duration} seconds\")\n",
    "            except Exception as e:\n",
    "                print(f\"Failed to process {filepath}: {e}\")\n",
    "\n",
    "def process_files_for_split(split, label, input_base_dir, output_base_dir, max_duration=25):\n",
    "    input_dir = os.path.join(input_base_dir, label, split)\n",
    "    output_dir = os.path.join(output_base_dir, split, label)\n",
    "    \n",
    "    delete_long_audio_files(input_dir, max_duration)\n",
    "    \n",
    "    files = list_wav_files_in_directory(input_dir)\n",
    "    counter = get_next_counter(output_dir)\n",
    "    \n",
    "    for file in files:\n",
    "        save_spectrogram_as_image(file, output_dir, counter)\n",
    "        counter += 1\n",
    "\n",
    "input_base_dir = 'ALL_segments'\n",
    "output_base_dir = 'spectrograms'\n",
    "splits = ['train', 'val', 'test']\n",
    "labels = ['alu_nut_io', 'alu_nut_nio', 'alu_ohne_io', 'alu_ohne_nio', 'kunststoff_nut_io', 'kunststoff_nut_nio', 'kunststoff_ohne_io', 'kunststoff_ohne_nio']\n",
    "\n",
    "for split in splits:\n",
    "    for label in labels:\n",
    "        process_files_for_split(split, label, input_base_dir, output_base_dir)\n",
    "\n",
    "print('Spektrogramme wurden erfolgreich generiert und gespeichert.')\n"
   ]
  }
 ],
 "metadata": {
  "kernelspec": {
   "display_name": "Python 3",
   "language": "python",
   "name": "python3"
  },
  "language_info": {
   "codemirror_mode": {
    "name": "ipython",
    "version": 3
   },
   "file_extension": ".py",
   "mimetype": "text/x-python",
   "name": "python",
   "nbconvert_exporter": "python",
   "pygments_lexer": "ipython3",
   "version": "3.11.9"
  }
 },
 "nbformat": 4,
 "nbformat_minor": 2
}
