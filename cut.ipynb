{
 "cells": [
  {
   "cell_type": "code",
   "execution_count": 10,
   "metadata": {},
   "outputs": [
    {
     "name": "stdout",
     "output_type": "stream",
     "text": [
      "Copied audio/FULL\\alu_nut_io\\URecorder_20240715_145135.wav to temp_split_audio\\alu_nut_io\\train\\URecorder_20240715_145135.wav\n",
      "Copied audio/FULL\\alu_nut_io\\URecorder_20240716_101108.wav to temp_split_audio\\alu_nut_io\\train\\URecorder_20240716_101108.wav\n",
      "Copied audio/FULL\\alu_nut_io\\URecorder_20240715_142039.wav to temp_split_audio\\alu_nut_io\\train\\URecorder_20240715_142039.wav\n",
      "Copied audio/FULL\\alu_nut_io\\URecorder_20240716_080440.wav to temp_split_audio\\alu_nut_io\\train\\URecorder_20240716_080440.wav\n",
      "Copied audio/FULL\\alu_nut_io\\URecorder_20240716_104921.wav to temp_split_audio\\alu_nut_io\\train\\URecorder_20240716_104921.wav\n",
      "Copied audio/FULL\\alu_nut_io\\URecorder_20240716_104104.wav to temp_split_audio\\alu_nut_io\\train\\URecorder_20240716_104104.wav\n",
      "Copied audio/FULL\\alu_nut_io\\URecorder_20240716_101940.wav to temp_split_audio\\alu_nut_io\\train\\URecorder_20240716_101940.wav\n",
      "Copied audio/FULL\\alu_nut_io\\URecorder_20240716_083244.wav to temp_split_audio\\alu_nut_io\\train\\URecorder_20240716_083244.wav\n",
      "Copied audio/FULL\\alu_nut_io\\URecorder_20240716_094219.wav to temp_split_audio\\alu_nut_io\\train\\URecorder_20240716_094219.wav\n",
      "Copied audio/FULL\\alu_nut_io\\URecorder_20240716_084213.wav to temp_split_audio\\alu_nut_io\\train\\URecorder_20240716_084213.wav\n",
      "Copied audio/FULL\\alu_nut_io\\URecorder_20240716_105738.wav to temp_split_audio\\alu_nut_io\\train\\URecorder_20240716_105738.wav\n",
      "Copied audio/FULL\\alu_nut_io\\URecorder_20240716_095420.wav to temp_split_audio\\alu_nut_io\\train\\URecorder_20240716_095420.wav\n",
      "Copied audio/FULL\\alu_nut_io\\URecorder_20240716_085230.wav to temp_split_audio\\alu_nut_io\\train\\URecorder_20240716_085230.wav\n",
      "Copied audio/FULL\\alu_nut_io\\URecorder_20240716_100251.wav to temp_split_audio\\alu_nut_io\\train\\URecorder_20240716_100251.wav\n",
      "Copied audio/FULL\\alu_nut_io\\URecorder_20240716_082322.wav to temp_split_audio\\alu_nut_io\\test\\URecorder_20240716_082322.wav\n",
      "Copied audio/FULL\\alu_nut_io\\URecorder_20240715_144236.wav to temp_split_audio\\alu_nut_io\\test\\URecorder_20240715_144236.wav\n",
      "Copied audio/FULL\\alu_nut_io\\URecorder_20240716_103239.wav to temp_split_audio\\alu_nut_io\\test\\URecorder_20240716_103239.wav\n",
      "Copied audio/FULL\\alu_nut_io\\URecorder_20240715_150040.wav to temp_split_audio\\alu_nut_io\\val\\URecorder_20240715_150040.wav\n",
      "Copied audio/FULL\\alu_nut_io\\URecorder_20240716_081411.wav to temp_split_audio\\alu_nut_io\\val\\URecorder_20240716_081411.wav\n",
      "Copied audio/FULL\\alu_nut_io\\URecorder_20240715_142944.wav to temp_split_audio\\alu_nut_io\\val\\URecorder_20240715_142944.wav\n",
      "Copied audio/FULL\\alu_nut_nio\\URecorder_20240717_133450.wav to temp_split_audio\\alu_nut_nio\\train\\URecorder_20240717_133450.wav\n",
      "Copied audio/FULL\\alu_nut_nio\\URecorder_20240717_104347.wav to temp_split_audio\\alu_nut_nio\\train\\URecorder_20240717_104347.wav\n",
      "Copied audio/FULL\\alu_nut_nio\\URecorder_20240717_134301.wav to temp_split_audio\\alu_nut_nio\\train\\URecorder_20240717_134301.wav\n",
      "Copied audio/FULL\\alu_nut_nio\\URecorder_20240717_105152.wav to temp_split_audio\\alu_nut_nio\\train\\URecorder_20240717_105152.wav\n",
      "Copied audio/FULL\\alu_nut_nio\\URecorder_20240717_113037.wav to temp_split_audio\\alu_nut_nio\\train\\URecorder_20240717_113037.wav\n",
      "Copied audio/FULL\\alu_nut_nio\\URecorder_20240717_102650.wav to temp_split_audio\\alu_nut_nio\\train\\URecorder_20240717_102650.wav\n",
      "Copied audio/FULL\\alu_nut_nio\\URecorder_20240717_132140.wav to temp_split_audio\\alu_nut_nio\\train\\URecorder_20240717_132140.wav\n",
      "Copied audio/FULL\\alu_nut_nio\\URecorder_20240717_110003.wav to temp_split_audio\\alu_nut_nio\\train\\URecorder_20240717_110003.wav\n",
      "Copied audio/FULL\\alu_nut_nio\\URecorder_20240717_144546.wav to temp_split_audio\\alu_nut_nio\\train\\URecorder_20240717_144546.wav\n",
      "Copied audio/FULL\\alu_nut_nio\\URecorder_20240717_145358.wav to temp_split_audio\\alu_nut_nio\\train\\URecorder_20240717_145358.wav\n",
      "Copied audio/FULL\\alu_nut_nio\\URecorder_20240717_142914.wav to temp_split_audio\\alu_nut_nio\\train\\URecorder_20240717_142914.wav\n",
      "Copied audio/FULL\\alu_nut_nio\\URecorder_20240717_103522.wav to temp_split_audio\\alu_nut_nio\\train\\URecorder_20240717_103522.wav\n",
      "Copied audio/FULL\\alu_nut_nio\\URecorder_20240717_135137.wav to temp_split_audio\\alu_nut_nio\\train\\URecorder_20240717_135137.wav\n",
      "Copied audio/FULL\\alu_nut_nio\\URecorder_20240717_131338.wav to temp_split_audio\\alu_nut_nio\\test\\URecorder_20240717_131338.wav\n",
      "Copied audio/FULL\\alu_nut_nio\\URecorder_20240717_135943.wav to temp_split_audio\\alu_nut_nio\\test\\URecorder_20240717_135943.wav\n",
      "Copied audio/FULL\\alu_nut_nio\\URecorder_20240717_112229.wav to temp_split_audio\\alu_nut_nio\\val\\URecorder_20240717_112229.wav\n",
      "Copied audio/FULL\\alu_nut_nio\\URecorder_20240717_143736.wav to temp_split_audio\\alu_nut_nio\\val\\URecorder_20240717_143736.wav\n",
      "Copied audio/FULL\\alu_nut_nio\\URecorder_20240717_130518.wav to temp_split_audio\\alu_nut_nio\\val\\URecorder_20240717_130518.wav\n",
      "Copied audio/FULL\\alu_nut_nio\\URecorder_20240717_142102.wav to temp_split_audio\\alu_nut_nio\\val\\URecorder_20240717_142102.wav\n",
      "Copied audio/FULL\\alu_ohne_io\\URecorder_20240715_101708.wav to temp_split_audio\\alu_ohne_io\\train\\URecorder_20240715_101708.wav\n",
      "Copied audio/FULL\\alu_ohne_io\\URecorder_20240715_095928.wav to temp_split_audio\\alu_ohne_io\\train\\URecorder_20240715_095928.wav\n",
      "Copied audio/FULL\\alu_ohne_io\\URecorder_20240715_111428.wav to temp_split_audio\\alu_ohne_io\\train\\URecorder_20240715_111428.wav\n",
      "Copied audio/FULL\\alu_ohne_io\\URecorder_20240715_105506.wav to temp_split_audio\\alu_ohne_io\\train\\URecorder_20240715_105506.wav\n",
      "Copied audio/FULL\\alu_ohne_io\\URecorder_20240715_133051.wav to temp_split_audio\\alu_ohne_io\\train\\URecorder_20240715_133051.wav\n",
      "Copied audio/FULL\\alu_ohne_io\\URecorder_20240715_094020.wav to temp_split_audio\\alu_ohne_io\\train\\URecorder_20240715_094020.wav\n",
      "Copied audio/FULL\\alu_ohne_io\\URecorder_20240715_104445.wav to temp_split_audio\\alu_ohne_io\\train\\URecorder_20240715_104445.wav\n",
      "Copied audio/FULL\\alu_ohne_io\\URecorder_20240715_100819.wav to temp_split_audio\\alu_ohne_io\\train\\URecorder_20240715_100819.wav\n",
      "Copied audio/FULL\\alu_ohne_io\\URecorder_20240715_110443.wav to temp_split_audio\\alu_ohne_io\\train\\URecorder_20240715_110443.wav\n",
      "Copied audio/FULL\\alu_ohne_io\\URecorder_20240715_112416.wav to temp_split_audio\\alu_ohne_io\\train\\URecorder_20240715_112416.wav\n",
      "Copied audio/FULL\\alu_ohne_io\\URecorder_20240715_140428.wav to temp_split_audio\\alu_ohne_io\\train\\URecorder_20240715_140428.wav\n",
      "Copied audio/FULL\\alu_ohne_io\\URecorder_20240715_132103.wav to temp_split_audio\\alu_ohne_io\\train\\URecorder_20240715_132103.wav\n",
      "Copied audio/FULL\\alu_ohne_io\\URecorder_20240715_135613.wav to temp_split_audio\\alu_ohne_io\\train\\URecorder_20240715_135613.wav\n",
      "Copied audio/FULL\\alu_ohne_io\\URecorder_20240715_114432.wav to temp_split_audio\\alu_ohne_io\\test\\URecorder_20240715_114432.wav\n",
      "Copied audio/FULL\\alu_ohne_io\\URecorder_20240715_131125.wav to temp_split_audio\\alu_ohne_io\\test\\URecorder_20240715_131125.wav\n",
      "Copied audio/FULL\\alu_ohne_io\\URecorder_20240715_103532.wav to temp_split_audio\\alu_ohne_io\\val\\URecorder_20240715_103532.wav\n",
      "Copied audio/FULL\\alu_ohne_io\\URecorder_20240715_113410.wav to temp_split_audio\\alu_ohne_io\\val\\URecorder_20240715_113410.wav\n",
      "Copied audio/FULL\\alu_ohne_io\\URecorder_20240715_095027.wav to temp_split_audio\\alu_ohne_io\\val\\URecorder_20240715_095027.wav\n",
      "Copied audio/FULL\\alu_ohne_io\\URecorder_20240715_102619.wav to temp_split_audio\\alu_ohne_io\\val\\URecorder_20240715_102619.wav\n",
      "Copied audio/FULL\\alu_ohne_nio\\URecorder_20240716_151842.wav to temp_split_audio\\alu_ohne_nio\\train\\URecorder_20240716_151842.wav\n",
      "Copied audio/FULL\\alu_ohne_nio\\URecorder_20240716_144613.wav to temp_split_audio\\alu_ohne_nio\\train\\URecorder_20240716_144613.wav\n",
      "Copied audio/FULL\\alu_ohne_nio\\URecorder_20240716_132321.wav to temp_split_audio\\alu_ohne_nio\\train\\URecorder_20240716_132321.wav\n",
      "Copied audio/FULL\\alu_ohne_nio\\URecorder_20240717_110819.wav to temp_split_audio\\alu_ohne_nio\\train\\URecorder_20240717_110819.wav\n",
      "Copied audio/FULL\\alu_ohne_nio\\URecorder_20240716_154347.wav to temp_split_audio\\alu_ohne_nio\\train\\URecorder_20240716_154347.wav\n",
      "Copied audio/FULL\\alu_ohne_nio\\URecorder_20240716_142917.wav to temp_split_audio\\alu_ohne_nio\\train\\URecorder_20240716_142917.wav\n",
      "Copied audio/FULL\\alu_ohne_nio\\URecorder_20240716_152650.wav to temp_split_audio\\alu_ohne_nio\\train\\URecorder_20240716_152650.wav\n",
      "Copied audio/FULL\\alu_ohne_nio\\URecorder_20240716_151036.wav to temp_split_audio\\alu_ohne_nio\\train\\URecorder_20240716_151036.wav\n",
      "Copied audio/FULL\\alu_ohne_nio\\URecorder_20240716_150231.wav to temp_split_audio\\alu_ohne_nio\\train\\URecorder_20240716_150231.wav\n",
      "Copied audio/FULL\\alu_ohne_nio\\URecorder_20240716_134145.wav to temp_split_audio\\alu_ohne_nio\\train\\URecorder_20240716_134145.wav\n",
      "Copied audio/FULL\\alu_ohne_nio\\URecorder_20240716_113830.wav to temp_split_audio\\alu_ohne_nio\\train\\URecorder_20240716_113830.wav\n",
      "Copied audio/FULL\\alu_ohne_nio\\URecorder_20240716_145425.wav to temp_split_audio\\alu_ohne_nio\\train\\URecorder_20240716_145425.wav\n",
      "Copied audio/FULL\\alu_ohne_nio\\URecorder_20240716_153458.wav to temp_split_audio\\alu_ohne_nio\\train\\URecorder_20240716_153458.wav\n",
      "Copied audio/FULL\\alu_ohne_nio\\URecorder_20240716_141112.wav to temp_split_audio\\alu_ohne_nio\\train\\URecorder_20240716_141112.wav\n",
      "Copied audio/FULL\\alu_ohne_nio\\URecorder_20240716_155450.wav to temp_split_audio\\alu_ohne_nio\\test\\URecorder_20240716_155450.wav\n",
      "Copied audio/FULL\\alu_ohne_nio\\URecorder_20240716_112927.wav to temp_split_audio\\alu_ohne_nio\\test\\URecorder_20240716_112927.wav\n",
      "Copied audio/FULL\\alu_ohne_nio\\URecorder_20240716_114654.wav to temp_split_audio\\alu_ohne_nio\\test\\URecorder_20240716_114654.wav\n",
      "Copied audio/FULL\\alu_ohne_nio\\URecorder_20240716_143728.wav to temp_split_audio\\alu_ohne_nio\\val\\URecorder_20240716_143728.wav\n",
      "Copied audio/FULL\\alu_ohne_nio\\URecorder_20240716_135105.wav to temp_split_audio\\alu_ohne_nio\\val\\URecorder_20240716_135105.wav\n",
      "Copied audio/FULL\\alu_ohne_nio\\URecorder_20240716_133258.wav to temp_split_audio\\alu_ohne_nio\\val\\URecorder_20240716_133258.wav\n",
      "Copied audio/FULL\\alu_ohne_nio\\URecorder_20240716_142053.wav to temp_split_audio\\alu_ohne_nio\\val\\URecorder_20240716_142053.wav\n"
     ]
    },
    {
     "name": "stderr",
     "output_type": "stream",
     "text": [
      "C:\\Users\\Alexa\\AppData\\Local\\Packages\\PythonSoftwareFoundation.Python.3.11_qbz5n2kfra8p0\\LocalCache\\local-packages\\Python311\\site-packages\\maad\\util\\miscellaneous.py:413: RuntimeWarning: divide by zero encountered in log10\n",
      "  y = 10*log10(x)   # take log\n"
     ]
    },
    {
     "name": "stdout",
     "output_type": "stream",
     "text": [
      "Segment 1 done in alu_ohne_io_URecorder_20240715_094020_segment_1.wav\n",
      "Segment 2 done in alu_ohne_io_URecorder_20240715_094020_segment_2.wav\n",
      "Segment 3 done in alu_ohne_io_URecorder_20240715_094020_segment_3.wav\n",
      "Segment 4 done in alu_ohne_io_URecorder_20240715_094020_segment_4.wav\n",
      "Segment 5 done in alu_ohne_io_URecorder_20240715_094020_segment_5.wav\n",
      "Segment 6 done in alu_ohne_io_URecorder_20240715_094020_segment_6.wav\n",
      "Segment 7 done in alu_ohne_io_URecorder_20240715_094020_segment_7.wav\n",
      "Segment 8 done in alu_ohne_io_URecorder_20240715_094020_segment_8.wav\n",
      "Segment 9 done in alu_ohne_io_URecorder_20240715_094020_segment_9.wav\n",
      "Segment 10 done in alu_ohne_io_URecorder_20240715_094020_segment_10.wav\n",
      "Segment 11 done in alu_ohne_io_URecorder_20240715_094020_segment_11.wav\n",
      "Segment 12 done in alu_ohne_io_URecorder_20240715_094020_segment_12.wav\n",
      "Segment 13 done in alu_ohne_io_URecorder_20240715_094020_segment_13.wav\n",
      "Segment 14 done in alu_ohne_io_URecorder_20240715_094020_segment_14.wav\n",
      "Segment 15 done in alu_ohne_io_URecorder_20240715_094020_segment_15.wav\n",
      "Segment 16 done in alu_ohne_io_URecorder_20240715_094020_segment_16.wav\n"
     ]
    },
    {
     "name": "stderr",
     "output_type": "stream",
     "text": [
      "C:\\Users\\Alexa\\AppData\\Local\\Packages\\PythonSoftwareFoundation.Python.3.11_qbz5n2kfra8p0\\LocalCache\\local-packages\\Python311\\site-packages\\maad\\util\\miscellaneous.py:413: RuntimeWarning: divide by zero encountered in log10\n",
      "  y = 10*log10(x)   # take log\n"
     ]
    },
    {
     "name": "stdout",
     "output_type": "stream",
     "text": [
      "Segment 1 done in alu_ohne_io_URecorder_20240715_095928_segment_1.wav\n",
      "Segment 2 done in alu_ohne_io_URecorder_20240715_095928_segment_2.wav\n",
      "Segment 3 done in alu_ohne_io_URecorder_20240715_095928_segment_3.wav\n",
      "Segment 4 done in alu_ohne_io_URecorder_20240715_095928_segment_4.wav\n",
      "Segment 5 done in alu_ohne_io_URecorder_20240715_095928_segment_5.wav\n",
      "Segment 6 done in alu_ohne_io_URecorder_20240715_095928_segment_6.wav\n",
      "Segment 7 done in alu_ohne_io_URecorder_20240715_095928_segment_7.wav\n",
      "Segment 8 done in alu_ohne_io_URecorder_20240715_095928_segment_8.wav\n",
      "Segment 9 done in alu_ohne_io_URecorder_20240715_095928_segment_9.wav\n",
      "Segment 10 done in alu_ohne_io_URecorder_20240715_095928_segment_10.wav\n",
      "Segment 11 done in alu_ohne_io_URecorder_20240715_095928_segment_11.wav\n",
      "Segment 12 done in alu_ohne_io_URecorder_20240715_095928_segment_12.wav\n",
      "Segment 13 done in alu_ohne_io_URecorder_20240715_095928_segment_13.wav\n",
      "Segment 14 done in alu_ohne_io_URecorder_20240715_095928_segment_14.wav\n",
      "Segment 15 done in alu_ohne_io_URecorder_20240715_095928_segment_15.wav\n",
      "Segment 16 done in alu_ohne_io_URecorder_20240715_095928_segment_16.wav\n",
      "Segment 17 done in alu_ohne_io_URecorder_20240715_095928_segment_17.wav\n",
      "Segment 18 done in alu_ohne_io_URecorder_20240715_095928_segment_18.wav\n",
      "Segment 19 done in alu_ohne_io_URecorder_20240715_095928_segment_19.wav\n"
     ]
    },
    {
     "name": "stderr",
     "output_type": "stream",
     "text": [
      "C:\\Users\\Alexa\\AppData\\Local\\Packages\\PythonSoftwareFoundation.Python.3.11_qbz5n2kfra8p0\\LocalCache\\local-packages\\Python311\\site-packages\\maad\\util\\miscellaneous.py:413: RuntimeWarning: divide by zero encountered in log10\n",
      "  y = 10*log10(x)   # take log\n"
     ]
    },
    {
     "name": "stdout",
     "output_type": "stream",
     "text": [
      "Segment 1 done in alu_ohne_io_URecorder_20240715_100819_segment_1.wav\n",
      "Segment 2 done in alu_ohne_io_URecorder_20240715_100819_segment_2.wav\n",
      "Segment 3 done in alu_ohne_io_URecorder_20240715_100819_segment_3.wav\n",
      "Segment 4 done in alu_ohne_io_URecorder_20240715_100819_segment_4.wav\n",
      "Segment 5 done in alu_ohne_io_URecorder_20240715_100819_segment_5.wav\n",
      "Segment 6 done in alu_ohne_io_URecorder_20240715_100819_segment_6.wav\n",
      "Segment 7 done in alu_ohne_io_URecorder_20240715_100819_segment_7.wav\n",
      "Segment 8 done in alu_ohne_io_URecorder_20240715_100819_segment_8.wav\n",
      "Segment 9 done in alu_ohne_io_URecorder_20240715_100819_segment_9.wav\n",
      "Segment 10 done in alu_ohne_io_URecorder_20240715_100819_segment_10.wav\n",
      "Segment 11 done in alu_ohne_io_URecorder_20240715_100819_segment_11.wav\n",
      "Segment 12 done in alu_ohne_io_URecorder_20240715_100819_segment_12.wav\n",
      "Segment 13 done in alu_ohne_io_URecorder_20240715_100819_segment_13.wav\n",
      "Segment 14 done in alu_ohne_io_URecorder_20240715_100819_segment_14.wav\n",
      "Segment 15 done in alu_ohne_io_URecorder_20240715_100819_segment_15.wav\n",
      "Segment 16 done in alu_ohne_io_URecorder_20240715_100819_segment_16.wav\n",
      "Segment 17 done in alu_ohne_io_URecorder_20240715_100819_segment_17.wav\n"
     ]
    },
    {
     "name": "stderr",
     "output_type": "stream",
     "text": [
      "C:\\Users\\Alexa\\AppData\\Local\\Packages\\PythonSoftwareFoundation.Python.3.11_qbz5n2kfra8p0\\LocalCache\\local-packages\\Python311\\site-packages\\maad\\util\\miscellaneous.py:413: RuntimeWarning: divide by zero encountered in log10\n",
      "  y = 10*log10(x)   # take log\n"
     ]
    },
    {
     "name": "stdout",
     "output_type": "stream",
     "text": [
      "Segment 1 done in alu_ohne_io_URecorder_20240715_101708_segment_1.wav\n",
      "Segment 2 done in alu_ohne_io_URecorder_20240715_101708_segment_2.wav\n",
      "Segment 3 done in alu_ohne_io_URecorder_20240715_101708_segment_3.wav\n",
      "Segment 4 done in alu_ohne_io_URecorder_20240715_101708_segment_4.wav\n",
      "Segment 5 done in alu_ohne_io_URecorder_20240715_101708_segment_5.wav\n",
      "Segment 6 done in alu_ohne_io_URecorder_20240715_101708_segment_6.wav\n",
      "Segment 7 done in alu_ohne_io_URecorder_20240715_101708_segment_7.wav\n",
      "Segment 8 done in alu_ohne_io_URecorder_20240715_101708_segment_8.wav\n",
      "Segment 9 done in alu_ohne_io_URecorder_20240715_101708_segment_9.wav\n",
      "Segment 10 done in alu_ohne_io_URecorder_20240715_101708_segment_10.wav\n",
      "Segment 11 done in alu_ohne_io_URecorder_20240715_101708_segment_11.wav\n",
      "Segment 12 done in alu_ohne_io_URecorder_20240715_101708_segment_12.wav\n",
      "Segment 13 done in alu_ohne_io_URecorder_20240715_101708_segment_13.wav\n",
      "Segment 14 done in alu_ohne_io_URecorder_20240715_101708_segment_14.wav\n",
      "Segment 15 done in alu_ohne_io_URecorder_20240715_101708_segment_15.wav\n",
      "Segment 16 done in alu_ohne_io_URecorder_20240715_101708_segment_16.wav\n",
      "Segment 17 done in alu_ohne_io_URecorder_20240715_101708_segment_17.wav\n",
      "Segment 18 done in alu_ohne_io_URecorder_20240715_101708_segment_18.wav\n"
     ]
    },
    {
     "name": "stderr",
     "output_type": "stream",
     "text": [
      "C:\\Users\\Alexa\\AppData\\Local\\Packages\\PythonSoftwareFoundation.Python.3.11_qbz5n2kfra8p0\\LocalCache\\local-packages\\Python311\\site-packages\\maad\\util\\miscellaneous.py:413: RuntimeWarning: divide by zero encountered in log10\n",
      "  y = 10*log10(x)   # take log\n"
     ]
    },
    {
     "name": "stdout",
     "output_type": "stream",
     "text": [
      "Segment 1 done in alu_ohne_io_URecorder_20240715_104445_segment_1.wav\n",
      "Segment 2 done in alu_ohne_io_URecorder_20240715_104445_segment_2.wav\n",
      "Segment 3 done in alu_ohne_io_URecorder_20240715_104445_segment_3.wav\n",
      "Segment 4 done in alu_ohne_io_URecorder_20240715_104445_segment_4.wav\n",
      "Segment 5 done in alu_ohne_io_URecorder_20240715_104445_segment_5.wav\n",
      "Segment 6 done in alu_ohne_io_URecorder_20240715_104445_segment_6.wav\n",
      "Segment 7 done in alu_ohne_io_URecorder_20240715_104445_segment_7.wav\n",
      "Segment 8 done in alu_ohne_io_URecorder_20240715_104445_segment_8.wav\n",
      "Segment 9 done in alu_ohne_io_URecorder_20240715_104445_segment_9.wav\n",
      "Segment 10 done in alu_ohne_io_URecorder_20240715_104445_segment_10.wav\n",
      "Segment 11 done in alu_ohne_io_URecorder_20240715_104445_segment_11.wav\n",
      "Segment 12 done in alu_ohne_io_URecorder_20240715_104445_segment_12.wav\n",
      "Segment 13 done in alu_ohne_io_URecorder_20240715_104445_segment_13.wav\n",
      "Segment 14 done in alu_ohne_io_URecorder_20240715_104445_segment_14.wav\n",
      "Segment 15 done in alu_ohne_io_URecorder_20240715_104445_segment_15.wav\n",
      "Segment 16 done in alu_ohne_io_URecorder_20240715_104445_segment_16.wav\n",
      "Segment 17 done in alu_ohne_io_URecorder_20240715_104445_segment_17.wav\n"
     ]
    },
    {
     "name": "stderr",
     "output_type": "stream",
     "text": [
      "C:\\Users\\Alexa\\AppData\\Local\\Packages\\PythonSoftwareFoundation.Python.3.11_qbz5n2kfra8p0\\LocalCache\\local-packages\\Python311\\site-packages\\maad\\util\\miscellaneous.py:413: RuntimeWarning: divide by zero encountered in log10\n",
      "  y = 10*log10(x)   # take log\n"
     ]
    },
    {
     "name": "stdout",
     "output_type": "stream",
     "text": [
      "Segment 1 done in alu_ohne_io_URecorder_20240715_105506_segment_1.wav\n",
      "Segment 2 done in alu_ohne_io_URecorder_20240715_105506_segment_2.wav\n",
      "Segment 3 done in alu_ohne_io_URecorder_20240715_105506_segment_3.wav\n",
      "Segment 4 done in alu_ohne_io_URecorder_20240715_105506_segment_4.wav\n",
      "Segment 5 done in alu_ohne_io_URecorder_20240715_105506_segment_5.wav\n",
      "Segment 6 done in alu_ohne_io_URecorder_20240715_105506_segment_6.wav\n",
      "Segment 7 done in alu_ohne_io_URecorder_20240715_105506_segment_7.wav\n",
      "Segment 8 done in alu_ohne_io_URecorder_20240715_105506_segment_8.wav\n",
      "Segment 9 done in alu_ohne_io_URecorder_20240715_105506_segment_9.wav\n",
      "Segment 10 done in alu_ohne_io_URecorder_20240715_105506_segment_10.wav\n",
      "Segment 11 done in alu_ohne_io_URecorder_20240715_105506_segment_11.wav\n",
      "Segment 12 done in alu_ohne_io_URecorder_20240715_105506_segment_12.wav\n",
      "Segment 13 done in alu_ohne_io_URecorder_20240715_105506_segment_13.wav\n",
      "Segment 14 done in alu_ohne_io_URecorder_20240715_105506_segment_14.wav\n",
      "Segment 15 done in alu_ohne_io_URecorder_20240715_105506_segment_15.wav\n",
      "Segment 16 done in alu_ohne_io_URecorder_20240715_105506_segment_16.wav\n",
      "Segment 17 done in alu_ohne_io_URecorder_20240715_105506_segment_17.wav\n"
     ]
    },
    {
     "name": "stderr",
     "output_type": "stream",
     "text": [
      "C:\\Users\\Alexa\\AppData\\Local\\Packages\\PythonSoftwareFoundation.Python.3.11_qbz5n2kfra8p0\\LocalCache\\local-packages\\Python311\\site-packages\\maad\\util\\miscellaneous.py:413: RuntimeWarning: divide by zero encountered in log10\n",
      "  y = 10*log10(x)   # take log\n"
     ]
    },
    {
     "name": "stdout",
     "output_type": "stream",
     "text": [
      "Segment 1 done in alu_ohne_io_URecorder_20240715_110443_segment_1.wav\n",
      "Segment 2 done in alu_ohne_io_URecorder_20240715_110443_segment_2.wav\n",
      "Segment 3 done in alu_ohne_io_URecorder_20240715_110443_segment_3.wav\n",
      "Segment 4 done in alu_ohne_io_URecorder_20240715_110443_segment_4.wav\n",
      "Segment 5 done in alu_ohne_io_URecorder_20240715_110443_segment_5.wav\n",
      "Segment 6 done in alu_ohne_io_URecorder_20240715_110443_segment_6.wav\n",
      "Segment 7 done in alu_ohne_io_URecorder_20240715_110443_segment_7.wav\n",
      "Segment 8 done in alu_ohne_io_URecorder_20240715_110443_segment_8.wav\n",
      "Segment 9 done in alu_ohne_io_URecorder_20240715_110443_segment_9.wav\n",
      "Segment 10 done in alu_ohne_io_URecorder_20240715_110443_segment_10.wav\n",
      "Segment 11 done in alu_ohne_io_URecorder_20240715_110443_segment_11.wav\n",
      "Segment 12 done in alu_ohne_io_URecorder_20240715_110443_segment_12.wav\n",
      "Segment 13 done in alu_ohne_io_URecorder_20240715_110443_segment_13.wav\n",
      "Segment 14 done in alu_ohne_io_URecorder_20240715_110443_segment_14.wav\n",
      "Segment 15 done in alu_ohne_io_URecorder_20240715_110443_segment_15.wav\n",
      "Segment 16 done in alu_ohne_io_URecorder_20240715_110443_segment_16.wav\n",
      "Segment 17 done in alu_ohne_io_URecorder_20240715_110443_segment_17.wav\n"
     ]
    },
    {
     "name": "stderr",
     "output_type": "stream",
     "text": [
      "C:\\Users\\Alexa\\AppData\\Local\\Packages\\PythonSoftwareFoundation.Python.3.11_qbz5n2kfra8p0\\LocalCache\\local-packages\\Python311\\site-packages\\maad\\util\\miscellaneous.py:413: RuntimeWarning: divide by zero encountered in log10\n",
      "  y = 10*log10(x)   # take log\n"
     ]
    },
    {
     "name": "stdout",
     "output_type": "stream",
     "text": [
      "Segment 1 done in alu_ohne_io_URecorder_20240715_111428_segment_1.wav\n",
      "Segment 2 done in alu_ohne_io_URecorder_20240715_111428_segment_2.wav\n",
      "Segment 3 done in alu_ohne_io_URecorder_20240715_111428_segment_3.wav\n",
      "Segment 4 done in alu_ohne_io_URecorder_20240715_111428_segment_4.wav\n",
      "Segment 5 done in alu_ohne_io_URecorder_20240715_111428_segment_5.wav\n",
      "Segment 6 done in alu_ohne_io_URecorder_20240715_111428_segment_6.wav\n",
      "Segment 7 done in alu_ohne_io_URecorder_20240715_111428_segment_7.wav\n",
      "Segment 8 done in alu_ohne_io_URecorder_20240715_111428_segment_8.wav\n",
      "Segment 9 done in alu_ohne_io_URecorder_20240715_111428_segment_9.wav\n",
      "Segment 10 done in alu_ohne_io_URecorder_20240715_111428_segment_10.wav\n",
      "Segment 11 done in alu_ohne_io_URecorder_20240715_111428_segment_11.wav\n",
      "Segment 12 done in alu_ohne_io_URecorder_20240715_111428_segment_12.wav\n",
      "Segment 13 done in alu_ohne_io_URecorder_20240715_111428_segment_13.wav\n",
      "Segment 14 done in alu_ohne_io_URecorder_20240715_111428_segment_14.wav\n",
      "Segment 15 done in alu_ohne_io_URecorder_20240715_111428_segment_15.wav\n"
     ]
    },
    {
     "name": "stderr",
     "output_type": "stream",
     "text": [
      "C:\\Users\\Alexa\\AppData\\Local\\Packages\\PythonSoftwareFoundation.Python.3.11_qbz5n2kfra8p0\\LocalCache\\local-packages\\Python311\\site-packages\\maad\\util\\miscellaneous.py:413: RuntimeWarning: divide by zero encountered in log10\n",
      "  y = 10*log10(x)   # take log\n"
     ]
    },
    {
     "name": "stdout",
     "output_type": "stream",
     "text": [
      "Segment 1 done in alu_ohne_io_URecorder_20240715_112416_segment_1.wav\n",
      "Segment 2 done in alu_ohne_io_URecorder_20240715_112416_segment_2.wav\n",
      "Segment 3 done in alu_ohne_io_URecorder_20240715_112416_segment_3.wav\n",
      "Segment 4 done in alu_ohne_io_URecorder_20240715_112416_segment_4.wav\n",
      "Segment 5 done in alu_ohne_io_URecorder_20240715_112416_segment_5.wav\n",
      "Segment 6 done in alu_ohne_io_URecorder_20240715_112416_segment_6.wav\n",
      "Segment 7 done in alu_ohne_io_URecorder_20240715_112416_segment_7.wav\n",
      "Segment 8 done in alu_ohne_io_URecorder_20240715_112416_segment_8.wav\n",
      "Segment 9 done in alu_ohne_io_URecorder_20240715_112416_segment_9.wav\n",
      "Segment 10 done in alu_ohne_io_URecorder_20240715_112416_segment_10.wav\n",
      "Segment 11 done in alu_ohne_io_URecorder_20240715_112416_segment_11.wav\n",
      "Segment 12 done in alu_ohne_io_URecorder_20240715_112416_segment_12.wav\n",
      "Segment 13 done in alu_ohne_io_URecorder_20240715_112416_segment_13.wav\n"
     ]
    },
    {
     "name": "stderr",
     "output_type": "stream",
     "text": [
      "C:\\Users\\Alexa\\AppData\\Local\\Packages\\PythonSoftwareFoundation.Python.3.11_qbz5n2kfra8p0\\LocalCache\\local-packages\\Python311\\site-packages\\maad\\util\\miscellaneous.py:413: RuntimeWarning: divide by zero encountered in log10\n",
      "  y = 10*log10(x)   # take log\n"
     ]
    },
    {
     "name": "stdout",
     "output_type": "stream",
     "text": [
      "Segment 1 done in alu_ohne_io_URecorder_20240715_132103_segment_1.wav\n",
      "Segment 2 done in alu_ohne_io_URecorder_20240715_132103_segment_2.wav\n",
      "Segment 3 done in alu_ohne_io_URecorder_20240715_132103_segment_3.wav\n",
      "Segment 4 done in alu_ohne_io_URecorder_20240715_132103_segment_4.wav\n",
      "Segment 5 done in alu_ohne_io_URecorder_20240715_132103_segment_5.wav\n",
      "Segment 6 done in alu_ohne_io_URecorder_20240715_132103_segment_6.wav\n",
      "Segment 7 done in alu_ohne_io_URecorder_20240715_132103_segment_7.wav\n",
      "Segment 8 done in alu_ohne_io_URecorder_20240715_132103_segment_8.wav\n",
      "Segment 9 done in alu_ohne_io_URecorder_20240715_132103_segment_9.wav\n",
      "Segment 10 done in alu_ohne_io_URecorder_20240715_132103_segment_10.wav\n",
      "Segment 11 done in alu_ohne_io_URecorder_20240715_132103_segment_11.wav\n",
      "Segment 12 done in alu_ohne_io_URecorder_20240715_132103_segment_12.wav\n",
      "Segment 13 done in alu_ohne_io_URecorder_20240715_132103_segment_13.wav\n",
      "Segment 14 done in alu_ohne_io_URecorder_20240715_132103_segment_14.wav\n",
      "Segment 15 done in alu_ohne_io_URecorder_20240715_132103_segment_15.wav\n",
      "Segment 16 done in alu_ohne_io_URecorder_20240715_132103_segment_16.wav\n",
      "Segment 17 done in alu_ohne_io_URecorder_20240715_132103_segment_17.wav\n",
      "Segment 18 done in alu_ohne_io_URecorder_20240715_132103_segment_18.wav\n",
      "Segment 19 done in alu_ohne_io_URecorder_20240715_132103_segment_19.wav\n"
     ]
    },
    {
     "name": "stderr",
     "output_type": "stream",
     "text": [
      "C:\\Users\\Alexa\\AppData\\Local\\Packages\\PythonSoftwareFoundation.Python.3.11_qbz5n2kfra8p0\\LocalCache\\local-packages\\Python311\\site-packages\\maad\\util\\miscellaneous.py:413: RuntimeWarning: divide by zero encountered in log10\n",
      "  y = 10*log10(x)   # take log\n"
     ]
    },
    {
     "name": "stdout",
     "output_type": "stream",
     "text": [
      "Segment 1 done in alu_ohne_io_URecorder_20240715_133051_segment_1.wav\n",
      "Segment 2 done in alu_ohne_io_URecorder_20240715_133051_segment_2.wav\n",
      "Segment 3 done in alu_ohne_io_URecorder_20240715_133051_segment_3.wav\n",
      "Segment 4 done in alu_ohne_io_URecorder_20240715_133051_segment_4.wav\n",
      "Segment 5 done in alu_ohne_io_URecorder_20240715_133051_segment_5.wav\n",
      "Segment 6 done in alu_ohne_io_URecorder_20240715_133051_segment_6.wav\n",
      "Segment 7 done in alu_ohne_io_URecorder_20240715_133051_segment_7.wav\n",
      "Segment 8 done in alu_ohne_io_URecorder_20240715_133051_segment_8.wav\n",
      "Segment 9 done in alu_ohne_io_URecorder_20240715_133051_segment_9.wav\n",
      "Segment 10 done in alu_ohne_io_URecorder_20240715_133051_segment_10.wav\n",
      "Segment 11 done in alu_ohne_io_URecorder_20240715_133051_segment_11.wav\n",
      "Segment 12 done in alu_ohne_io_URecorder_20240715_133051_segment_12.wav\n",
      "Segment 13 done in alu_ohne_io_URecorder_20240715_133051_segment_13.wav\n",
      "Segment 14 done in alu_ohne_io_URecorder_20240715_133051_segment_14.wav\n",
      "Segment 15 done in alu_ohne_io_URecorder_20240715_133051_segment_15.wav\n",
      "Segment 16 done in alu_ohne_io_URecorder_20240715_133051_segment_16.wav\n",
      "Segment 17 done in alu_ohne_io_URecorder_20240715_133051_segment_17.wav\n",
      "Segment 18 done in alu_ohne_io_URecorder_20240715_133051_segment_18.wav\n"
     ]
    },
    {
     "name": "stderr",
     "output_type": "stream",
     "text": [
      "C:\\Users\\Alexa\\AppData\\Local\\Packages\\PythonSoftwareFoundation.Python.3.11_qbz5n2kfra8p0\\LocalCache\\local-packages\\Python311\\site-packages\\maad\\util\\miscellaneous.py:413: RuntimeWarning: divide by zero encountered in log10\n",
      "  y = 10*log10(x)   # take log\n"
     ]
    },
    {
     "name": "stdout",
     "output_type": "stream",
     "text": [
      "Segment 1 done in alu_ohne_io_URecorder_20240715_135613_segment_1.wav\n",
      "Segment 2 done in alu_ohne_io_URecorder_20240715_135613_segment_2.wav\n",
      "Segment 3 done in alu_ohne_io_URecorder_20240715_135613_segment_3.wav\n",
      "Segment 4 done in alu_ohne_io_URecorder_20240715_135613_segment_4.wav\n",
      "Segment 5 done in alu_ohne_io_URecorder_20240715_135613_segment_5.wav\n",
      "Segment 6 done in alu_ohne_io_URecorder_20240715_135613_segment_6.wav\n",
      "Segment 7 done in alu_ohne_io_URecorder_20240715_135613_segment_7.wav\n",
      "Segment 8 done in alu_ohne_io_URecorder_20240715_135613_segment_8.wav\n",
      "Segment 9 done in alu_ohne_io_URecorder_20240715_135613_segment_9.wav\n",
      "Segment 10 done in alu_ohne_io_URecorder_20240715_135613_segment_10.wav\n",
      "Segment 11 done in alu_ohne_io_URecorder_20240715_135613_segment_11.wav\n",
      "Segment 12 done in alu_ohne_io_URecorder_20240715_135613_segment_12.wav\n",
      "Segment 13 done in alu_ohne_io_URecorder_20240715_135613_segment_13.wav\n",
      "Segment 14 done in alu_ohne_io_URecorder_20240715_135613_segment_14.wav\n",
      "Segment 15 done in alu_ohne_io_URecorder_20240715_135613_segment_15.wav\n",
      "Segment 16 done in alu_ohne_io_URecorder_20240715_135613_segment_16.wav\n"
     ]
    },
    {
     "name": "stderr",
     "output_type": "stream",
     "text": [
      "C:\\Users\\Alexa\\AppData\\Local\\Packages\\PythonSoftwareFoundation.Python.3.11_qbz5n2kfra8p0\\LocalCache\\local-packages\\Python311\\site-packages\\maad\\util\\miscellaneous.py:413: RuntimeWarning: divide by zero encountered in log10\n",
      "  y = 10*log10(x)   # take log\n"
     ]
    },
    {
     "name": "stdout",
     "output_type": "stream",
     "text": [
      "Segment 1 done in alu_ohne_io_URecorder_20240715_140428_segment_1.wav\n",
      "Segment 2 done in alu_ohne_io_URecorder_20240715_140428_segment_2.wav\n",
      "Segment 3 done in alu_ohne_io_URecorder_20240715_140428_segment_3.wav\n",
      "Segment 4 done in alu_ohne_io_URecorder_20240715_140428_segment_4.wav\n",
      "Segment 5 done in alu_ohne_io_URecorder_20240715_140428_segment_5.wav\n",
      "Segment 6 done in alu_ohne_io_URecorder_20240715_140428_segment_6.wav\n",
      "Segment 7 done in alu_ohne_io_URecorder_20240715_140428_segment_7.wav\n",
      "Segment 8 done in alu_ohne_io_URecorder_20240715_140428_segment_8.wav\n",
      "Segment 9 done in alu_ohne_io_URecorder_20240715_140428_segment_9.wav\n",
      "Segment 10 done in alu_ohne_io_URecorder_20240715_140428_segment_10.wav\n",
      "Segment 11 done in alu_ohne_io_URecorder_20240715_140428_segment_11.wav\n",
      "Segment 12 done in alu_ohne_io_URecorder_20240715_140428_segment_12.wav\n",
      "Segment 13 done in alu_ohne_io_URecorder_20240715_140428_segment_13.wav\n",
      "Segment 14 done in alu_ohne_io_URecorder_20240715_140428_segment_14.wav\n",
      "Segment 15 done in alu_ohne_io_URecorder_20240715_140428_segment_15.wav\n",
      "Segment 16 done in alu_ohne_io_URecorder_20240715_140428_segment_16.wav\n",
      "Segment 17 done in alu_ohne_io_URecorder_20240715_140428_segment_17.wav\n"
     ]
    },
    {
     "name": "stderr",
     "output_type": "stream",
     "text": [
      "C:\\Users\\Alexa\\AppData\\Local\\Packages\\PythonSoftwareFoundation.Python.3.11_qbz5n2kfra8p0\\LocalCache\\local-packages\\Python311\\site-packages\\maad\\util\\miscellaneous.py:413: RuntimeWarning: divide by zero encountered in log10\n",
      "  y = 10*log10(x)   # take log\n"
     ]
    },
    {
     "name": "stdout",
     "output_type": "stream",
     "text": [
      "Segment 1 done in alu_ohne_nio_URecorder_20240716_113830_segment_1.wav\n",
      "Segment 2 done in alu_ohne_nio_URecorder_20240716_113830_segment_2.wav\n",
      "Segment 3 done in alu_ohne_nio_URecorder_20240716_113830_segment_3.wav\n",
      "Segment 4 done in alu_ohne_nio_URecorder_20240716_113830_segment_4.wav\n",
      "Segment 5 done in alu_ohne_nio_URecorder_20240716_113830_segment_5.wav\n",
      "Segment 6 done in alu_ohne_nio_URecorder_20240716_113830_segment_6.wav\n",
      "Segment 7 done in alu_ohne_nio_URecorder_20240716_113830_segment_7.wav\n",
      "Segment 8 done in alu_ohne_nio_URecorder_20240716_113830_segment_8.wav\n",
      "Segment 9 done in alu_ohne_nio_URecorder_20240716_113830_segment_9.wav\n",
      "Segment 10 done in alu_ohne_nio_URecorder_20240716_113830_segment_10.wav\n",
      "Segment 11 done in alu_ohne_nio_URecorder_20240716_113830_segment_11.wav\n",
      "Segment 12 done in alu_ohne_nio_URecorder_20240716_113830_segment_12.wav\n",
      "Segment 13 done in alu_ohne_nio_URecorder_20240716_113830_segment_13.wav\n",
      "Segment 14 done in alu_ohne_nio_URecorder_20240716_113830_segment_14.wav\n",
      "Segment 15 done in alu_ohne_nio_URecorder_20240716_113830_segment_15.wav\n",
      "Segment 16 done in alu_ohne_nio_URecorder_20240716_113830_segment_16.wav\n",
      "Segment 17 done in alu_ohne_nio_URecorder_20240716_113830_segment_17.wav\n",
      "Segment 18 done in alu_ohne_nio_URecorder_20240716_113830_segment_18.wav\n",
      "Segment 19 done in alu_ohne_nio_URecorder_20240716_113830_segment_19.wav\n"
     ]
    },
    {
     "name": "stderr",
     "output_type": "stream",
     "text": [
      "C:\\Users\\Alexa\\AppData\\Local\\Packages\\PythonSoftwareFoundation.Python.3.11_qbz5n2kfra8p0\\LocalCache\\local-packages\\Python311\\site-packages\\maad\\util\\miscellaneous.py:413: RuntimeWarning: divide by zero encountered in log10\n",
      "  y = 10*log10(x)   # take log\n"
     ]
    },
    {
     "name": "stdout",
     "output_type": "stream",
     "text": [
      "Segment 1 done in alu_ohne_nio_URecorder_20240716_132321_segment_1.wav\n",
      "Segment 2 done in alu_ohne_nio_URecorder_20240716_132321_segment_2.wav\n",
      "Segment 3 done in alu_ohne_nio_URecorder_20240716_132321_segment_3.wav\n",
      "Segment 4 done in alu_ohne_nio_URecorder_20240716_132321_segment_4.wav\n",
      "Segment 5 done in alu_ohne_nio_URecorder_20240716_132321_segment_5.wav\n",
      "Segment 6 done in alu_ohne_nio_URecorder_20240716_132321_segment_6.wav\n",
      "Segment 7 done in alu_ohne_nio_URecorder_20240716_132321_segment_7.wav\n",
      "Segment 8 done in alu_ohne_nio_URecorder_20240716_132321_segment_8.wav\n",
      "Segment 9 done in alu_ohne_nio_URecorder_20240716_132321_segment_9.wav\n",
      "Segment 10 done in alu_ohne_nio_URecorder_20240716_132321_segment_10.wav\n",
      "Segment 11 done in alu_ohne_nio_URecorder_20240716_132321_segment_11.wav\n",
      "Segment 12 done in alu_ohne_nio_URecorder_20240716_132321_segment_12.wav\n",
      "Segment 13 done in alu_ohne_nio_URecorder_20240716_132321_segment_13.wav\n",
      "Segment 14 done in alu_ohne_nio_URecorder_20240716_132321_segment_14.wav\n",
      "Segment 15 done in alu_ohne_nio_URecorder_20240716_132321_segment_15.wav\n",
      "Segment 16 done in alu_ohne_nio_URecorder_20240716_132321_segment_16.wav\n",
      "Segment 17 done in alu_ohne_nio_URecorder_20240716_132321_segment_17.wav\n",
      "Segment 18 done in alu_ohne_nio_URecorder_20240716_132321_segment_18.wav\n"
     ]
    },
    {
     "name": "stderr",
     "output_type": "stream",
     "text": [
      "C:\\Users\\Alexa\\AppData\\Local\\Packages\\PythonSoftwareFoundation.Python.3.11_qbz5n2kfra8p0\\LocalCache\\local-packages\\Python311\\site-packages\\maad\\util\\miscellaneous.py:413: RuntimeWarning: divide by zero encountered in log10\n",
      "  y = 10*log10(x)   # take log\n"
     ]
    },
    {
     "name": "stdout",
     "output_type": "stream",
     "text": [
      "Segment 1 done in alu_ohne_nio_URecorder_20240716_134145_segment_1.wav\n",
      "Segment 2 done in alu_ohne_nio_URecorder_20240716_134145_segment_2.wav\n",
      "Segment 3 done in alu_ohne_nio_URecorder_20240716_134145_segment_3.wav\n",
      "Segment 4 done in alu_ohne_nio_URecorder_20240716_134145_segment_4.wav\n",
      "Segment 5 done in alu_ohne_nio_URecorder_20240716_134145_segment_5.wav\n",
      "Segment 6 done in alu_ohne_nio_URecorder_20240716_134145_segment_6.wav\n",
      "Segment 7 done in alu_ohne_nio_URecorder_20240716_134145_segment_7.wav\n",
      "Segment 8 done in alu_ohne_nio_URecorder_20240716_134145_segment_8.wav\n",
      "Segment 9 done in alu_ohne_nio_URecorder_20240716_134145_segment_9.wav\n",
      "Segment 10 done in alu_ohne_nio_URecorder_20240716_134145_segment_10.wav\n",
      "Segment 11 done in alu_ohne_nio_URecorder_20240716_134145_segment_11.wav\n",
      "Segment 12 done in alu_ohne_nio_URecorder_20240716_134145_segment_12.wav\n",
      "Segment 13 done in alu_ohne_nio_URecorder_20240716_134145_segment_13.wav\n",
      "Segment 14 done in alu_ohne_nio_URecorder_20240716_134145_segment_14.wav\n",
      "Segment 15 done in alu_ohne_nio_URecorder_20240716_134145_segment_15.wav\n",
      "Segment 16 done in alu_ohne_nio_URecorder_20240716_134145_segment_16.wav\n",
      "Segment 17 done in alu_ohne_nio_URecorder_20240716_134145_segment_17.wav\n",
      "Segment 18 done in alu_ohne_nio_URecorder_20240716_134145_segment_18.wav\n",
      "Segment 19 done in alu_ohne_nio_URecorder_20240716_134145_segment_19.wav\n"
     ]
    },
    {
     "name": "stderr",
     "output_type": "stream",
     "text": [
      "C:\\Users\\Alexa\\AppData\\Local\\Packages\\PythonSoftwareFoundation.Python.3.11_qbz5n2kfra8p0\\LocalCache\\local-packages\\Python311\\site-packages\\maad\\util\\miscellaneous.py:413: RuntimeWarning: divide by zero encountered in log10\n",
      "  y = 10*log10(x)   # take log\n"
     ]
    },
    {
     "name": "stdout",
     "output_type": "stream",
     "text": [
      "Segment 1 done in alu_ohne_nio_URecorder_20240716_141112_segment_1.wav\n",
      "Segment 2 done in alu_ohne_nio_URecorder_20240716_141112_segment_2.wav\n",
      "Segment 3 done in alu_ohne_nio_URecorder_20240716_141112_segment_3.wav\n",
      "Segment 4 done in alu_ohne_nio_URecorder_20240716_141112_segment_4.wav\n",
      "Segment 5 done in alu_ohne_nio_URecorder_20240716_141112_segment_5.wav\n",
      "Segment 6 done in alu_ohne_nio_URecorder_20240716_141112_segment_6.wav\n",
      "Segment 7 done in alu_ohne_nio_URecorder_20240716_141112_segment_7.wav\n",
      "Segment 8 done in alu_ohne_nio_URecorder_20240716_141112_segment_8.wav\n",
      "Segment 9 done in alu_ohne_nio_URecorder_20240716_141112_segment_9.wav\n",
      "Segment 10 done in alu_ohne_nio_URecorder_20240716_141112_segment_10.wav\n",
      "Segment 11 done in alu_ohne_nio_URecorder_20240716_141112_segment_11.wav\n",
      "Segment 12 done in alu_ohne_nio_URecorder_20240716_141112_segment_12.wav\n",
      "Segment 13 done in alu_ohne_nio_URecorder_20240716_141112_segment_13.wav\n",
      "Segment 14 done in alu_ohne_nio_URecorder_20240716_141112_segment_14.wav\n",
      "Segment 15 done in alu_ohne_nio_URecorder_20240716_141112_segment_15.wav\n",
      "Segment 16 done in alu_ohne_nio_URecorder_20240716_141112_segment_16.wav\n",
      "Segment 17 done in alu_ohne_nio_URecorder_20240716_141112_segment_17.wav\n",
      "Segment 18 done in alu_ohne_nio_URecorder_20240716_141112_segment_18.wav\n",
      "Segment 19 done in alu_ohne_nio_URecorder_20240716_141112_segment_19.wav\n"
     ]
    },
    {
     "name": "stderr",
     "output_type": "stream",
     "text": [
      "C:\\Users\\Alexa\\AppData\\Local\\Packages\\PythonSoftwareFoundation.Python.3.11_qbz5n2kfra8p0\\LocalCache\\local-packages\\Python311\\site-packages\\maad\\util\\miscellaneous.py:413: RuntimeWarning: divide by zero encountered in log10\n",
      "  y = 10*log10(x)   # take log\n"
     ]
    },
    {
     "name": "stdout",
     "output_type": "stream",
     "text": [
      "Segment 1 done in alu_ohne_nio_URecorder_20240716_142917_segment_1.wav\n",
      "Segment 2 done in alu_ohne_nio_URecorder_20240716_142917_segment_2.wav\n",
      "Segment 3 done in alu_ohne_nio_URecorder_20240716_142917_segment_3.wav\n",
      "Segment 4 done in alu_ohne_nio_URecorder_20240716_142917_segment_4.wav\n",
      "Segment 5 done in alu_ohne_nio_URecorder_20240716_142917_segment_5.wav\n",
      "Segment 6 done in alu_ohne_nio_URecorder_20240716_142917_segment_6.wav\n",
      "Segment 7 done in alu_ohne_nio_URecorder_20240716_142917_segment_7.wav\n",
      "Segment 8 done in alu_ohne_nio_URecorder_20240716_142917_segment_8.wav\n",
      "Segment 9 done in alu_ohne_nio_URecorder_20240716_142917_segment_9.wav\n",
      "Segment 10 done in alu_ohne_nio_URecorder_20240716_142917_segment_10.wav\n",
      "Segment 11 done in alu_ohne_nio_URecorder_20240716_142917_segment_11.wav\n",
      "Segment 12 done in alu_ohne_nio_URecorder_20240716_142917_segment_12.wav\n",
      "Segment 13 done in alu_ohne_nio_URecorder_20240716_142917_segment_13.wav\n",
      "Segment 14 done in alu_ohne_nio_URecorder_20240716_142917_segment_14.wav\n",
      "Segment 15 done in alu_ohne_nio_URecorder_20240716_142917_segment_15.wav\n",
      "Segment 16 done in alu_ohne_nio_URecorder_20240716_142917_segment_16.wav\n",
      "Segment 17 done in alu_ohne_nio_URecorder_20240716_142917_segment_17.wav\n",
      "Segment 18 done in alu_ohne_nio_URecorder_20240716_142917_segment_18.wav\n",
      "Segment 19 done in alu_ohne_nio_URecorder_20240716_142917_segment_19.wav\n"
     ]
    },
    {
     "name": "stderr",
     "output_type": "stream",
     "text": [
      "C:\\Users\\Alexa\\AppData\\Local\\Packages\\PythonSoftwareFoundation.Python.3.11_qbz5n2kfra8p0\\LocalCache\\local-packages\\Python311\\site-packages\\maad\\util\\miscellaneous.py:413: RuntimeWarning: divide by zero encountered in log10\n",
      "  y = 10*log10(x)   # take log\n"
     ]
    },
    {
     "name": "stdout",
     "output_type": "stream",
     "text": [
      "Segment 1 done in alu_ohne_nio_URecorder_20240716_144613_segment_1.wav\n",
      "Segment 2 done in alu_ohne_nio_URecorder_20240716_144613_segment_2.wav\n",
      "Segment 3 done in alu_ohne_nio_URecorder_20240716_144613_segment_3.wav\n",
      "Segment 4 done in alu_ohne_nio_URecorder_20240716_144613_segment_4.wav\n",
      "Segment 5 done in alu_ohne_nio_URecorder_20240716_144613_segment_5.wav\n",
      "Segment 6 done in alu_ohne_nio_URecorder_20240716_144613_segment_6.wav\n",
      "Segment 7 done in alu_ohne_nio_URecorder_20240716_144613_segment_7.wav\n",
      "Segment 8 done in alu_ohne_nio_URecorder_20240716_144613_segment_8.wav\n",
      "Segment 9 done in alu_ohne_nio_URecorder_20240716_144613_segment_9.wav\n",
      "Segment 10 done in alu_ohne_nio_URecorder_20240716_144613_segment_10.wav\n",
      "Segment 11 done in alu_ohne_nio_URecorder_20240716_144613_segment_11.wav\n",
      "Segment 12 done in alu_ohne_nio_URecorder_20240716_144613_segment_12.wav\n",
      "Segment 13 done in alu_ohne_nio_URecorder_20240716_144613_segment_13.wav\n",
      "Segment 14 done in alu_ohne_nio_URecorder_20240716_144613_segment_14.wav\n",
      "Segment 15 done in alu_ohne_nio_URecorder_20240716_144613_segment_15.wav\n",
      "Segment 16 done in alu_ohne_nio_URecorder_20240716_144613_segment_16.wav\n",
      "Segment 17 done in alu_ohne_nio_URecorder_20240716_144613_segment_17.wav\n",
      "Segment 18 done in alu_ohne_nio_URecorder_20240716_144613_segment_18.wav\n",
      "Segment 19 done in alu_ohne_nio_URecorder_20240716_144613_segment_19.wav\n"
     ]
    },
    {
     "name": "stderr",
     "output_type": "stream",
     "text": [
      "C:\\Users\\Alexa\\AppData\\Local\\Packages\\PythonSoftwareFoundation.Python.3.11_qbz5n2kfra8p0\\LocalCache\\local-packages\\Python311\\site-packages\\maad\\util\\miscellaneous.py:413: RuntimeWarning: divide by zero encountered in log10\n",
      "  y = 10*log10(x)   # take log\n"
     ]
    },
    {
     "name": "stdout",
     "output_type": "stream",
     "text": [
      "Segment 1 done in alu_ohne_nio_URecorder_20240716_145425_segment_1.wav\n",
      "Segment 2 done in alu_ohne_nio_URecorder_20240716_145425_segment_2.wav\n",
      "Segment 3 done in alu_ohne_nio_URecorder_20240716_145425_segment_3.wav\n",
      "Segment 4 done in alu_ohne_nio_URecorder_20240716_145425_segment_4.wav\n",
      "Segment 5 done in alu_ohne_nio_URecorder_20240716_145425_segment_5.wav\n",
      "Segment 6 done in alu_ohne_nio_URecorder_20240716_145425_segment_6.wav\n",
      "Segment 7 done in alu_ohne_nio_URecorder_20240716_145425_segment_7.wav\n",
      "Segment 8 done in alu_ohne_nio_URecorder_20240716_145425_segment_8.wav\n",
      "Segment 9 done in alu_ohne_nio_URecorder_20240716_145425_segment_9.wav\n",
      "Segment 10 done in alu_ohne_nio_URecorder_20240716_145425_segment_10.wav\n",
      "Segment 11 done in alu_ohne_nio_URecorder_20240716_145425_segment_11.wav\n",
      "Segment 12 done in alu_ohne_nio_URecorder_20240716_145425_segment_12.wav\n",
      "Segment 13 done in alu_ohne_nio_URecorder_20240716_145425_segment_13.wav\n",
      "Segment 14 done in alu_ohne_nio_URecorder_20240716_145425_segment_14.wav\n",
      "Segment 15 done in alu_ohne_nio_URecorder_20240716_145425_segment_15.wav\n",
      "Segment 16 done in alu_ohne_nio_URecorder_20240716_145425_segment_16.wav\n",
      "Segment 17 done in alu_ohne_nio_URecorder_20240716_145425_segment_17.wav\n",
      "Segment 18 done in alu_ohne_nio_URecorder_20240716_145425_segment_18.wav\n",
      "Segment 19 done in alu_ohne_nio_URecorder_20240716_145425_segment_19.wav\n"
     ]
    },
    {
     "name": "stderr",
     "output_type": "stream",
     "text": [
      "C:\\Users\\Alexa\\AppData\\Local\\Packages\\PythonSoftwareFoundation.Python.3.11_qbz5n2kfra8p0\\LocalCache\\local-packages\\Python311\\site-packages\\maad\\util\\miscellaneous.py:413: RuntimeWarning: divide by zero encountered in log10\n",
      "  y = 10*log10(x)   # take log\n"
     ]
    },
    {
     "name": "stdout",
     "output_type": "stream",
     "text": [
      "Segment 1 done in alu_ohne_nio_URecorder_20240716_150231_segment_1.wav\n",
      "Segment 2 done in alu_ohne_nio_URecorder_20240716_150231_segment_2.wav\n",
      "Segment 3 done in alu_ohne_nio_URecorder_20240716_150231_segment_3.wav\n",
      "Segment 4 done in alu_ohne_nio_URecorder_20240716_150231_segment_4.wav\n",
      "Segment 5 done in alu_ohne_nio_URecorder_20240716_150231_segment_5.wav\n",
      "Segment 6 done in alu_ohne_nio_URecorder_20240716_150231_segment_6.wav\n",
      "Segment 7 done in alu_ohne_nio_URecorder_20240716_150231_segment_7.wav\n",
      "Segment 8 done in alu_ohne_nio_URecorder_20240716_150231_segment_8.wav\n",
      "Segment 9 done in alu_ohne_nio_URecorder_20240716_150231_segment_9.wav\n",
      "Segment 10 done in alu_ohne_nio_URecorder_20240716_150231_segment_10.wav\n",
      "Segment 11 done in alu_ohne_nio_URecorder_20240716_150231_segment_11.wav\n",
      "Segment 12 done in alu_ohne_nio_URecorder_20240716_150231_segment_12.wav\n",
      "Segment 13 done in alu_ohne_nio_URecorder_20240716_150231_segment_13.wav\n",
      "Segment 14 done in alu_ohne_nio_URecorder_20240716_150231_segment_14.wav\n",
      "Segment 15 done in alu_ohne_nio_URecorder_20240716_150231_segment_15.wav\n",
      "Segment 16 done in alu_ohne_nio_URecorder_20240716_150231_segment_16.wav\n",
      "Segment 17 done in alu_ohne_nio_URecorder_20240716_150231_segment_17.wav\n",
      "Segment 18 done in alu_ohne_nio_URecorder_20240716_150231_segment_18.wav\n",
      "Segment 19 done in alu_ohne_nio_URecorder_20240716_150231_segment_19.wav\n"
     ]
    },
    {
     "name": "stderr",
     "output_type": "stream",
     "text": [
      "C:\\Users\\Alexa\\AppData\\Local\\Packages\\PythonSoftwareFoundation.Python.3.11_qbz5n2kfra8p0\\LocalCache\\local-packages\\Python311\\site-packages\\maad\\util\\miscellaneous.py:413: RuntimeWarning: divide by zero encountered in log10\n",
      "  y = 10*log10(x)   # take log\n"
     ]
    },
    {
     "name": "stdout",
     "output_type": "stream",
     "text": [
      "Segment 1 done in alu_ohne_nio_URecorder_20240716_151036_segment_1.wav\n",
      "Segment 2 done in alu_ohne_nio_URecorder_20240716_151036_segment_2.wav\n",
      "Segment 3 done in alu_ohne_nio_URecorder_20240716_151036_segment_3.wav\n",
      "Segment 4 done in alu_ohne_nio_URecorder_20240716_151036_segment_4.wav\n",
      "Segment 5 done in alu_ohne_nio_URecorder_20240716_151036_segment_5.wav\n",
      "Segment 6 done in alu_ohne_nio_URecorder_20240716_151036_segment_6.wav\n",
      "Segment 7 done in alu_ohne_nio_URecorder_20240716_151036_segment_7.wav\n",
      "Segment 8 done in alu_ohne_nio_URecorder_20240716_151036_segment_8.wav\n",
      "Segment 9 done in alu_ohne_nio_URecorder_20240716_151036_segment_9.wav\n",
      "Segment 10 done in alu_ohne_nio_URecorder_20240716_151036_segment_10.wav\n",
      "Segment 11 done in alu_ohne_nio_URecorder_20240716_151036_segment_11.wav\n",
      "Segment 12 done in alu_ohne_nio_URecorder_20240716_151036_segment_12.wav\n",
      "Segment 13 done in alu_ohne_nio_URecorder_20240716_151036_segment_13.wav\n",
      "Segment 14 done in alu_ohne_nio_URecorder_20240716_151036_segment_14.wav\n",
      "Segment 15 done in alu_ohne_nio_URecorder_20240716_151036_segment_15.wav\n",
      "Segment 16 done in alu_ohne_nio_URecorder_20240716_151036_segment_16.wav\n",
      "Segment 17 done in alu_ohne_nio_URecorder_20240716_151036_segment_17.wav\n",
      "Segment 18 done in alu_ohne_nio_URecorder_20240716_151036_segment_18.wav\n",
      "Segment 19 done in alu_ohne_nio_URecorder_20240716_151036_segment_19.wav\n"
     ]
    },
    {
     "name": "stderr",
     "output_type": "stream",
     "text": [
      "C:\\Users\\Alexa\\AppData\\Local\\Packages\\PythonSoftwareFoundation.Python.3.11_qbz5n2kfra8p0\\LocalCache\\local-packages\\Python311\\site-packages\\maad\\util\\miscellaneous.py:413: RuntimeWarning: divide by zero encountered in log10\n",
      "  y = 10*log10(x)   # take log\n"
     ]
    },
    {
     "name": "stdout",
     "output_type": "stream",
     "text": [
      "Segment 1 done in alu_ohne_nio_URecorder_20240716_151842_segment_1.wav\n",
      "Segment 2 done in alu_ohne_nio_URecorder_20240716_151842_segment_2.wav\n",
      "Segment 3 done in alu_ohne_nio_URecorder_20240716_151842_segment_3.wav\n",
      "Segment 4 done in alu_ohne_nio_URecorder_20240716_151842_segment_4.wav\n",
      "Segment 5 done in alu_ohne_nio_URecorder_20240716_151842_segment_5.wav\n",
      "Segment 6 done in alu_ohne_nio_URecorder_20240716_151842_segment_6.wav\n",
      "Segment 7 done in alu_ohne_nio_URecorder_20240716_151842_segment_7.wav\n",
      "Segment 8 done in alu_ohne_nio_URecorder_20240716_151842_segment_8.wav\n",
      "Segment 9 done in alu_ohne_nio_URecorder_20240716_151842_segment_9.wav\n",
      "Segment 10 done in alu_ohne_nio_URecorder_20240716_151842_segment_10.wav\n",
      "Segment 11 done in alu_ohne_nio_URecorder_20240716_151842_segment_11.wav\n",
      "Segment 12 done in alu_ohne_nio_URecorder_20240716_151842_segment_12.wav\n",
      "Segment 13 done in alu_ohne_nio_URecorder_20240716_151842_segment_13.wav\n",
      "Segment 14 done in alu_ohne_nio_URecorder_20240716_151842_segment_14.wav\n",
      "Segment 15 done in alu_ohne_nio_URecorder_20240716_151842_segment_15.wav\n",
      "Segment 16 done in alu_ohne_nio_URecorder_20240716_151842_segment_16.wav\n",
      "Segment 17 done in alu_ohne_nio_URecorder_20240716_151842_segment_17.wav\n",
      "Segment 18 done in alu_ohne_nio_URecorder_20240716_151842_segment_18.wav\n",
      "Segment 19 done in alu_ohne_nio_URecorder_20240716_151842_segment_19.wav\n"
     ]
    },
    {
     "name": "stderr",
     "output_type": "stream",
     "text": [
      "C:\\Users\\Alexa\\AppData\\Local\\Packages\\PythonSoftwareFoundation.Python.3.11_qbz5n2kfra8p0\\LocalCache\\local-packages\\Python311\\site-packages\\maad\\util\\miscellaneous.py:413: RuntimeWarning: divide by zero encountered in log10\n",
      "  y = 10*log10(x)   # take log\n"
     ]
    },
    {
     "name": "stdout",
     "output_type": "stream",
     "text": [
      "Segment 1 done in alu_ohne_nio_URecorder_20240716_152650_segment_1.wav\n",
      "Segment 2 done in alu_ohne_nio_URecorder_20240716_152650_segment_2.wav\n",
      "Segment 3 done in alu_ohne_nio_URecorder_20240716_152650_segment_3.wav\n",
      "Segment 4 done in alu_ohne_nio_URecorder_20240716_152650_segment_4.wav\n",
      "Segment 5 done in alu_ohne_nio_URecorder_20240716_152650_segment_5.wav\n",
      "Segment 6 done in alu_ohne_nio_URecorder_20240716_152650_segment_6.wav\n",
      "Segment 7 done in alu_ohne_nio_URecorder_20240716_152650_segment_7.wav\n",
      "Segment 8 done in alu_ohne_nio_URecorder_20240716_152650_segment_8.wav\n",
      "Segment 9 done in alu_ohne_nio_URecorder_20240716_152650_segment_9.wav\n",
      "Segment 10 done in alu_ohne_nio_URecorder_20240716_152650_segment_10.wav\n",
      "Segment 11 done in alu_ohne_nio_URecorder_20240716_152650_segment_11.wav\n",
      "Segment 12 done in alu_ohne_nio_URecorder_20240716_152650_segment_12.wav\n",
      "Segment 13 done in alu_ohne_nio_URecorder_20240716_152650_segment_13.wav\n",
      "Segment 14 done in alu_ohne_nio_URecorder_20240716_152650_segment_14.wav\n",
      "Segment 15 done in alu_ohne_nio_URecorder_20240716_152650_segment_15.wav\n",
      "Segment 16 done in alu_ohne_nio_URecorder_20240716_152650_segment_16.wav\n",
      "Segment 17 done in alu_ohne_nio_URecorder_20240716_152650_segment_17.wav\n",
      "Segment 18 done in alu_ohne_nio_URecorder_20240716_152650_segment_18.wav\n",
      "Segment 19 done in alu_ohne_nio_URecorder_20240716_152650_segment_19.wav\n"
     ]
    },
    {
     "name": "stderr",
     "output_type": "stream",
     "text": [
      "C:\\Users\\Alexa\\AppData\\Local\\Packages\\PythonSoftwareFoundation.Python.3.11_qbz5n2kfra8p0\\LocalCache\\local-packages\\Python311\\site-packages\\maad\\util\\miscellaneous.py:413: RuntimeWarning: divide by zero encountered in log10\n",
      "  y = 10*log10(x)   # take log\n"
     ]
    },
    {
     "name": "stdout",
     "output_type": "stream",
     "text": [
      "Segment 1 done in alu_ohne_nio_URecorder_20240716_153458_segment_1.wav\n",
      "Segment 2 done in alu_ohne_nio_URecorder_20240716_153458_segment_2.wav\n",
      "Segment 3 done in alu_ohne_nio_URecorder_20240716_153458_segment_3.wav\n",
      "Segment 4 done in alu_ohne_nio_URecorder_20240716_153458_segment_4.wav\n",
      "Segment 5 done in alu_ohne_nio_URecorder_20240716_153458_segment_5.wav\n",
      "Segment 6 done in alu_ohne_nio_URecorder_20240716_153458_segment_6.wav\n",
      "Segment 7 done in alu_ohne_nio_URecorder_20240716_153458_segment_7.wav\n",
      "Segment 8 done in alu_ohne_nio_URecorder_20240716_153458_segment_8.wav\n",
      "Segment 9 done in alu_ohne_nio_URecorder_20240716_153458_segment_9.wav\n",
      "Segment 10 done in alu_ohne_nio_URecorder_20240716_153458_segment_10.wav\n",
      "Segment 11 done in alu_ohne_nio_URecorder_20240716_153458_segment_11.wav\n",
      "Segment 12 done in alu_ohne_nio_URecorder_20240716_153458_segment_12.wav\n",
      "Segment 13 done in alu_ohne_nio_URecorder_20240716_153458_segment_13.wav\n",
      "Segment 14 done in alu_ohne_nio_URecorder_20240716_153458_segment_14.wav\n",
      "Segment 15 done in alu_ohne_nio_URecorder_20240716_153458_segment_15.wav\n",
      "Segment 16 done in alu_ohne_nio_URecorder_20240716_153458_segment_16.wav\n",
      "Segment 17 done in alu_ohne_nio_URecorder_20240716_153458_segment_17.wav\n",
      "Segment 18 done in alu_ohne_nio_URecorder_20240716_153458_segment_18.wav\n",
      "Segment 19 done in alu_ohne_nio_URecorder_20240716_153458_segment_19.wav\n"
     ]
    },
    {
     "name": "stderr",
     "output_type": "stream",
     "text": [
      "C:\\Users\\Alexa\\AppData\\Local\\Packages\\PythonSoftwareFoundation.Python.3.11_qbz5n2kfra8p0\\LocalCache\\local-packages\\Python311\\site-packages\\maad\\util\\miscellaneous.py:413: RuntimeWarning: divide by zero encountered in log10\n",
      "  y = 10*log10(x)   # take log\n"
     ]
    },
    {
     "name": "stdout",
     "output_type": "stream",
     "text": [
      "Segment 1 done in alu_ohne_nio_URecorder_20240716_154347_segment_1.wav\n",
      "Segment 2 done in alu_ohne_nio_URecorder_20240716_154347_segment_2.wav\n",
      "Segment 3 done in alu_ohne_nio_URecorder_20240716_154347_segment_3.wav\n",
      "Segment 4 done in alu_ohne_nio_URecorder_20240716_154347_segment_4.wav\n",
      "Segment 5 done in alu_ohne_nio_URecorder_20240716_154347_segment_5.wav\n",
      "Segment 6 done in alu_ohne_nio_URecorder_20240716_154347_segment_6.wav\n",
      "Segment 7 done in alu_ohne_nio_URecorder_20240716_154347_segment_7.wav\n",
      "Segment 8 done in alu_ohne_nio_URecorder_20240716_154347_segment_8.wav\n",
      "Segment 9 done in alu_ohne_nio_URecorder_20240716_154347_segment_9.wav\n",
      "Segment 10 done in alu_ohne_nio_URecorder_20240716_154347_segment_10.wav\n",
      "Segment 11 done in alu_ohne_nio_URecorder_20240716_154347_segment_11.wav\n",
      "Segment 12 done in alu_ohne_nio_URecorder_20240716_154347_segment_12.wav\n",
      "Segment 13 done in alu_ohne_nio_URecorder_20240716_154347_segment_13.wav\n",
      "Segment 14 done in alu_ohne_nio_URecorder_20240716_154347_segment_14.wav\n",
      "Segment 15 done in alu_ohne_nio_URecorder_20240716_154347_segment_15.wav\n",
      "Segment 16 done in alu_ohne_nio_URecorder_20240716_154347_segment_16.wav\n",
      "Segment 17 done in alu_ohne_nio_URecorder_20240716_154347_segment_17.wav\n",
      "Segment 18 done in alu_ohne_nio_URecorder_20240716_154347_segment_18.wav\n",
      "Segment 19 done in alu_ohne_nio_URecorder_20240716_154347_segment_19.wav\n"
     ]
    },
    {
     "name": "stderr",
     "output_type": "stream",
     "text": [
      "C:\\Users\\Alexa\\AppData\\Local\\Packages\\PythonSoftwareFoundation.Python.3.11_qbz5n2kfra8p0\\LocalCache\\local-packages\\Python311\\site-packages\\maad\\util\\miscellaneous.py:413: RuntimeWarning: divide by zero encountered in log10\n",
      "  y = 10*log10(x)   # take log\n"
     ]
    },
    {
     "name": "stdout",
     "output_type": "stream",
     "text": [
      "Segment 1 done in alu_ohne_nio_URecorder_20240717_110819_segment_1.wav\n",
      "Segment 2 done in alu_ohne_nio_URecorder_20240717_110819_segment_2.wav\n",
      "Segment 3 done in alu_ohne_nio_URecorder_20240717_110819_segment_3.wav\n",
      "Segment 4 done in alu_ohne_nio_URecorder_20240717_110819_segment_4.wav\n",
      "Segment 5 done in alu_ohne_nio_URecorder_20240717_110819_segment_5.wav\n",
      "Segment 6 done in alu_ohne_nio_URecorder_20240717_110819_segment_6.wav\n",
      "Segment 7 done in alu_ohne_nio_URecorder_20240717_110819_segment_7.wav\n",
      "Segment 8 done in alu_ohne_nio_URecorder_20240717_110819_segment_8.wav\n",
      "Segment 9 done in alu_ohne_nio_URecorder_20240717_110819_segment_9.wav\n",
      "Segment 10 done in alu_ohne_nio_URecorder_20240717_110819_segment_10.wav\n",
      "Segment 11 done in alu_ohne_nio_URecorder_20240717_110819_segment_11.wav\n",
      "Segment 12 done in alu_ohne_nio_URecorder_20240717_110819_segment_12.wav\n",
      "Segment 13 done in alu_ohne_nio_URecorder_20240717_110819_segment_13.wav\n",
      "Segment 14 done in alu_ohne_nio_URecorder_20240717_110819_segment_14.wav\n",
      "Segment 15 done in alu_ohne_nio_URecorder_20240717_110819_segment_15.wav\n",
      "Segment 16 done in alu_ohne_nio_URecorder_20240717_110819_segment_16.wav\n",
      "Segment 17 done in alu_ohne_nio_URecorder_20240717_110819_segment_17.wav\n",
      "Segment 18 done in alu_ohne_nio_URecorder_20240717_110819_segment_18.wav\n",
      "Segment 19 done in alu_ohne_nio_URecorder_20240717_110819_segment_19.wav\n"
     ]
    },
    {
     "name": "stderr",
     "output_type": "stream",
     "text": [
      "C:\\Users\\Alexa\\AppData\\Local\\Packages\\PythonSoftwareFoundation.Python.3.11_qbz5n2kfra8p0\\LocalCache\\local-packages\\Python311\\site-packages\\maad\\util\\miscellaneous.py:413: RuntimeWarning: divide by zero encountered in log10\n",
      "  y = 10*log10(x)   # take log\n"
     ]
    },
    {
     "name": "stdout",
     "output_type": "stream",
     "text": [
      "Segment 1 done in alu_nut_io_URecorder_20240715_142039_segment_1.wav\n",
      "Segment 2 done in alu_nut_io_URecorder_20240715_142039_segment_2.wav\n",
      "Segment 3 done in alu_nut_io_URecorder_20240715_142039_segment_3.wav\n",
      "Segment 4 done in alu_nut_io_URecorder_20240715_142039_segment_4.wav\n",
      "Segment 5 done in alu_nut_io_URecorder_20240715_142039_segment_5.wav\n",
      "Segment 6 done in alu_nut_io_URecorder_20240715_142039_segment_6.wav\n",
      "Segment 7 done in alu_nut_io_URecorder_20240715_142039_segment_7.wav\n",
      "Segment 8 done in alu_nut_io_URecorder_20240715_142039_segment_8.wav\n",
      "Segment 9 done in alu_nut_io_URecorder_20240715_142039_segment_9.wav\n",
      "Segment 10 done in alu_nut_io_URecorder_20240715_142039_segment_10.wav\n",
      "Segment 11 done in alu_nut_io_URecorder_20240715_142039_segment_11.wav\n",
      "Segment 12 done in alu_nut_io_URecorder_20240715_142039_segment_12.wav\n",
      "Segment 13 done in alu_nut_io_URecorder_20240715_142039_segment_13.wav\n",
      "Segment 14 done in alu_nut_io_URecorder_20240715_142039_segment_14.wav\n",
      "Segment 15 done in alu_nut_io_URecorder_20240715_142039_segment_15.wav\n",
      "Segment 16 done in alu_nut_io_URecorder_20240715_142039_segment_16.wav\n"
     ]
    },
    {
     "name": "stderr",
     "output_type": "stream",
     "text": [
      "C:\\Users\\Alexa\\AppData\\Local\\Packages\\PythonSoftwareFoundation.Python.3.11_qbz5n2kfra8p0\\LocalCache\\local-packages\\Python311\\site-packages\\maad\\util\\miscellaneous.py:413: RuntimeWarning: divide by zero encountered in log10\n",
      "  y = 10*log10(x)   # take log\n"
     ]
    },
    {
     "name": "stdout",
     "output_type": "stream",
     "text": [
      "Segment 1 done in alu_nut_io_URecorder_20240715_145135_segment_1.wav\n",
      "Segment 2 done in alu_nut_io_URecorder_20240715_145135_segment_2.wav\n",
      "Segment 3 done in alu_nut_io_URecorder_20240715_145135_segment_3.wav\n",
      "Segment 4 done in alu_nut_io_URecorder_20240715_145135_segment_4.wav\n",
      "Segment 5 done in alu_nut_io_URecorder_20240715_145135_segment_5.wav\n",
      "Segment 6 done in alu_nut_io_URecorder_20240715_145135_segment_6.wav\n",
      "Segment 7 done in alu_nut_io_URecorder_20240715_145135_segment_7.wav\n",
      "Segment 8 done in alu_nut_io_URecorder_20240715_145135_segment_8.wav\n",
      "Segment 9 done in alu_nut_io_URecorder_20240715_145135_segment_9.wav\n",
      "Segment 10 done in alu_nut_io_URecorder_20240715_145135_segment_10.wav\n",
      "Segment 11 done in alu_nut_io_URecorder_20240715_145135_segment_11.wav\n",
      "Segment 12 done in alu_nut_io_URecorder_20240715_145135_segment_12.wav\n",
      "Segment 13 done in alu_nut_io_URecorder_20240715_145135_segment_13.wav\n",
      "Segment 14 done in alu_nut_io_URecorder_20240715_145135_segment_14.wav\n",
      "Segment 15 done in alu_nut_io_URecorder_20240715_145135_segment_15.wav\n",
      "Segment 16 done in alu_nut_io_URecorder_20240715_145135_segment_16.wav\n"
     ]
    },
    {
     "name": "stderr",
     "output_type": "stream",
     "text": [
      "C:\\Users\\Alexa\\AppData\\Local\\Packages\\PythonSoftwareFoundation.Python.3.11_qbz5n2kfra8p0\\LocalCache\\local-packages\\Python311\\site-packages\\maad\\util\\miscellaneous.py:413: RuntimeWarning: divide by zero encountered in log10\n",
      "  y = 10*log10(x)   # take log\n"
     ]
    },
    {
     "name": "stdout",
     "output_type": "stream",
     "text": [
      "Segment 1 done in alu_nut_io_URecorder_20240716_080440_segment_1.wav\n",
      "Segment 2 done in alu_nut_io_URecorder_20240716_080440_segment_2.wav\n",
      "Segment 3 done in alu_nut_io_URecorder_20240716_080440_segment_3.wav\n",
      "Segment 4 done in alu_nut_io_URecorder_20240716_080440_segment_4.wav\n",
      "Segment 5 done in alu_nut_io_URecorder_20240716_080440_segment_5.wav\n",
      "Segment 6 done in alu_nut_io_URecorder_20240716_080440_segment_6.wav\n",
      "Segment 7 done in alu_nut_io_URecorder_20240716_080440_segment_7.wav\n",
      "Segment 8 done in alu_nut_io_URecorder_20240716_080440_segment_8.wav\n",
      "Segment 9 done in alu_nut_io_URecorder_20240716_080440_segment_9.wav\n",
      "Segment 10 done in alu_nut_io_URecorder_20240716_080440_segment_10.wav\n",
      "Segment 11 done in alu_nut_io_URecorder_20240716_080440_segment_11.wav\n",
      "Segment 12 done in alu_nut_io_URecorder_20240716_080440_segment_12.wav\n",
      "Segment 13 done in alu_nut_io_URecorder_20240716_080440_segment_13.wav\n",
      "Segment 14 done in alu_nut_io_URecorder_20240716_080440_segment_14.wav\n",
      "Segment 15 done in alu_nut_io_URecorder_20240716_080440_segment_15.wav\n",
      "Segment 16 done in alu_nut_io_URecorder_20240716_080440_segment_16.wav\n",
      "Segment 17 done in alu_nut_io_URecorder_20240716_080440_segment_17.wav\n",
      "Segment 18 done in alu_nut_io_URecorder_20240716_080440_segment_18.wav\n"
     ]
    },
    {
     "name": "stderr",
     "output_type": "stream",
     "text": [
      "C:\\Users\\Alexa\\AppData\\Local\\Packages\\PythonSoftwareFoundation.Python.3.11_qbz5n2kfra8p0\\LocalCache\\local-packages\\Python311\\site-packages\\maad\\util\\miscellaneous.py:413: RuntimeWarning: divide by zero encountered in log10\n",
      "  y = 10*log10(x)   # take log\n"
     ]
    },
    {
     "name": "stdout",
     "output_type": "stream",
     "text": [
      "Segment 1 done in alu_nut_io_URecorder_20240716_083244_segment_1.wav\n",
      "Segment 2 done in alu_nut_io_URecorder_20240716_083244_segment_2.wav\n",
      "Segment 3 done in alu_nut_io_URecorder_20240716_083244_segment_3.wav\n",
      "Segment 4 done in alu_nut_io_URecorder_20240716_083244_segment_4.wav\n",
      "Segment 5 done in alu_nut_io_URecorder_20240716_083244_segment_5.wav\n",
      "Segment 6 done in alu_nut_io_URecorder_20240716_083244_segment_6.wav\n",
      "Segment 7 done in alu_nut_io_URecorder_20240716_083244_segment_7.wav\n",
      "Segment 8 done in alu_nut_io_URecorder_20240716_083244_segment_8.wav\n",
      "Segment 9 done in alu_nut_io_URecorder_20240716_083244_segment_9.wav\n",
      "Segment 10 done in alu_nut_io_URecorder_20240716_083244_segment_10.wav\n",
      "Segment 11 done in alu_nut_io_URecorder_20240716_083244_segment_11.wav\n",
      "Segment 12 done in alu_nut_io_URecorder_20240716_083244_segment_12.wav\n",
      "Segment 13 done in alu_nut_io_URecorder_20240716_083244_segment_13.wav\n",
      "Segment 14 done in alu_nut_io_URecorder_20240716_083244_segment_14.wav\n",
      "Segment 15 done in alu_nut_io_URecorder_20240716_083244_segment_15.wav\n",
      "Segment 16 done in alu_nut_io_URecorder_20240716_083244_segment_16.wav\n",
      "Segment 17 done in alu_nut_io_URecorder_20240716_083244_segment_17.wav\n",
      "Segment 18 done in alu_nut_io_URecorder_20240716_083244_segment_18.wav\n",
      "Segment 19 done in alu_nut_io_URecorder_20240716_083244_segment_19.wav\n"
     ]
    },
    {
     "name": "stderr",
     "output_type": "stream",
     "text": [
      "C:\\Users\\Alexa\\AppData\\Local\\Packages\\PythonSoftwareFoundation.Python.3.11_qbz5n2kfra8p0\\LocalCache\\local-packages\\Python311\\site-packages\\maad\\util\\miscellaneous.py:413: RuntimeWarning: divide by zero encountered in log10\n",
      "  y = 10*log10(x)   # take log\n"
     ]
    },
    {
     "name": "stdout",
     "output_type": "stream",
     "text": [
      "Segment 1 done in alu_nut_io_URecorder_20240716_084213_segment_1.wav\n",
      "Segment 2 done in alu_nut_io_URecorder_20240716_084213_segment_2.wav\n",
      "Segment 3 done in alu_nut_io_URecorder_20240716_084213_segment_3.wav\n",
      "Segment 4 done in alu_nut_io_URecorder_20240716_084213_segment_4.wav\n",
      "Segment 5 done in alu_nut_io_URecorder_20240716_084213_segment_5.wav\n",
      "Segment 6 done in alu_nut_io_URecorder_20240716_084213_segment_6.wav\n",
      "Segment 7 done in alu_nut_io_URecorder_20240716_084213_segment_7.wav\n",
      "Segment 8 done in alu_nut_io_URecorder_20240716_084213_segment_8.wav\n",
      "Segment 9 done in alu_nut_io_URecorder_20240716_084213_segment_9.wav\n",
      "Segment 10 done in alu_nut_io_URecorder_20240716_084213_segment_10.wav\n",
      "Segment 11 done in alu_nut_io_URecorder_20240716_084213_segment_11.wav\n",
      "Segment 12 done in alu_nut_io_URecorder_20240716_084213_segment_12.wav\n",
      "Segment 13 done in alu_nut_io_URecorder_20240716_084213_segment_13.wav\n",
      "Segment 14 done in alu_nut_io_URecorder_20240716_084213_segment_14.wav\n",
      "Segment 15 done in alu_nut_io_URecorder_20240716_084213_segment_15.wav\n",
      "Segment 16 done in alu_nut_io_URecorder_20240716_084213_segment_16.wav\n",
      "Segment 17 done in alu_nut_io_URecorder_20240716_084213_segment_17.wav\n",
      "Segment 18 done in alu_nut_io_URecorder_20240716_084213_segment_18.wav\n",
      "Segment 19 done in alu_nut_io_URecorder_20240716_084213_segment_19.wav\n"
     ]
    },
    {
     "name": "stderr",
     "output_type": "stream",
     "text": [
      "C:\\Users\\Alexa\\AppData\\Local\\Packages\\PythonSoftwareFoundation.Python.3.11_qbz5n2kfra8p0\\LocalCache\\local-packages\\Python311\\site-packages\\maad\\util\\miscellaneous.py:413: RuntimeWarning: divide by zero encountered in log10\n",
      "  y = 10*log10(x)   # take log\n"
     ]
    },
    {
     "name": "stdout",
     "output_type": "stream",
     "text": [
      "Segment 1 done in alu_nut_io_URecorder_20240716_085230_segment_1.wav\n",
      "Segment 2 done in alu_nut_io_URecorder_20240716_085230_segment_2.wav\n",
      "Segment 3 done in alu_nut_io_URecorder_20240716_085230_segment_3.wav\n",
      "Segment 4 done in alu_nut_io_URecorder_20240716_085230_segment_4.wav\n",
      "Segment 5 done in alu_nut_io_URecorder_20240716_085230_segment_5.wav\n",
      "Segment 6 done in alu_nut_io_URecorder_20240716_085230_segment_6.wav\n",
      "Segment 7 done in alu_nut_io_URecorder_20240716_085230_segment_7.wav\n",
      "Segment 8 done in alu_nut_io_URecorder_20240716_085230_segment_8.wav\n",
      "Segment 9 done in alu_nut_io_URecorder_20240716_085230_segment_9.wav\n",
      "Segment 10 done in alu_nut_io_URecorder_20240716_085230_segment_10.wav\n",
      "Segment 11 done in alu_nut_io_URecorder_20240716_085230_segment_11.wav\n",
      "Segment 12 done in alu_nut_io_URecorder_20240716_085230_segment_12.wav\n",
      "Segment 13 done in alu_nut_io_URecorder_20240716_085230_segment_13.wav\n",
      "Segment 14 done in alu_nut_io_URecorder_20240716_085230_segment_14.wav\n",
      "Segment 15 done in alu_nut_io_URecorder_20240716_085230_segment_15.wav\n",
      "Segment 16 done in alu_nut_io_URecorder_20240716_085230_segment_16.wav\n",
      "Segment 17 done in alu_nut_io_URecorder_20240716_085230_segment_17.wav\n",
      "Segment 18 done in alu_nut_io_URecorder_20240716_085230_segment_18.wav\n",
      "Segment 19 done in alu_nut_io_URecorder_20240716_085230_segment_19.wav\n"
     ]
    },
    {
     "name": "stderr",
     "output_type": "stream",
     "text": [
      "C:\\Users\\Alexa\\AppData\\Local\\Packages\\PythonSoftwareFoundation.Python.3.11_qbz5n2kfra8p0\\LocalCache\\local-packages\\Python311\\site-packages\\maad\\util\\miscellaneous.py:413: RuntimeWarning: divide by zero encountered in log10\n",
      "  y = 10*log10(x)   # take log\n"
     ]
    },
    {
     "name": "stdout",
     "output_type": "stream",
     "text": [
      "Segment 1 done in alu_nut_io_URecorder_20240716_094219_segment_1.wav\n",
      "Segment 2 done in alu_nut_io_URecorder_20240716_094219_segment_2.wav\n",
      "Segment 3 done in alu_nut_io_URecorder_20240716_094219_segment_3.wav\n",
      "Segment 4 done in alu_nut_io_URecorder_20240716_094219_segment_4.wav\n",
      "Segment 5 done in alu_nut_io_URecorder_20240716_094219_segment_5.wav\n",
      "Segment 6 done in alu_nut_io_URecorder_20240716_094219_segment_6.wav\n",
      "Segment 7 done in alu_nut_io_URecorder_20240716_094219_segment_7.wav\n",
      "Segment 8 done in alu_nut_io_URecorder_20240716_094219_segment_8.wav\n",
      "Segment 9 done in alu_nut_io_URecorder_20240716_094219_segment_9.wav\n",
      "Segment 10 done in alu_nut_io_URecorder_20240716_094219_segment_10.wav\n",
      "Segment 11 done in alu_nut_io_URecorder_20240716_094219_segment_11.wav\n",
      "Segment 12 done in alu_nut_io_URecorder_20240716_094219_segment_12.wav\n",
      "Segment 13 done in alu_nut_io_URecorder_20240716_094219_segment_13.wav\n",
      "Segment 14 done in alu_nut_io_URecorder_20240716_094219_segment_14.wav\n",
      "Segment 15 done in alu_nut_io_URecorder_20240716_094219_segment_15.wav\n",
      "Segment 16 done in alu_nut_io_URecorder_20240716_094219_segment_16.wav\n",
      "Segment 17 done in alu_nut_io_URecorder_20240716_094219_segment_17.wav\n",
      "Segment 18 done in alu_nut_io_URecorder_20240716_094219_segment_18.wav\n"
     ]
    },
    {
     "name": "stderr",
     "output_type": "stream",
     "text": [
      "C:\\Users\\Alexa\\AppData\\Local\\Packages\\PythonSoftwareFoundation.Python.3.11_qbz5n2kfra8p0\\LocalCache\\local-packages\\Python311\\site-packages\\maad\\util\\miscellaneous.py:413: RuntimeWarning: divide by zero encountered in log10\n",
      "  y = 10*log10(x)   # take log\n"
     ]
    },
    {
     "name": "stdout",
     "output_type": "stream",
     "text": [
      "Segment 1 done in alu_nut_io_URecorder_20240716_095420_segment_1.wav\n",
      "Segment 2 done in alu_nut_io_URecorder_20240716_095420_segment_2.wav\n",
      "Segment 3 done in alu_nut_io_URecorder_20240716_095420_segment_3.wav\n",
      "Segment 4 done in alu_nut_io_URecorder_20240716_095420_segment_4.wav\n",
      "Segment 5 done in alu_nut_io_URecorder_20240716_095420_segment_5.wav\n",
      "Segment 6 done in alu_nut_io_URecorder_20240716_095420_segment_6.wav\n",
      "Segment 7 done in alu_nut_io_URecorder_20240716_095420_segment_7.wav\n",
      "Segment 8 done in alu_nut_io_URecorder_20240716_095420_segment_8.wav\n",
      "Segment 9 done in alu_nut_io_URecorder_20240716_095420_segment_9.wav\n",
      "Segment 10 done in alu_nut_io_URecorder_20240716_095420_segment_10.wav\n",
      "Segment 11 done in alu_nut_io_URecorder_20240716_095420_segment_11.wav\n",
      "Segment 12 done in alu_nut_io_URecorder_20240716_095420_segment_12.wav\n",
      "Segment 13 done in alu_nut_io_URecorder_20240716_095420_segment_13.wav\n",
      "Segment 14 done in alu_nut_io_URecorder_20240716_095420_segment_14.wav\n",
      "Segment 15 done in alu_nut_io_URecorder_20240716_095420_segment_15.wav\n",
      "Segment 16 done in alu_nut_io_URecorder_20240716_095420_segment_16.wav\n",
      "Segment 17 done in alu_nut_io_URecorder_20240716_095420_segment_17.wav\n",
      "Segment 18 done in alu_nut_io_URecorder_20240716_095420_segment_18.wav\n",
      "Segment 19 done in alu_nut_io_URecorder_20240716_095420_segment_19.wav\n"
     ]
    },
    {
     "name": "stderr",
     "output_type": "stream",
     "text": [
      "C:\\Users\\Alexa\\AppData\\Local\\Packages\\PythonSoftwareFoundation.Python.3.11_qbz5n2kfra8p0\\LocalCache\\local-packages\\Python311\\site-packages\\maad\\util\\miscellaneous.py:413: RuntimeWarning: divide by zero encountered in log10\n",
      "  y = 10*log10(x)   # take log\n"
     ]
    },
    {
     "name": "stdout",
     "output_type": "stream",
     "text": [
      "Segment 1 done in alu_nut_io_URecorder_20240716_100251_segment_1.wav\n",
      "Segment 2 done in alu_nut_io_URecorder_20240716_100251_segment_2.wav\n",
      "Segment 3 done in alu_nut_io_URecorder_20240716_100251_segment_3.wav\n",
      "Segment 4 done in alu_nut_io_URecorder_20240716_100251_segment_4.wav\n",
      "Segment 5 done in alu_nut_io_URecorder_20240716_100251_segment_5.wav\n",
      "Segment 6 done in alu_nut_io_URecorder_20240716_100251_segment_6.wav\n",
      "Segment 7 done in alu_nut_io_URecorder_20240716_100251_segment_7.wav\n",
      "Segment 8 done in alu_nut_io_URecorder_20240716_100251_segment_8.wav\n",
      "Segment 9 done in alu_nut_io_URecorder_20240716_100251_segment_9.wav\n",
      "Segment 10 done in alu_nut_io_URecorder_20240716_100251_segment_10.wav\n",
      "Segment 11 done in alu_nut_io_URecorder_20240716_100251_segment_11.wav\n",
      "Segment 12 done in alu_nut_io_URecorder_20240716_100251_segment_12.wav\n",
      "Segment 13 done in alu_nut_io_URecorder_20240716_100251_segment_13.wav\n",
      "Segment 14 done in alu_nut_io_URecorder_20240716_100251_segment_14.wav\n",
      "Segment 15 done in alu_nut_io_URecorder_20240716_100251_segment_15.wav\n",
      "Segment 16 done in alu_nut_io_URecorder_20240716_100251_segment_16.wav\n",
      "Segment 17 done in alu_nut_io_URecorder_20240716_100251_segment_17.wav\n",
      "Segment 18 done in alu_nut_io_URecorder_20240716_100251_segment_18.wav\n",
      "Segment 19 done in alu_nut_io_URecorder_20240716_100251_segment_19.wav\n"
     ]
    },
    {
     "name": "stderr",
     "output_type": "stream",
     "text": [
      "C:\\Users\\Alexa\\AppData\\Local\\Packages\\PythonSoftwareFoundation.Python.3.11_qbz5n2kfra8p0\\LocalCache\\local-packages\\Python311\\site-packages\\maad\\util\\miscellaneous.py:413: RuntimeWarning: divide by zero encountered in log10\n",
      "  y = 10*log10(x)   # take log\n"
     ]
    },
    {
     "name": "stdout",
     "output_type": "stream",
     "text": [
      "Segment 1 done in alu_nut_io_URecorder_20240716_101108_segment_1.wav\n",
      "Segment 2 done in alu_nut_io_URecorder_20240716_101108_segment_2.wav\n",
      "Segment 3 done in alu_nut_io_URecorder_20240716_101108_segment_3.wav\n",
      "Segment 4 done in alu_nut_io_URecorder_20240716_101108_segment_4.wav\n",
      "Segment 5 done in alu_nut_io_URecorder_20240716_101108_segment_5.wav\n",
      "Segment 6 done in alu_nut_io_URecorder_20240716_101108_segment_6.wav\n",
      "Segment 7 done in alu_nut_io_URecorder_20240716_101108_segment_7.wav\n",
      "Segment 8 done in alu_nut_io_URecorder_20240716_101108_segment_8.wav\n",
      "Segment 9 done in alu_nut_io_URecorder_20240716_101108_segment_9.wav\n",
      "Segment 10 done in alu_nut_io_URecorder_20240716_101108_segment_10.wav\n",
      "Segment 11 done in alu_nut_io_URecorder_20240716_101108_segment_11.wav\n",
      "Segment 12 done in alu_nut_io_URecorder_20240716_101108_segment_12.wav\n",
      "Segment 13 done in alu_nut_io_URecorder_20240716_101108_segment_13.wav\n",
      "Segment 14 done in alu_nut_io_URecorder_20240716_101108_segment_14.wav\n",
      "Segment 15 done in alu_nut_io_URecorder_20240716_101108_segment_15.wav\n",
      "Segment 16 done in alu_nut_io_URecorder_20240716_101108_segment_16.wav\n",
      "Segment 17 done in alu_nut_io_URecorder_20240716_101108_segment_17.wav\n",
      "Segment 18 done in alu_nut_io_URecorder_20240716_101108_segment_18.wav\n",
      "Segment 19 done in alu_nut_io_URecorder_20240716_101108_segment_19.wav\n"
     ]
    },
    {
     "name": "stderr",
     "output_type": "stream",
     "text": [
      "C:\\Users\\Alexa\\AppData\\Local\\Packages\\PythonSoftwareFoundation.Python.3.11_qbz5n2kfra8p0\\LocalCache\\local-packages\\Python311\\site-packages\\maad\\util\\miscellaneous.py:413: RuntimeWarning: divide by zero encountered in log10\n",
      "  y = 10*log10(x)   # take log\n"
     ]
    },
    {
     "name": "stdout",
     "output_type": "stream",
     "text": [
      "Segment 1 done in alu_nut_io_URecorder_20240716_101940_segment_1.wav\n",
      "Segment 2 done in alu_nut_io_URecorder_20240716_101940_segment_2.wav\n",
      "Segment 3 done in alu_nut_io_URecorder_20240716_101940_segment_3.wav\n",
      "Segment 4 done in alu_nut_io_URecorder_20240716_101940_segment_4.wav\n",
      "Segment 5 done in alu_nut_io_URecorder_20240716_101940_segment_5.wav\n",
      "Segment 6 done in alu_nut_io_URecorder_20240716_101940_segment_6.wav\n",
      "Segment 7 done in alu_nut_io_URecorder_20240716_101940_segment_7.wav\n",
      "Segment 8 done in alu_nut_io_URecorder_20240716_101940_segment_8.wav\n",
      "Segment 9 done in alu_nut_io_URecorder_20240716_101940_segment_9.wav\n",
      "Segment 10 done in alu_nut_io_URecorder_20240716_101940_segment_10.wav\n",
      "Segment 11 done in alu_nut_io_URecorder_20240716_101940_segment_11.wav\n",
      "Segment 12 done in alu_nut_io_URecorder_20240716_101940_segment_12.wav\n",
      "Segment 13 done in alu_nut_io_URecorder_20240716_101940_segment_13.wav\n",
      "Segment 14 done in alu_nut_io_URecorder_20240716_101940_segment_14.wav\n",
      "Segment 15 done in alu_nut_io_URecorder_20240716_101940_segment_15.wav\n",
      "Segment 16 done in alu_nut_io_URecorder_20240716_101940_segment_16.wav\n",
      "Segment 17 done in alu_nut_io_URecorder_20240716_101940_segment_17.wav\n",
      "Segment 18 done in alu_nut_io_URecorder_20240716_101940_segment_18.wav\n",
      "Segment 19 done in alu_nut_io_URecorder_20240716_101940_segment_19.wav\n"
     ]
    },
    {
     "name": "stderr",
     "output_type": "stream",
     "text": [
      "C:\\Users\\Alexa\\AppData\\Local\\Packages\\PythonSoftwareFoundation.Python.3.11_qbz5n2kfra8p0\\LocalCache\\local-packages\\Python311\\site-packages\\maad\\util\\miscellaneous.py:413: RuntimeWarning: divide by zero encountered in log10\n",
      "  y = 10*log10(x)   # take log\n"
     ]
    },
    {
     "name": "stdout",
     "output_type": "stream",
     "text": [
      "Segment 1 done in alu_nut_io_URecorder_20240716_104104_segment_1.wav\n",
      "Segment 2 done in alu_nut_io_URecorder_20240716_104104_segment_2.wav\n",
      "Segment 3 done in alu_nut_io_URecorder_20240716_104104_segment_3.wav\n",
      "Segment 4 done in alu_nut_io_URecorder_20240716_104104_segment_4.wav\n",
      "Segment 5 done in alu_nut_io_URecorder_20240716_104104_segment_5.wav\n",
      "Segment 6 done in alu_nut_io_URecorder_20240716_104104_segment_6.wav\n",
      "Segment 7 done in alu_nut_io_URecorder_20240716_104104_segment_7.wav\n",
      "Segment 8 done in alu_nut_io_URecorder_20240716_104104_segment_8.wav\n",
      "Segment 9 done in alu_nut_io_URecorder_20240716_104104_segment_9.wav\n",
      "Segment 10 done in alu_nut_io_URecorder_20240716_104104_segment_10.wav\n",
      "Segment 11 done in alu_nut_io_URecorder_20240716_104104_segment_11.wav\n",
      "Segment 12 done in alu_nut_io_URecorder_20240716_104104_segment_12.wav\n",
      "Segment 13 done in alu_nut_io_URecorder_20240716_104104_segment_13.wav\n",
      "Segment 14 done in alu_nut_io_URecorder_20240716_104104_segment_14.wav\n",
      "Segment 15 done in alu_nut_io_URecorder_20240716_104104_segment_15.wav\n",
      "Segment 16 done in alu_nut_io_URecorder_20240716_104104_segment_16.wav\n",
      "Segment 17 done in alu_nut_io_URecorder_20240716_104104_segment_17.wav\n",
      "Segment 18 done in alu_nut_io_URecorder_20240716_104104_segment_18.wav\n",
      "Segment 19 done in alu_nut_io_URecorder_20240716_104104_segment_19.wav\n"
     ]
    },
    {
     "name": "stderr",
     "output_type": "stream",
     "text": [
      "C:\\Users\\Alexa\\AppData\\Local\\Packages\\PythonSoftwareFoundation.Python.3.11_qbz5n2kfra8p0\\LocalCache\\local-packages\\Python311\\site-packages\\maad\\util\\miscellaneous.py:413: RuntimeWarning: divide by zero encountered in log10\n",
      "  y = 10*log10(x)   # take log\n"
     ]
    },
    {
     "name": "stdout",
     "output_type": "stream",
     "text": [
      "Segment 1 done in alu_nut_io_URecorder_20240716_104921_segment_1.wav\n",
      "Segment 2 done in alu_nut_io_URecorder_20240716_104921_segment_2.wav\n",
      "Segment 3 done in alu_nut_io_URecorder_20240716_104921_segment_3.wav\n",
      "Segment 4 done in alu_nut_io_URecorder_20240716_104921_segment_4.wav\n",
      "Segment 5 done in alu_nut_io_URecorder_20240716_104921_segment_5.wav\n",
      "Segment 6 done in alu_nut_io_URecorder_20240716_104921_segment_6.wav\n",
      "Segment 7 done in alu_nut_io_URecorder_20240716_104921_segment_7.wav\n",
      "Segment 8 done in alu_nut_io_URecorder_20240716_104921_segment_8.wav\n",
      "Segment 9 done in alu_nut_io_URecorder_20240716_104921_segment_9.wav\n",
      "Segment 10 done in alu_nut_io_URecorder_20240716_104921_segment_10.wav\n",
      "Segment 11 done in alu_nut_io_URecorder_20240716_104921_segment_11.wav\n",
      "Segment 12 done in alu_nut_io_URecorder_20240716_104921_segment_12.wav\n",
      "Segment 13 done in alu_nut_io_URecorder_20240716_104921_segment_13.wav\n",
      "Segment 14 done in alu_nut_io_URecorder_20240716_104921_segment_14.wav\n",
      "Segment 15 done in alu_nut_io_URecorder_20240716_104921_segment_15.wav\n",
      "Segment 16 done in alu_nut_io_URecorder_20240716_104921_segment_16.wav\n",
      "Segment 17 done in alu_nut_io_URecorder_20240716_104921_segment_17.wav\n",
      "Segment 18 done in alu_nut_io_URecorder_20240716_104921_segment_18.wav\n"
     ]
    },
    {
     "name": "stderr",
     "output_type": "stream",
     "text": [
      "C:\\Users\\Alexa\\AppData\\Local\\Packages\\PythonSoftwareFoundation.Python.3.11_qbz5n2kfra8p0\\LocalCache\\local-packages\\Python311\\site-packages\\maad\\util\\miscellaneous.py:413: RuntimeWarning: divide by zero encountered in log10\n",
      "  y = 10*log10(x)   # take log\n"
     ]
    },
    {
     "name": "stdout",
     "output_type": "stream",
     "text": [
      "Segment 1 done in alu_nut_io_URecorder_20240716_105738_segment_1.wav\n",
      "Segment 2 done in alu_nut_io_URecorder_20240716_105738_segment_2.wav\n",
      "Segment 3 done in alu_nut_io_URecorder_20240716_105738_segment_3.wav\n",
      "Segment 4 done in alu_nut_io_URecorder_20240716_105738_segment_4.wav\n",
      "Segment 5 done in alu_nut_io_URecorder_20240716_105738_segment_5.wav\n",
      "Segment 6 done in alu_nut_io_URecorder_20240716_105738_segment_6.wav\n",
      "Segment 7 done in alu_nut_io_URecorder_20240716_105738_segment_7.wav\n",
      "Segment 8 done in alu_nut_io_URecorder_20240716_105738_segment_8.wav\n",
      "Segment 9 done in alu_nut_io_URecorder_20240716_105738_segment_9.wav\n",
      "Segment 10 done in alu_nut_io_URecorder_20240716_105738_segment_10.wav\n",
      "Segment 11 done in alu_nut_io_URecorder_20240716_105738_segment_11.wav\n",
      "Segment 12 done in alu_nut_io_URecorder_20240716_105738_segment_12.wav\n",
      "Segment 13 done in alu_nut_io_URecorder_20240716_105738_segment_13.wav\n",
      "Segment 14 done in alu_nut_io_URecorder_20240716_105738_segment_14.wav\n",
      "Segment 15 done in alu_nut_io_URecorder_20240716_105738_segment_15.wav\n",
      "Segment 16 done in alu_nut_io_URecorder_20240716_105738_segment_16.wav\n",
      "Segment 17 done in alu_nut_io_URecorder_20240716_105738_segment_17.wav\n",
      "Segment 18 done in alu_nut_io_URecorder_20240716_105738_segment_18.wav\n",
      "Segment 19 done in alu_nut_io_URecorder_20240716_105738_segment_19.wav\n"
     ]
    },
    {
     "name": "stderr",
     "output_type": "stream",
     "text": [
      "C:\\Users\\Alexa\\AppData\\Local\\Packages\\PythonSoftwareFoundation.Python.3.11_qbz5n2kfra8p0\\LocalCache\\local-packages\\Python311\\site-packages\\maad\\util\\miscellaneous.py:413: RuntimeWarning: divide by zero encountered in log10\n",
      "  y = 10*log10(x)   # take log\n"
     ]
    },
    {
     "name": "stdout",
     "output_type": "stream",
     "text": [
      "Segment 1 done in alu_nut_nio_URecorder_20240717_102650_segment_1.wav\n",
      "Segment 2 done in alu_nut_nio_URecorder_20240717_102650_segment_2.wav\n",
      "Segment 3 done in alu_nut_nio_URecorder_20240717_102650_segment_3.wav\n",
      "Segment 4 done in alu_nut_nio_URecorder_20240717_102650_segment_4.wav\n",
      "Segment 5 done in alu_nut_nio_URecorder_20240717_102650_segment_5.wav\n",
      "Segment 6 done in alu_nut_nio_URecorder_20240717_102650_segment_6.wav\n",
      "Segment 7 done in alu_nut_nio_URecorder_20240717_102650_segment_7.wav\n",
      "Segment 8 done in alu_nut_nio_URecorder_20240717_102650_segment_8.wav\n",
      "Segment 9 done in alu_nut_nio_URecorder_20240717_102650_segment_9.wav\n",
      "Segment 10 done in alu_nut_nio_URecorder_20240717_102650_segment_10.wav\n",
      "Segment 11 done in alu_nut_nio_URecorder_20240717_102650_segment_11.wav\n",
      "Segment 12 done in alu_nut_nio_URecorder_20240717_102650_segment_12.wav\n",
      "Segment 13 done in alu_nut_nio_URecorder_20240717_102650_segment_13.wav\n",
      "Segment 14 done in alu_nut_nio_URecorder_20240717_102650_segment_14.wav\n",
      "Segment 15 done in alu_nut_nio_URecorder_20240717_102650_segment_15.wav\n",
      "Segment 16 done in alu_nut_nio_URecorder_20240717_102650_segment_16.wav\n",
      "Segment 17 done in alu_nut_nio_URecorder_20240717_102650_segment_17.wav\n",
      "Segment 18 done in alu_nut_nio_URecorder_20240717_102650_segment_18.wav\n",
      "Segment 19 done in alu_nut_nio_URecorder_20240717_102650_segment_19.wav\n"
     ]
    },
    {
     "name": "stderr",
     "output_type": "stream",
     "text": [
      "C:\\Users\\Alexa\\AppData\\Local\\Packages\\PythonSoftwareFoundation.Python.3.11_qbz5n2kfra8p0\\LocalCache\\local-packages\\Python311\\site-packages\\maad\\util\\miscellaneous.py:413: RuntimeWarning: divide by zero encountered in log10\n",
      "  y = 10*log10(x)   # take log\n"
     ]
    },
    {
     "name": "stdout",
     "output_type": "stream",
     "text": [
      "Segment 1 done in alu_nut_nio_URecorder_20240717_103522_segment_1.wav\n",
      "Segment 2 done in alu_nut_nio_URecorder_20240717_103522_segment_2.wav\n",
      "Segment 3 done in alu_nut_nio_URecorder_20240717_103522_segment_3.wav\n",
      "Segment 4 done in alu_nut_nio_URecorder_20240717_103522_segment_4.wav\n",
      "Segment 5 done in alu_nut_nio_URecorder_20240717_103522_segment_5.wav\n",
      "Segment 6 done in alu_nut_nio_URecorder_20240717_103522_segment_6.wav\n",
      "Segment 7 done in alu_nut_nio_URecorder_20240717_103522_segment_7.wav\n",
      "Segment 8 done in alu_nut_nio_URecorder_20240717_103522_segment_8.wav\n",
      "Segment 9 done in alu_nut_nio_URecorder_20240717_103522_segment_9.wav\n",
      "Segment 10 done in alu_nut_nio_URecorder_20240717_103522_segment_10.wav\n",
      "Segment 11 done in alu_nut_nio_URecorder_20240717_103522_segment_11.wav\n",
      "Segment 12 done in alu_nut_nio_URecorder_20240717_103522_segment_12.wav\n",
      "Segment 13 done in alu_nut_nio_URecorder_20240717_103522_segment_13.wav\n",
      "Segment 14 done in alu_nut_nio_URecorder_20240717_103522_segment_14.wav\n",
      "Segment 15 done in alu_nut_nio_URecorder_20240717_103522_segment_15.wav\n",
      "Segment 16 done in alu_nut_nio_URecorder_20240717_103522_segment_16.wav\n",
      "Segment 17 done in alu_nut_nio_URecorder_20240717_103522_segment_17.wav\n",
      "Segment 18 done in alu_nut_nio_URecorder_20240717_103522_segment_18.wav\n",
      "Segment 19 done in alu_nut_nio_URecorder_20240717_103522_segment_19.wav\n"
     ]
    },
    {
     "name": "stderr",
     "output_type": "stream",
     "text": [
      "C:\\Users\\Alexa\\AppData\\Local\\Packages\\PythonSoftwareFoundation.Python.3.11_qbz5n2kfra8p0\\LocalCache\\local-packages\\Python311\\site-packages\\maad\\util\\miscellaneous.py:413: RuntimeWarning: divide by zero encountered in log10\n",
      "  y = 10*log10(x)   # take log\n"
     ]
    },
    {
     "name": "stdout",
     "output_type": "stream",
     "text": [
      "Segment 1 done in alu_nut_nio_URecorder_20240717_104347_segment_1.wav\n",
      "Segment 2 done in alu_nut_nio_URecorder_20240717_104347_segment_2.wav\n",
      "Segment 3 done in alu_nut_nio_URecorder_20240717_104347_segment_3.wav\n",
      "Segment 4 done in alu_nut_nio_URecorder_20240717_104347_segment_4.wav\n",
      "Segment 5 done in alu_nut_nio_URecorder_20240717_104347_segment_5.wav\n",
      "Segment 6 done in alu_nut_nio_URecorder_20240717_104347_segment_6.wav\n",
      "Segment 7 done in alu_nut_nio_URecorder_20240717_104347_segment_7.wav\n",
      "Segment 8 done in alu_nut_nio_URecorder_20240717_104347_segment_8.wav\n",
      "Segment 9 done in alu_nut_nio_URecorder_20240717_104347_segment_9.wav\n",
      "Segment 10 done in alu_nut_nio_URecorder_20240717_104347_segment_10.wav\n",
      "Segment 11 done in alu_nut_nio_URecorder_20240717_104347_segment_11.wav\n",
      "Segment 12 done in alu_nut_nio_URecorder_20240717_104347_segment_12.wav\n",
      "Segment 13 done in alu_nut_nio_URecorder_20240717_104347_segment_13.wav\n",
      "Segment 14 done in alu_nut_nio_URecorder_20240717_104347_segment_14.wav\n",
      "Segment 15 done in alu_nut_nio_URecorder_20240717_104347_segment_15.wav\n",
      "Segment 16 done in alu_nut_nio_URecorder_20240717_104347_segment_16.wav\n",
      "Segment 17 done in alu_nut_nio_URecorder_20240717_104347_segment_17.wav\n",
      "Segment 18 done in alu_nut_nio_URecorder_20240717_104347_segment_18.wav\n",
      "Segment 19 done in alu_nut_nio_URecorder_20240717_104347_segment_19.wav\n"
     ]
    },
    {
     "name": "stderr",
     "output_type": "stream",
     "text": [
      "C:\\Users\\Alexa\\AppData\\Local\\Packages\\PythonSoftwareFoundation.Python.3.11_qbz5n2kfra8p0\\LocalCache\\local-packages\\Python311\\site-packages\\maad\\util\\miscellaneous.py:413: RuntimeWarning: divide by zero encountered in log10\n",
      "  y = 10*log10(x)   # take log\n"
     ]
    },
    {
     "name": "stdout",
     "output_type": "stream",
     "text": [
      "Segment 1 done in alu_nut_nio_URecorder_20240717_105152_segment_1.wav\n",
      "Segment 2 done in alu_nut_nio_URecorder_20240717_105152_segment_2.wav\n",
      "Segment 3 done in alu_nut_nio_URecorder_20240717_105152_segment_3.wav\n",
      "Segment 4 done in alu_nut_nio_URecorder_20240717_105152_segment_4.wav\n",
      "Segment 5 done in alu_nut_nio_URecorder_20240717_105152_segment_5.wav\n",
      "Segment 6 done in alu_nut_nio_URecorder_20240717_105152_segment_6.wav\n",
      "Segment 7 done in alu_nut_nio_URecorder_20240717_105152_segment_7.wav\n",
      "Segment 8 done in alu_nut_nio_URecorder_20240717_105152_segment_8.wav\n",
      "Segment 9 done in alu_nut_nio_URecorder_20240717_105152_segment_9.wav\n",
      "Segment 10 done in alu_nut_nio_URecorder_20240717_105152_segment_10.wav\n",
      "Segment 11 done in alu_nut_nio_URecorder_20240717_105152_segment_11.wav\n",
      "Segment 12 done in alu_nut_nio_URecorder_20240717_105152_segment_12.wav\n",
      "Segment 13 done in alu_nut_nio_URecorder_20240717_105152_segment_13.wav\n",
      "Segment 14 done in alu_nut_nio_URecorder_20240717_105152_segment_14.wav\n",
      "Segment 15 done in alu_nut_nio_URecorder_20240717_105152_segment_15.wav\n",
      "Segment 16 done in alu_nut_nio_URecorder_20240717_105152_segment_16.wav\n",
      "Segment 17 done in alu_nut_nio_URecorder_20240717_105152_segment_17.wav\n",
      "Segment 18 done in alu_nut_nio_URecorder_20240717_105152_segment_18.wav\n",
      "Segment 19 done in alu_nut_nio_URecorder_20240717_105152_segment_19.wav\n"
     ]
    },
    {
     "name": "stderr",
     "output_type": "stream",
     "text": [
      "C:\\Users\\Alexa\\AppData\\Local\\Packages\\PythonSoftwareFoundation.Python.3.11_qbz5n2kfra8p0\\LocalCache\\local-packages\\Python311\\site-packages\\maad\\util\\miscellaneous.py:413: RuntimeWarning: divide by zero encountered in log10\n",
      "  y = 10*log10(x)   # take log\n"
     ]
    },
    {
     "name": "stdout",
     "output_type": "stream",
     "text": [
      "Segment 1 done in alu_nut_nio_URecorder_20240717_110003_segment_1.wav\n",
      "Segment 2 done in alu_nut_nio_URecorder_20240717_110003_segment_2.wav\n",
      "Segment 3 done in alu_nut_nio_URecorder_20240717_110003_segment_3.wav\n",
      "Segment 4 done in alu_nut_nio_URecorder_20240717_110003_segment_4.wav\n",
      "Segment 5 done in alu_nut_nio_URecorder_20240717_110003_segment_5.wav\n",
      "Segment 6 done in alu_nut_nio_URecorder_20240717_110003_segment_6.wav\n",
      "Segment 7 done in alu_nut_nio_URecorder_20240717_110003_segment_7.wav\n",
      "Segment 8 done in alu_nut_nio_URecorder_20240717_110003_segment_8.wav\n",
      "Segment 9 done in alu_nut_nio_URecorder_20240717_110003_segment_9.wav\n",
      "Segment 10 done in alu_nut_nio_URecorder_20240717_110003_segment_10.wav\n",
      "Segment 11 done in alu_nut_nio_URecorder_20240717_110003_segment_11.wav\n",
      "Segment 12 done in alu_nut_nio_URecorder_20240717_110003_segment_12.wav\n",
      "Segment 13 done in alu_nut_nio_URecorder_20240717_110003_segment_13.wav\n",
      "Segment 14 done in alu_nut_nio_URecorder_20240717_110003_segment_14.wav\n",
      "Segment 15 done in alu_nut_nio_URecorder_20240717_110003_segment_15.wav\n",
      "Segment 16 done in alu_nut_nio_URecorder_20240717_110003_segment_16.wav\n",
      "Segment 17 done in alu_nut_nio_URecorder_20240717_110003_segment_17.wav\n",
      "Segment 18 done in alu_nut_nio_URecorder_20240717_110003_segment_18.wav\n",
      "Segment 19 done in alu_nut_nio_URecorder_20240717_110003_segment_19.wav\n"
     ]
    },
    {
     "name": "stderr",
     "output_type": "stream",
     "text": [
      "C:\\Users\\Alexa\\AppData\\Local\\Packages\\PythonSoftwareFoundation.Python.3.11_qbz5n2kfra8p0\\LocalCache\\local-packages\\Python311\\site-packages\\maad\\util\\miscellaneous.py:413: RuntimeWarning: divide by zero encountered in log10\n",
      "  y = 10*log10(x)   # take log\n"
     ]
    },
    {
     "name": "stdout",
     "output_type": "stream",
     "text": [
      "Segment 1 done in alu_nut_nio_URecorder_20240717_113037_segment_1.wav\n",
      "Segment 2 done in alu_nut_nio_URecorder_20240717_113037_segment_2.wav\n",
      "Segment 3 done in alu_nut_nio_URecorder_20240717_113037_segment_3.wav\n",
      "Segment 4 done in alu_nut_nio_URecorder_20240717_113037_segment_4.wav\n",
      "Segment 5 done in alu_nut_nio_URecorder_20240717_113037_segment_5.wav\n",
      "Segment 6 done in alu_nut_nio_URecorder_20240717_113037_segment_6.wav\n",
      "Segment 7 done in alu_nut_nio_URecorder_20240717_113037_segment_7.wav\n",
      "Segment 8 done in alu_nut_nio_URecorder_20240717_113037_segment_8.wav\n",
      "Segment 9 done in alu_nut_nio_URecorder_20240717_113037_segment_9.wav\n",
      "Segment 10 done in alu_nut_nio_URecorder_20240717_113037_segment_10.wav\n",
      "Segment 11 done in alu_nut_nio_URecorder_20240717_113037_segment_11.wav\n",
      "Segment 12 done in alu_nut_nio_URecorder_20240717_113037_segment_12.wav\n",
      "Segment 13 done in alu_nut_nio_URecorder_20240717_113037_segment_13.wav\n",
      "Segment 14 done in alu_nut_nio_URecorder_20240717_113037_segment_14.wav\n",
      "Segment 15 done in alu_nut_nio_URecorder_20240717_113037_segment_15.wav\n",
      "Segment 16 done in alu_nut_nio_URecorder_20240717_113037_segment_16.wav\n",
      "Segment 17 done in alu_nut_nio_URecorder_20240717_113037_segment_17.wav\n",
      "Segment 18 done in alu_nut_nio_URecorder_20240717_113037_segment_18.wav\n",
      "Segment 19 done in alu_nut_nio_URecorder_20240717_113037_segment_19.wav\n"
     ]
    },
    {
     "name": "stderr",
     "output_type": "stream",
     "text": [
      "C:\\Users\\Alexa\\AppData\\Local\\Packages\\PythonSoftwareFoundation.Python.3.11_qbz5n2kfra8p0\\LocalCache\\local-packages\\Python311\\site-packages\\maad\\util\\miscellaneous.py:413: RuntimeWarning: divide by zero encountered in log10\n",
      "  y = 10*log10(x)   # take log\n"
     ]
    },
    {
     "name": "stdout",
     "output_type": "stream",
     "text": [
      "Segment 1 done in alu_nut_nio_URecorder_20240717_132140_segment_1.wav\n",
      "Segment 2 done in alu_nut_nio_URecorder_20240717_132140_segment_2.wav\n",
      "Segment 3 done in alu_nut_nio_URecorder_20240717_132140_segment_3.wav\n",
      "Segment 4 done in alu_nut_nio_URecorder_20240717_132140_segment_4.wav\n",
      "Segment 5 done in alu_nut_nio_URecorder_20240717_132140_segment_5.wav\n",
      "Segment 6 done in alu_nut_nio_URecorder_20240717_132140_segment_6.wav\n",
      "Segment 7 done in alu_nut_nio_URecorder_20240717_132140_segment_7.wav\n",
      "Segment 8 done in alu_nut_nio_URecorder_20240717_132140_segment_8.wav\n",
      "Segment 9 done in alu_nut_nio_URecorder_20240717_132140_segment_9.wav\n",
      "Segment 10 done in alu_nut_nio_URecorder_20240717_132140_segment_10.wav\n",
      "Segment 11 done in alu_nut_nio_URecorder_20240717_132140_segment_11.wav\n",
      "Segment 12 done in alu_nut_nio_URecorder_20240717_132140_segment_12.wav\n",
      "Segment 13 done in alu_nut_nio_URecorder_20240717_132140_segment_13.wav\n",
      "Segment 14 done in alu_nut_nio_URecorder_20240717_132140_segment_14.wav\n",
      "Segment 15 done in alu_nut_nio_URecorder_20240717_132140_segment_15.wav\n",
      "Segment 16 done in alu_nut_nio_URecorder_20240717_132140_segment_16.wav\n",
      "Segment 17 done in alu_nut_nio_URecorder_20240717_132140_segment_17.wav\n",
      "Segment 18 done in alu_nut_nio_URecorder_20240717_132140_segment_18.wav\n",
      "Segment 19 done in alu_nut_nio_URecorder_20240717_132140_segment_19.wav\n"
     ]
    },
    {
     "name": "stderr",
     "output_type": "stream",
     "text": [
      "C:\\Users\\Alexa\\AppData\\Local\\Packages\\PythonSoftwareFoundation.Python.3.11_qbz5n2kfra8p0\\LocalCache\\local-packages\\Python311\\site-packages\\maad\\util\\miscellaneous.py:413: RuntimeWarning: divide by zero encountered in log10\n",
      "  y = 10*log10(x)   # take log\n"
     ]
    },
    {
     "name": "stdout",
     "output_type": "stream",
     "text": [
      "Segment 1 done in alu_nut_nio_URecorder_20240717_133450_segment_1.wav\n",
      "Segment 2 done in alu_nut_nio_URecorder_20240717_133450_segment_2.wav\n",
      "Segment 3 done in alu_nut_nio_URecorder_20240717_133450_segment_3.wav\n",
      "Segment 4 done in alu_nut_nio_URecorder_20240717_133450_segment_4.wav\n",
      "Segment 5 done in alu_nut_nio_URecorder_20240717_133450_segment_5.wav\n",
      "Segment 6 done in alu_nut_nio_URecorder_20240717_133450_segment_6.wav\n",
      "Segment 7 done in alu_nut_nio_URecorder_20240717_133450_segment_7.wav\n",
      "Segment 8 done in alu_nut_nio_URecorder_20240717_133450_segment_8.wav\n",
      "Segment 9 done in alu_nut_nio_URecorder_20240717_133450_segment_9.wav\n",
      "Segment 10 done in alu_nut_nio_URecorder_20240717_133450_segment_10.wav\n",
      "Segment 11 done in alu_nut_nio_URecorder_20240717_133450_segment_11.wav\n",
      "Segment 12 done in alu_nut_nio_URecorder_20240717_133450_segment_12.wav\n",
      "Segment 13 done in alu_nut_nio_URecorder_20240717_133450_segment_13.wav\n",
      "Segment 14 done in alu_nut_nio_URecorder_20240717_133450_segment_14.wav\n",
      "Segment 15 done in alu_nut_nio_URecorder_20240717_133450_segment_15.wav\n",
      "Segment 16 done in alu_nut_nio_URecorder_20240717_133450_segment_16.wav\n",
      "Segment 17 done in alu_nut_nio_URecorder_20240717_133450_segment_17.wav\n",
      "Segment 18 done in alu_nut_nio_URecorder_20240717_133450_segment_18.wav\n",
      "Segment 19 done in alu_nut_nio_URecorder_20240717_133450_segment_19.wav\n"
     ]
    },
    {
     "name": "stderr",
     "output_type": "stream",
     "text": [
      "C:\\Users\\Alexa\\AppData\\Local\\Packages\\PythonSoftwareFoundation.Python.3.11_qbz5n2kfra8p0\\LocalCache\\local-packages\\Python311\\site-packages\\maad\\util\\miscellaneous.py:413: RuntimeWarning: divide by zero encountered in log10\n",
      "  y = 10*log10(x)   # take log\n"
     ]
    },
    {
     "name": "stdout",
     "output_type": "stream",
     "text": [
      "Segment 1 done in alu_nut_nio_URecorder_20240717_134301_segment_1.wav\n",
      "Segment 2 done in alu_nut_nio_URecorder_20240717_134301_segment_2.wav\n",
      "Segment 3 done in alu_nut_nio_URecorder_20240717_134301_segment_3.wav\n",
      "Segment 4 done in alu_nut_nio_URecorder_20240717_134301_segment_4.wav\n",
      "Segment 5 done in alu_nut_nio_URecorder_20240717_134301_segment_5.wav\n",
      "Segment 6 done in alu_nut_nio_URecorder_20240717_134301_segment_6.wav\n",
      "Segment 7 done in alu_nut_nio_URecorder_20240717_134301_segment_7.wav\n",
      "Segment 8 done in alu_nut_nio_URecorder_20240717_134301_segment_8.wav\n",
      "Segment 9 done in alu_nut_nio_URecorder_20240717_134301_segment_9.wav\n",
      "Segment 10 done in alu_nut_nio_URecorder_20240717_134301_segment_10.wav\n",
      "Segment 11 done in alu_nut_nio_URecorder_20240717_134301_segment_11.wav\n",
      "Segment 12 done in alu_nut_nio_URecorder_20240717_134301_segment_12.wav\n",
      "Segment 13 done in alu_nut_nio_URecorder_20240717_134301_segment_13.wav\n",
      "Segment 14 done in alu_nut_nio_URecorder_20240717_134301_segment_14.wav\n",
      "Segment 15 done in alu_nut_nio_URecorder_20240717_134301_segment_15.wav\n",
      "Segment 16 done in alu_nut_nio_URecorder_20240717_134301_segment_16.wav\n",
      "Segment 17 done in alu_nut_nio_URecorder_20240717_134301_segment_17.wav\n",
      "Segment 18 done in alu_nut_nio_URecorder_20240717_134301_segment_18.wav\n",
      "Segment 19 done in alu_nut_nio_URecorder_20240717_134301_segment_19.wav\n"
     ]
    },
    {
     "name": "stderr",
     "output_type": "stream",
     "text": [
      "C:\\Users\\Alexa\\AppData\\Local\\Packages\\PythonSoftwareFoundation.Python.3.11_qbz5n2kfra8p0\\LocalCache\\local-packages\\Python311\\site-packages\\maad\\util\\miscellaneous.py:413: RuntimeWarning: divide by zero encountered in log10\n",
      "  y = 10*log10(x)   # take log\n"
     ]
    },
    {
     "name": "stdout",
     "output_type": "stream",
     "text": [
      "Segment 1 done in alu_nut_nio_URecorder_20240717_135137_segment_1.wav\n",
      "Segment 2 done in alu_nut_nio_URecorder_20240717_135137_segment_2.wav\n",
      "Segment 3 done in alu_nut_nio_URecorder_20240717_135137_segment_3.wav\n",
      "Segment 4 done in alu_nut_nio_URecorder_20240717_135137_segment_4.wav\n",
      "Segment 5 done in alu_nut_nio_URecorder_20240717_135137_segment_5.wav\n",
      "Segment 6 done in alu_nut_nio_URecorder_20240717_135137_segment_6.wav\n",
      "Segment 7 done in alu_nut_nio_URecorder_20240717_135137_segment_7.wav\n",
      "Segment 8 done in alu_nut_nio_URecorder_20240717_135137_segment_8.wav\n",
      "Segment 9 done in alu_nut_nio_URecorder_20240717_135137_segment_9.wav\n",
      "Segment 10 done in alu_nut_nio_URecorder_20240717_135137_segment_10.wav\n",
      "Segment 11 done in alu_nut_nio_URecorder_20240717_135137_segment_11.wav\n",
      "Segment 12 done in alu_nut_nio_URecorder_20240717_135137_segment_12.wav\n",
      "Segment 13 done in alu_nut_nio_URecorder_20240717_135137_segment_13.wav\n",
      "Segment 14 done in alu_nut_nio_URecorder_20240717_135137_segment_14.wav\n",
      "Segment 15 done in alu_nut_nio_URecorder_20240717_135137_segment_15.wav\n",
      "Segment 16 done in alu_nut_nio_URecorder_20240717_135137_segment_16.wav\n",
      "Segment 17 done in alu_nut_nio_URecorder_20240717_135137_segment_17.wav\n",
      "Segment 18 done in alu_nut_nio_URecorder_20240717_135137_segment_18.wav\n",
      "Segment 19 done in alu_nut_nio_URecorder_20240717_135137_segment_19.wav\n"
     ]
    },
    {
     "name": "stderr",
     "output_type": "stream",
     "text": [
      "C:\\Users\\Alexa\\AppData\\Local\\Packages\\PythonSoftwareFoundation.Python.3.11_qbz5n2kfra8p0\\LocalCache\\local-packages\\Python311\\site-packages\\maad\\util\\miscellaneous.py:413: RuntimeWarning: divide by zero encountered in log10\n",
      "  y = 10*log10(x)   # take log\n"
     ]
    },
    {
     "name": "stdout",
     "output_type": "stream",
     "text": [
      "Segment 1 done in alu_nut_nio_URecorder_20240717_142914_segment_1.wav\n",
      "Segment 2 done in alu_nut_nio_URecorder_20240717_142914_segment_2.wav\n",
      "Segment 3 done in alu_nut_nio_URecorder_20240717_142914_segment_3.wav\n",
      "Segment 4 done in alu_nut_nio_URecorder_20240717_142914_segment_4.wav\n",
      "Segment 5 done in alu_nut_nio_URecorder_20240717_142914_segment_5.wav\n",
      "Segment 6 done in alu_nut_nio_URecorder_20240717_142914_segment_6.wav\n",
      "Segment 7 done in alu_nut_nio_URecorder_20240717_142914_segment_7.wav\n",
      "Segment 8 done in alu_nut_nio_URecorder_20240717_142914_segment_8.wav\n",
      "Segment 9 done in alu_nut_nio_URecorder_20240717_142914_segment_9.wav\n",
      "Segment 10 done in alu_nut_nio_URecorder_20240717_142914_segment_10.wav\n",
      "Segment 11 done in alu_nut_nio_URecorder_20240717_142914_segment_11.wav\n",
      "Segment 12 done in alu_nut_nio_URecorder_20240717_142914_segment_12.wav\n",
      "Segment 13 done in alu_nut_nio_URecorder_20240717_142914_segment_13.wav\n",
      "Segment 14 done in alu_nut_nio_URecorder_20240717_142914_segment_14.wav\n",
      "Segment 15 done in alu_nut_nio_URecorder_20240717_142914_segment_15.wav\n",
      "Segment 16 done in alu_nut_nio_URecorder_20240717_142914_segment_16.wav\n",
      "Segment 17 done in alu_nut_nio_URecorder_20240717_142914_segment_17.wav\n",
      "Segment 18 done in alu_nut_nio_URecorder_20240717_142914_segment_18.wav\n",
      "Segment 19 done in alu_nut_nio_URecorder_20240717_142914_segment_19.wav\n"
     ]
    },
    {
     "name": "stderr",
     "output_type": "stream",
     "text": [
      "C:\\Users\\Alexa\\AppData\\Local\\Packages\\PythonSoftwareFoundation.Python.3.11_qbz5n2kfra8p0\\LocalCache\\local-packages\\Python311\\site-packages\\maad\\util\\miscellaneous.py:413: RuntimeWarning: divide by zero encountered in log10\n",
      "  y = 10*log10(x)   # take log\n"
     ]
    },
    {
     "name": "stdout",
     "output_type": "stream",
     "text": [
      "Segment 1 done in alu_nut_nio_URecorder_20240717_144546_segment_1.wav\n",
      "Segment 2 done in alu_nut_nio_URecorder_20240717_144546_segment_2.wav\n",
      "Segment 3 done in alu_nut_nio_URecorder_20240717_144546_segment_3.wav\n",
      "Segment 4 done in alu_nut_nio_URecorder_20240717_144546_segment_4.wav\n",
      "Segment 5 done in alu_nut_nio_URecorder_20240717_144546_segment_5.wav\n",
      "Segment 6 done in alu_nut_nio_URecorder_20240717_144546_segment_6.wav\n",
      "Segment 7 done in alu_nut_nio_URecorder_20240717_144546_segment_7.wav\n",
      "Segment 8 done in alu_nut_nio_URecorder_20240717_144546_segment_8.wav\n",
      "Segment 9 done in alu_nut_nio_URecorder_20240717_144546_segment_9.wav\n",
      "Segment 10 done in alu_nut_nio_URecorder_20240717_144546_segment_10.wav\n",
      "Segment 11 done in alu_nut_nio_URecorder_20240717_144546_segment_11.wav\n",
      "Segment 12 done in alu_nut_nio_URecorder_20240717_144546_segment_12.wav\n",
      "Segment 13 done in alu_nut_nio_URecorder_20240717_144546_segment_13.wav\n",
      "Segment 14 done in alu_nut_nio_URecorder_20240717_144546_segment_14.wav\n",
      "Segment 15 done in alu_nut_nio_URecorder_20240717_144546_segment_15.wav\n",
      "Segment 16 done in alu_nut_nio_URecorder_20240717_144546_segment_16.wav\n",
      "Segment 17 done in alu_nut_nio_URecorder_20240717_144546_segment_17.wav\n",
      "Segment 18 done in alu_nut_nio_URecorder_20240717_144546_segment_18.wav\n",
      "Segment 19 done in alu_nut_nio_URecorder_20240717_144546_segment_19.wav\n"
     ]
    },
    {
     "name": "stderr",
     "output_type": "stream",
     "text": [
      "C:\\Users\\Alexa\\AppData\\Local\\Packages\\PythonSoftwareFoundation.Python.3.11_qbz5n2kfra8p0\\LocalCache\\local-packages\\Python311\\site-packages\\maad\\util\\miscellaneous.py:413: RuntimeWarning: divide by zero encountered in log10\n",
      "  y = 10*log10(x)   # take log\n"
     ]
    },
    {
     "name": "stdout",
     "output_type": "stream",
     "text": [
      "Segment 1 done in alu_nut_nio_URecorder_20240717_145358_segment_1.wav\n",
      "Segment 2 done in alu_nut_nio_URecorder_20240717_145358_segment_2.wav\n",
      "Segment 3 done in alu_nut_nio_URecorder_20240717_145358_segment_3.wav\n",
      "Segment 4 done in alu_nut_nio_URecorder_20240717_145358_segment_4.wav\n",
      "Segment 5 done in alu_nut_nio_URecorder_20240717_145358_segment_5.wav\n",
      "Segment 6 done in alu_nut_nio_URecorder_20240717_145358_segment_6.wav\n",
      "Segment 7 done in alu_nut_nio_URecorder_20240717_145358_segment_7.wav\n",
      "Segment 8 done in alu_nut_nio_URecorder_20240717_145358_segment_8.wav\n",
      "Segment 9 done in alu_nut_nio_URecorder_20240717_145358_segment_9.wav\n",
      "Segment 10 done in alu_nut_nio_URecorder_20240717_145358_segment_10.wav\n",
      "Segment 11 done in alu_nut_nio_URecorder_20240717_145358_segment_11.wav\n",
      "Segment 12 done in alu_nut_nio_URecorder_20240717_145358_segment_12.wav\n",
      "Segment 13 done in alu_nut_nio_URecorder_20240717_145358_segment_13.wav\n",
      "Segment 14 done in alu_nut_nio_URecorder_20240717_145358_segment_14.wav\n",
      "Segment 15 done in alu_nut_nio_URecorder_20240717_145358_segment_15.wav\n",
      "Segment 16 done in alu_nut_nio_URecorder_20240717_145358_segment_16.wav\n",
      "Segment 17 done in alu_nut_nio_URecorder_20240717_145358_segment_17.wav\n",
      "Segment 18 done in alu_nut_nio_URecorder_20240717_145358_segment_18.wav\n",
      "Segment 19 done in alu_nut_nio_URecorder_20240717_145358_segment_19.wav\n"
     ]
    },
    {
     "name": "stderr",
     "output_type": "stream",
     "text": [
      "C:\\Users\\Alexa\\AppData\\Local\\Packages\\PythonSoftwareFoundation.Python.3.11_qbz5n2kfra8p0\\LocalCache\\local-packages\\Python311\\site-packages\\maad\\util\\miscellaneous.py:413: RuntimeWarning: divide by zero encountered in log10\n",
      "  y = 10*log10(x)   # take log\n"
     ]
    },
    {
     "name": "stdout",
     "output_type": "stream",
     "text": [
      "Segment 1 done in alu_ohne_io_URecorder_20240715_114432_segment_1.wav\n",
      "Segment 2 done in alu_ohne_io_URecorder_20240715_114432_segment_2.wav\n",
      "Segment 3 done in alu_ohne_io_URecorder_20240715_114432_segment_3.wav\n",
      "Segment 4 done in alu_ohne_io_URecorder_20240715_114432_segment_4.wav\n",
      "Segment 5 done in alu_ohne_io_URecorder_20240715_114432_segment_5.wav\n",
      "Segment 6 done in alu_ohne_io_URecorder_20240715_114432_segment_6.wav\n",
      "Segment 7 done in alu_ohne_io_URecorder_20240715_114432_segment_7.wav\n",
      "Segment 8 done in alu_ohne_io_URecorder_20240715_114432_segment_8.wav\n",
      "Segment 9 done in alu_ohne_io_URecorder_20240715_114432_segment_9.wav\n",
      "Segment 10 done in alu_ohne_io_URecorder_20240715_114432_segment_10.wav\n",
      "Segment 11 done in alu_ohne_io_URecorder_20240715_114432_segment_11.wav\n",
      "Segment 12 done in alu_ohne_io_URecorder_20240715_114432_segment_12.wav\n",
      "Segment 13 done in alu_ohne_io_URecorder_20240715_114432_segment_13.wav\n",
      "Segment 14 done in alu_ohne_io_URecorder_20240715_114432_segment_14.wav\n"
     ]
    },
    {
     "name": "stderr",
     "output_type": "stream",
     "text": [
      "C:\\Users\\Alexa\\AppData\\Local\\Packages\\PythonSoftwareFoundation.Python.3.11_qbz5n2kfra8p0\\LocalCache\\local-packages\\Python311\\site-packages\\maad\\util\\miscellaneous.py:413: RuntimeWarning: divide by zero encountered in log10\n",
      "  y = 10*log10(x)   # take log\n"
     ]
    },
    {
     "name": "stdout",
     "output_type": "stream",
     "text": [
      "Segment 1 done in alu_ohne_io_URecorder_20240715_131125_segment_1.wav\n",
      "Segment 2 done in alu_ohne_io_URecorder_20240715_131125_segment_2.wav\n",
      "Segment 3 done in alu_ohne_io_URecorder_20240715_131125_segment_3.wav\n",
      "Segment 4 done in alu_ohne_io_URecorder_20240715_131125_segment_4.wav\n",
      "Segment 5 done in alu_ohne_io_URecorder_20240715_131125_segment_5.wav\n",
      "Segment 6 done in alu_ohne_io_URecorder_20240715_131125_segment_6.wav\n",
      "Segment 7 done in alu_ohne_io_URecorder_20240715_131125_segment_7.wav\n",
      "Segment 8 done in alu_ohne_io_URecorder_20240715_131125_segment_8.wav\n",
      "Segment 9 done in alu_ohne_io_URecorder_20240715_131125_segment_9.wav\n",
      "Segment 10 done in alu_ohne_io_URecorder_20240715_131125_segment_10.wav\n",
      "Segment 11 done in alu_ohne_io_URecorder_20240715_131125_segment_11.wav\n",
      "Segment 12 done in alu_ohne_io_URecorder_20240715_131125_segment_12.wav\n"
     ]
    },
    {
     "name": "stderr",
     "output_type": "stream",
     "text": [
      "C:\\Users\\Alexa\\AppData\\Local\\Packages\\PythonSoftwareFoundation.Python.3.11_qbz5n2kfra8p0\\LocalCache\\local-packages\\Python311\\site-packages\\maad\\util\\miscellaneous.py:413: RuntimeWarning: divide by zero encountered in log10\n",
      "  y = 10*log10(x)   # take log\n"
     ]
    },
    {
     "name": "stdout",
     "output_type": "stream",
     "text": [
      "Segment 1 done in alu_ohne_nio_URecorder_20240716_112927_segment_1.wav\n",
      "Segment 2 done in alu_ohne_nio_URecorder_20240716_112927_segment_2.wav\n",
      "Segment 3 done in alu_ohne_nio_URecorder_20240716_112927_segment_3.wav\n",
      "Segment 4 done in alu_ohne_nio_URecorder_20240716_112927_segment_4.wav\n",
      "Segment 5 done in alu_ohne_nio_URecorder_20240716_112927_segment_5.wav\n",
      "Segment 6 done in alu_ohne_nio_URecorder_20240716_112927_segment_6.wav\n",
      "Segment 7 done in alu_ohne_nio_URecorder_20240716_112927_segment_7.wav\n",
      "Segment 8 done in alu_ohne_nio_URecorder_20240716_112927_segment_8.wav\n",
      "Segment 9 done in alu_ohne_nio_URecorder_20240716_112927_segment_9.wav\n",
      "Segment 10 done in alu_ohne_nio_URecorder_20240716_112927_segment_10.wav\n",
      "Segment 11 done in alu_ohne_nio_URecorder_20240716_112927_segment_11.wav\n",
      "Segment 12 done in alu_ohne_nio_URecorder_20240716_112927_segment_12.wav\n",
      "Segment 13 done in alu_ohne_nio_URecorder_20240716_112927_segment_13.wav\n",
      "Segment 14 done in alu_ohne_nio_URecorder_20240716_112927_segment_14.wav\n",
      "Segment 15 done in alu_ohne_nio_URecorder_20240716_112927_segment_15.wav\n",
      "Segment 16 done in alu_ohne_nio_URecorder_20240716_112927_segment_16.wav\n",
      "Segment 17 done in alu_ohne_nio_URecorder_20240716_112927_segment_17.wav\n",
      "Segment 18 done in alu_ohne_nio_URecorder_20240716_112927_segment_18.wav\n",
      "Segment 19 done in alu_ohne_nio_URecorder_20240716_112927_segment_19.wav\n"
     ]
    },
    {
     "name": "stderr",
     "output_type": "stream",
     "text": [
      "C:\\Users\\Alexa\\AppData\\Local\\Packages\\PythonSoftwareFoundation.Python.3.11_qbz5n2kfra8p0\\LocalCache\\local-packages\\Python311\\site-packages\\maad\\util\\miscellaneous.py:413: RuntimeWarning: divide by zero encountered in log10\n",
      "  y = 10*log10(x)   # take log\n"
     ]
    },
    {
     "name": "stdout",
     "output_type": "stream",
     "text": [
      "Segment 1 done in alu_ohne_nio_URecorder_20240716_114654_segment_1.wav\n",
      "Segment 2 done in alu_ohne_nio_URecorder_20240716_114654_segment_2.wav\n",
      "Segment 3 done in alu_ohne_nio_URecorder_20240716_114654_segment_3.wav\n",
      "Segment 4 done in alu_ohne_nio_URecorder_20240716_114654_segment_4.wav\n",
      "Segment 5 done in alu_ohne_nio_URecorder_20240716_114654_segment_5.wav\n",
      "Segment 6 done in alu_ohne_nio_URecorder_20240716_114654_segment_6.wav\n",
      "Segment 7 done in alu_ohne_nio_URecorder_20240716_114654_segment_7.wav\n",
      "Segment 8 done in alu_ohne_nio_URecorder_20240716_114654_segment_8.wav\n",
      "Segment 9 done in alu_ohne_nio_URecorder_20240716_114654_segment_9.wav\n",
      "Segment 10 done in alu_ohne_nio_URecorder_20240716_114654_segment_10.wav\n",
      "Segment 11 done in alu_ohne_nio_URecorder_20240716_114654_segment_11.wav\n",
      "Segment 12 done in alu_ohne_nio_URecorder_20240716_114654_segment_12.wav\n",
      "Segment 13 done in alu_ohne_nio_URecorder_20240716_114654_segment_13.wav\n",
      "Segment 14 done in alu_ohne_nio_URecorder_20240716_114654_segment_14.wav\n",
      "Segment 15 done in alu_ohne_nio_URecorder_20240716_114654_segment_15.wav\n",
      "Segment 16 done in alu_ohne_nio_URecorder_20240716_114654_segment_16.wav\n",
      "Segment 17 done in alu_ohne_nio_URecorder_20240716_114654_segment_17.wav\n",
      "Segment 18 done in alu_ohne_nio_URecorder_20240716_114654_segment_18.wav\n",
      "Segment 19 done in alu_ohne_nio_URecorder_20240716_114654_segment_19.wav\n"
     ]
    },
    {
     "name": "stderr",
     "output_type": "stream",
     "text": [
      "C:\\Users\\Alexa\\AppData\\Local\\Packages\\PythonSoftwareFoundation.Python.3.11_qbz5n2kfra8p0\\LocalCache\\local-packages\\Python311\\site-packages\\maad\\util\\miscellaneous.py:413: RuntimeWarning: divide by zero encountered in log10\n",
      "  y = 10*log10(x)   # take log\n"
     ]
    },
    {
     "name": "stdout",
     "output_type": "stream",
     "text": [
      "Segment 1 done in alu_ohne_nio_URecorder_20240716_155450_segment_1.wav\n",
      "Segment 2 done in alu_ohne_nio_URecorder_20240716_155450_segment_2.wav\n",
      "Segment 3 done in alu_ohne_nio_URecorder_20240716_155450_segment_3.wav\n",
      "Segment 4 done in alu_ohne_nio_URecorder_20240716_155450_segment_4.wav\n",
      "Segment 5 done in alu_ohne_nio_URecorder_20240716_155450_segment_5.wav\n",
      "Segment 6 done in alu_ohne_nio_URecorder_20240716_155450_segment_6.wav\n",
      "Segment 7 done in alu_ohne_nio_URecorder_20240716_155450_segment_7.wav\n",
      "Segment 8 done in alu_ohne_nio_URecorder_20240716_155450_segment_8.wav\n",
      "Segment 9 done in alu_ohne_nio_URecorder_20240716_155450_segment_9.wav\n",
      "Segment 10 done in alu_ohne_nio_URecorder_20240716_155450_segment_10.wav\n",
      "Segment 11 done in alu_ohne_nio_URecorder_20240716_155450_segment_11.wav\n",
      "Segment 12 done in alu_ohne_nio_URecorder_20240716_155450_segment_12.wav\n",
      "Segment 13 done in alu_ohne_nio_URecorder_20240716_155450_segment_13.wav\n",
      "Segment 14 done in alu_ohne_nio_URecorder_20240716_155450_segment_14.wav\n",
      "Segment 15 done in alu_ohne_nio_URecorder_20240716_155450_segment_15.wav\n",
      "Segment 16 done in alu_ohne_nio_URecorder_20240716_155450_segment_16.wav\n",
      "Segment 17 done in alu_ohne_nio_URecorder_20240716_155450_segment_17.wav\n",
      "Segment 18 done in alu_ohne_nio_URecorder_20240716_155450_segment_18.wav\n",
      "Segment 19 done in alu_ohne_nio_URecorder_20240716_155450_segment_19.wav\n",
      "Segment 20 done in alu_ohne_nio_URecorder_20240716_155450_segment_20.wav\n",
      "Segment 21 done in alu_ohne_nio_URecorder_20240716_155450_segment_21.wav\n",
      "Segment 22 done in alu_ohne_nio_URecorder_20240716_155450_segment_22.wav\n",
      "Segment 23 done in alu_ohne_nio_URecorder_20240716_155450_segment_23.wav\n"
     ]
    },
    {
     "name": "stderr",
     "output_type": "stream",
     "text": [
      "C:\\Users\\Alexa\\AppData\\Local\\Packages\\PythonSoftwareFoundation.Python.3.11_qbz5n2kfra8p0\\LocalCache\\local-packages\\Python311\\site-packages\\maad\\util\\miscellaneous.py:413: RuntimeWarning: divide by zero encountered in log10\n",
      "  y = 10*log10(x)   # take log\n"
     ]
    },
    {
     "name": "stdout",
     "output_type": "stream",
     "text": [
      "Segment 1 done in alu_nut_io_URecorder_20240715_144236_segment_1.wav\n",
      "Segment 2 done in alu_nut_io_URecorder_20240715_144236_segment_2.wav\n",
      "Segment 3 done in alu_nut_io_URecorder_20240715_144236_segment_3.wav\n",
      "Segment 4 done in alu_nut_io_URecorder_20240715_144236_segment_4.wav\n",
      "Segment 5 done in alu_nut_io_URecorder_20240715_144236_segment_5.wav\n",
      "Segment 6 done in alu_nut_io_URecorder_20240715_144236_segment_6.wav\n",
      "Segment 7 done in alu_nut_io_URecorder_20240715_144236_segment_7.wav\n",
      "Segment 8 done in alu_nut_io_URecorder_20240715_144236_segment_8.wav\n",
      "Segment 9 done in alu_nut_io_URecorder_20240715_144236_segment_9.wav\n",
      "Segment 10 done in alu_nut_io_URecorder_20240715_144236_segment_10.wav\n",
      "Segment 11 done in alu_nut_io_URecorder_20240715_144236_segment_11.wav\n",
      "Segment 12 done in alu_nut_io_URecorder_20240715_144236_segment_12.wav\n",
      "Segment 13 done in alu_nut_io_URecorder_20240715_144236_segment_13.wav\n",
      "Segment 14 done in alu_nut_io_URecorder_20240715_144236_segment_14.wav\n",
      "Segment 15 done in alu_nut_io_URecorder_20240715_144236_segment_15.wav\n",
      "Segment 16 done in alu_nut_io_URecorder_20240715_144236_segment_16.wav\n"
     ]
    },
    {
     "name": "stderr",
     "output_type": "stream",
     "text": [
      "C:\\Users\\Alexa\\AppData\\Local\\Packages\\PythonSoftwareFoundation.Python.3.11_qbz5n2kfra8p0\\LocalCache\\local-packages\\Python311\\site-packages\\maad\\util\\miscellaneous.py:413: RuntimeWarning: divide by zero encountered in log10\n",
      "  y = 10*log10(x)   # take log\n"
     ]
    },
    {
     "name": "stdout",
     "output_type": "stream",
     "text": [
      "Segment 1 done in alu_nut_io_URecorder_20240716_082322_segment_1.wav\n",
      "Segment 2 done in alu_nut_io_URecorder_20240716_082322_segment_2.wav\n",
      "Segment 3 done in alu_nut_io_URecorder_20240716_082322_segment_3.wav\n",
      "Segment 4 done in alu_nut_io_URecorder_20240716_082322_segment_4.wav\n",
      "Segment 5 done in alu_nut_io_URecorder_20240716_082322_segment_5.wav\n",
      "Segment 6 done in alu_nut_io_URecorder_20240716_082322_segment_6.wav\n",
      "Segment 7 done in alu_nut_io_URecorder_20240716_082322_segment_7.wav\n",
      "Segment 8 done in alu_nut_io_URecorder_20240716_082322_segment_8.wav\n",
      "Segment 9 done in alu_nut_io_URecorder_20240716_082322_segment_9.wav\n",
      "Segment 10 done in alu_nut_io_URecorder_20240716_082322_segment_10.wav\n",
      "Segment 11 done in alu_nut_io_URecorder_20240716_082322_segment_11.wav\n",
      "Segment 12 done in alu_nut_io_URecorder_20240716_082322_segment_12.wav\n",
      "Segment 13 done in alu_nut_io_URecorder_20240716_082322_segment_13.wav\n",
      "Segment 14 done in alu_nut_io_URecorder_20240716_082322_segment_14.wav\n",
      "Segment 15 done in alu_nut_io_URecorder_20240716_082322_segment_15.wav\n",
      "Segment 16 done in alu_nut_io_URecorder_20240716_082322_segment_16.wav\n",
      "Segment 17 done in alu_nut_io_URecorder_20240716_082322_segment_17.wav\n",
      "Segment 18 done in alu_nut_io_URecorder_20240716_082322_segment_18.wav\n",
      "Segment 19 done in alu_nut_io_URecorder_20240716_082322_segment_19.wav\n"
     ]
    },
    {
     "name": "stderr",
     "output_type": "stream",
     "text": [
      "C:\\Users\\Alexa\\AppData\\Local\\Packages\\PythonSoftwareFoundation.Python.3.11_qbz5n2kfra8p0\\LocalCache\\local-packages\\Python311\\site-packages\\maad\\util\\miscellaneous.py:413: RuntimeWarning: divide by zero encountered in log10\n",
      "  y = 10*log10(x)   # take log\n"
     ]
    },
    {
     "name": "stdout",
     "output_type": "stream",
     "text": [
      "Segment 1 done in alu_nut_io_URecorder_20240716_103239_segment_1.wav\n",
      "Segment 2 done in alu_nut_io_URecorder_20240716_103239_segment_2.wav\n",
      "Segment 3 done in alu_nut_io_URecorder_20240716_103239_segment_3.wav\n",
      "Segment 4 done in alu_nut_io_URecorder_20240716_103239_segment_4.wav\n",
      "Segment 5 done in alu_nut_io_URecorder_20240716_103239_segment_5.wav\n",
      "Segment 6 done in alu_nut_io_URecorder_20240716_103239_segment_6.wav\n",
      "Segment 7 done in alu_nut_io_URecorder_20240716_103239_segment_7.wav\n",
      "Segment 8 done in alu_nut_io_URecorder_20240716_103239_segment_8.wav\n",
      "Segment 9 done in alu_nut_io_URecorder_20240716_103239_segment_9.wav\n",
      "Segment 10 done in alu_nut_io_URecorder_20240716_103239_segment_10.wav\n",
      "Segment 11 done in alu_nut_io_URecorder_20240716_103239_segment_11.wav\n",
      "Segment 12 done in alu_nut_io_URecorder_20240716_103239_segment_12.wav\n",
      "Segment 13 done in alu_nut_io_URecorder_20240716_103239_segment_13.wav\n",
      "Segment 14 done in alu_nut_io_URecorder_20240716_103239_segment_14.wav\n",
      "Segment 15 done in alu_nut_io_URecorder_20240716_103239_segment_15.wav\n",
      "Segment 16 done in alu_nut_io_URecorder_20240716_103239_segment_16.wav\n",
      "Segment 17 done in alu_nut_io_URecorder_20240716_103239_segment_17.wav\n",
      "Segment 18 done in alu_nut_io_URecorder_20240716_103239_segment_18.wav\n",
      "Segment 19 done in alu_nut_io_URecorder_20240716_103239_segment_19.wav\n"
     ]
    },
    {
     "name": "stderr",
     "output_type": "stream",
     "text": [
      "C:\\Users\\Alexa\\AppData\\Local\\Packages\\PythonSoftwareFoundation.Python.3.11_qbz5n2kfra8p0\\LocalCache\\local-packages\\Python311\\site-packages\\maad\\util\\miscellaneous.py:413: RuntimeWarning: divide by zero encountered in log10\n",
      "  y = 10*log10(x)   # take log\n"
     ]
    },
    {
     "name": "stdout",
     "output_type": "stream",
     "text": [
      "Segment 1 done in alu_nut_nio_URecorder_20240717_131338_segment_1.wav\n",
      "Segment 2 done in alu_nut_nio_URecorder_20240717_131338_segment_2.wav\n",
      "Segment 3 done in alu_nut_nio_URecorder_20240717_131338_segment_3.wav\n",
      "Segment 4 done in alu_nut_nio_URecorder_20240717_131338_segment_4.wav\n",
      "Segment 5 done in alu_nut_nio_URecorder_20240717_131338_segment_5.wav\n",
      "Segment 6 done in alu_nut_nio_URecorder_20240717_131338_segment_6.wav\n",
      "Segment 7 done in alu_nut_nio_URecorder_20240717_131338_segment_7.wav\n",
      "Segment 8 done in alu_nut_nio_URecorder_20240717_131338_segment_8.wav\n",
      "Segment 9 done in alu_nut_nio_URecorder_20240717_131338_segment_9.wav\n",
      "Segment 10 done in alu_nut_nio_URecorder_20240717_131338_segment_10.wav\n",
      "Segment 11 done in alu_nut_nio_URecorder_20240717_131338_segment_11.wav\n",
      "Segment 12 done in alu_nut_nio_URecorder_20240717_131338_segment_12.wav\n",
      "Segment 13 done in alu_nut_nio_URecorder_20240717_131338_segment_13.wav\n",
      "Segment 14 done in alu_nut_nio_URecorder_20240717_131338_segment_14.wav\n",
      "Segment 15 done in alu_nut_nio_URecorder_20240717_131338_segment_15.wav\n",
      "Segment 16 done in alu_nut_nio_URecorder_20240717_131338_segment_16.wav\n",
      "Segment 17 done in alu_nut_nio_URecorder_20240717_131338_segment_17.wav\n",
      "Segment 18 done in alu_nut_nio_URecorder_20240717_131338_segment_18.wav\n",
      "Segment 19 done in alu_nut_nio_URecorder_20240717_131338_segment_19.wav\n"
     ]
    },
    {
     "name": "stderr",
     "output_type": "stream",
     "text": [
      "C:\\Users\\Alexa\\AppData\\Local\\Packages\\PythonSoftwareFoundation.Python.3.11_qbz5n2kfra8p0\\LocalCache\\local-packages\\Python311\\site-packages\\maad\\util\\miscellaneous.py:413: RuntimeWarning: divide by zero encountered in log10\n",
      "  y = 10*log10(x)   # take log\n"
     ]
    },
    {
     "name": "stdout",
     "output_type": "stream",
     "text": [
      "Segment 1 done in alu_nut_nio_URecorder_20240717_135943_segment_1.wav\n",
      "Segment 2 done in alu_nut_nio_URecorder_20240717_135943_segment_2.wav\n",
      "Segment 3 done in alu_nut_nio_URecorder_20240717_135943_segment_3.wav\n",
      "Segment 4 done in alu_nut_nio_URecorder_20240717_135943_segment_4.wav\n",
      "Segment 5 done in alu_nut_nio_URecorder_20240717_135943_segment_5.wav\n",
      "Segment 6 done in alu_nut_nio_URecorder_20240717_135943_segment_6.wav\n",
      "Segment 7 done in alu_nut_nio_URecorder_20240717_135943_segment_7.wav\n",
      "Segment 8 done in alu_nut_nio_URecorder_20240717_135943_segment_8.wav\n",
      "Segment 9 done in alu_nut_nio_URecorder_20240717_135943_segment_9.wav\n",
      "Segment 10 done in alu_nut_nio_URecorder_20240717_135943_segment_10.wav\n",
      "Segment 11 done in alu_nut_nio_URecorder_20240717_135943_segment_11.wav\n",
      "Segment 12 done in alu_nut_nio_URecorder_20240717_135943_segment_12.wav\n",
      "Segment 13 done in alu_nut_nio_URecorder_20240717_135943_segment_13.wav\n",
      "Segment 14 done in alu_nut_nio_URecorder_20240717_135943_segment_14.wav\n",
      "Segment 15 done in alu_nut_nio_URecorder_20240717_135943_segment_15.wav\n",
      "Segment 16 done in alu_nut_nio_URecorder_20240717_135943_segment_16.wav\n",
      "Segment 17 done in alu_nut_nio_URecorder_20240717_135943_segment_17.wav\n",
      "Segment 18 done in alu_nut_nio_URecorder_20240717_135943_segment_18.wav\n",
      "Segment 19 done in alu_nut_nio_URecorder_20240717_135943_segment_19.wav\n"
     ]
    },
    {
     "name": "stderr",
     "output_type": "stream",
     "text": [
      "C:\\Users\\Alexa\\AppData\\Local\\Packages\\PythonSoftwareFoundation.Python.3.11_qbz5n2kfra8p0\\LocalCache\\local-packages\\Python311\\site-packages\\maad\\util\\miscellaneous.py:413: RuntimeWarning: divide by zero encountered in log10\n",
      "  y = 10*log10(x)   # take log\n"
     ]
    },
    {
     "name": "stdout",
     "output_type": "stream",
     "text": [
      "Segment 1 done in alu_ohne_io_URecorder_20240715_095027_segment_1.wav\n",
      "Segment 2 done in alu_ohne_io_URecorder_20240715_095027_segment_2.wav\n",
      "Segment 3 done in alu_ohne_io_URecorder_20240715_095027_segment_3.wav\n",
      "Segment 4 done in alu_ohne_io_URecorder_20240715_095027_segment_4.wav\n",
      "Segment 5 done in alu_ohne_io_URecorder_20240715_095027_segment_5.wav\n",
      "Segment 6 done in alu_ohne_io_URecorder_20240715_095027_segment_6.wav\n",
      "Segment 7 done in alu_ohne_io_URecorder_20240715_095027_segment_7.wav\n",
      "Segment 8 done in alu_ohne_io_URecorder_20240715_095027_segment_8.wav\n",
      "Segment 9 done in alu_ohne_io_URecorder_20240715_095027_segment_9.wav\n",
      "Segment 10 done in alu_ohne_io_URecorder_20240715_095027_segment_10.wav\n",
      "Segment 11 done in alu_ohne_io_URecorder_20240715_095027_segment_11.wav\n",
      "Segment 12 done in alu_ohne_io_URecorder_20240715_095027_segment_12.wav\n",
      "Segment 13 done in alu_ohne_io_URecorder_20240715_095027_segment_13.wav\n",
      "Segment 14 done in alu_ohne_io_URecorder_20240715_095027_segment_14.wav\n",
      "Segment 15 done in alu_ohne_io_URecorder_20240715_095027_segment_15.wav\n",
      "Segment 16 done in alu_ohne_io_URecorder_20240715_095027_segment_16.wav\n",
      "Segment 17 done in alu_ohne_io_URecorder_20240715_095027_segment_17.wav\n"
     ]
    },
    {
     "name": "stderr",
     "output_type": "stream",
     "text": [
      "C:\\Users\\Alexa\\AppData\\Local\\Packages\\PythonSoftwareFoundation.Python.3.11_qbz5n2kfra8p0\\LocalCache\\local-packages\\Python311\\site-packages\\maad\\util\\miscellaneous.py:413: RuntimeWarning: divide by zero encountered in log10\n",
      "  y = 10*log10(x)   # take log\n"
     ]
    },
    {
     "name": "stdout",
     "output_type": "stream",
     "text": [
      "Segment 1 done in alu_ohne_io_URecorder_20240715_102619_segment_1.wav\n",
      "Segment 2 done in alu_ohne_io_URecorder_20240715_102619_segment_2.wav\n",
      "Segment 3 done in alu_ohne_io_URecorder_20240715_102619_segment_3.wav\n",
      "Segment 4 done in alu_ohne_io_URecorder_20240715_102619_segment_4.wav\n",
      "Segment 5 done in alu_ohne_io_URecorder_20240715_102619_segment_5.wav\n",
      "Segment 6 done in alu_ohne_io_URecorder_20240715_102619_segment_6.wav\n",
      "Segment 7 done in alu_ohne_io_URecorder_20240715_102619_segment_7.wav\n",
      "Segment 8 done in alu_ohne_io_URecorder_20240715_102619_segment_8.wav\n",
      "Segment 9 done in alu_ohne_io_URecorder_20240715_102619_segment_9.wav\n",
      "Segment 10 done in alu_ohne_io_URecorder_20240715_102619_segment_10.wav\n",
      "Segment 11 done in alu_ohne_io_URecorder_20240715_102619_segment_11.wav\n",
      "Segment 12 done in alu_ohne_io_URecorder_20240715_102619_segment_12.wav\n",
      "Segment 13 done in alu_ohne_io_URecorder_20240715_102619_segment_13.wav\n",
      "Segment 14 done in alu_ohne_io_URecorder_20240715_102619_segment_14.wav\n",
      "Segment 15 done in alu_ohne_io_URecorder_20240715_102619_segment_15.wav\n",
      "Segment 16 done in alu_ohne_io_URecorder_20240715_102619_segment_16.wav\n",
      "Segment 17 done in alu_ohne_io_URecorder_20240715_102619_segment_17.wav\n",
      "Segment 18 done in alu_ohne_io_URecorder_20240715_102619_segment_18.wav\n"
     ]
    },
    {
     "name": "stderr",
     "output_type": "stream",
     "text": [
      "C:\\Users\\Alexa\\AppData\\Local\\Packages\\PythonSoftwareFoundation.Python.3.11_qbz5n2kfra8p0\\LocalCache\\local-packages\\Python311\\site-packages\\maad\\util\\miscellaneous.py:413: RuntimeWarning: divide by zero encountered in log10\n",
      "  y = 10*log10(x)   # take log\n"
     ]
    },
    {
     "name": "stdout",
     "output_type": "stream",
     "text": [
      "Segment 1 done in alu_ohne_io_URecorder_20240715_103532_segment_1.wav\n",
      "Segment 2 done in alu_ohne_io_URecorder_20240715_103532_segment_2.wav\n",
      "Segment 3 done in alu_ohne_io_URecorder_20240715_103532_segment_3.wav\n",
      "Segment 4 done in alu_ohne_io_URecorder_20240715_103532_segment_4.wav\n",
      "Segment 5 done in alu_ohne_io_URecorder_20240715_103532_segment_5.wav\n",
      "Segment 6 done in alu_ohne_io_URecorder_20240715_103532_segment_6.wav\n",
      "Segment 7 done in alu_ohne_io_URecorder_20240715_103532_segment_7.wav\n",
      "Segment 8 done in alu_ohne_io_URecorder_20240715_103532_segment_8.wav\n",
      "Segment 9 done in alu_ohne_io_URecorder_20240715_103532_segment_9.wav\n",
      "Segment 10 done in alu_ohne_io_URecorder_20240715_103532_segment_10.wav\n",
      "Segment 11 done in alu_ohne_io_URecorder_20240715_103532_segment_11.wav\n",
      "Segment 12 done in alu_ohne_io_URecorder_20240715_103532_segment_12.wav\n",
      "Segment 13 done in alu_ohne_io_URecorder_20240715_103532_segment_13.wav\n",
      "Segment 14 done in alu_ohne_io_URecorder_20240715_103532_segment_14.wav\n",
      "Segment 15 done in alu_ohne_io_URecorder_20240715_103532_segment_15.wav\n",
      "Segment 16 done in alu_ohne_io_URecorder_20240715_103532_segment_16.wav\n",
      "Segment 17 done in alu_ohne_io_URecorder_20240715_103532_segment_17.wav\n",
      "Segment 18 done in alu_ohne_io_URecorder_20240715_103532_segment_18.wav\n",
      "Segment 19 done in alu_ohne_io_URecorder_20240715_103532_segment_19.wav\n"
     ]
    },
    {
     "name": "stderr",
     "output_type": "stream",
     "text": [
      "C:\\Users\\Alexa\\AppData\\Local\\Packages\\PythonSoftwareFoundation.Python.3.11_qbz5n2kfra8p0\\LocalCache\\local-packages\\Python311\\site-packages\\maad\\util\\miscellaneous.py:413: RuntimeWarning: divide by zero encountered in log10\n",
      "  y = 10*log10(x)   # take log\n"
     ]
    },
    {
     "name": "stdout",
     "output_type": "stream",
     "text": [
      "Segment 1 done in alu_ohne_io_URecorder_20240715_113410_segment_1.wav\n",
      "Segment 2 done in alu_ohne_io_URecorder_20240715_113410_segment_2.wav\n",
      "Segment 3 done in alu_ohne_io_URecorder_20240715_113410_segment_3.wav\n",
      "Segment 4 done in alu_ohne_io_URecorder_20240715_113410_segment_4.wav\n",
      "Segment 5 done in alu_ohne_io_URecorder_20240715_113410_segment_5.wav\n",
      "Segment 6 done in alu_ohne_io_URecorder_20240715_113410_segment_6.wav\n",
      "Segment 7 done in alu_ohne_io_URecorder_20240715_113410_segment_7.wav\n",
      "Segment 8 done in alu_ohne_io_URecorder_20240715_113410_segment_8.wav\n",
      "Segment 9 done in alu_ohne_io_URecorder_20240715_113410_segment_9.wav\n",
      "Segment 10 done in alu_ohne_io_URecorder_20240715_113410_segment_10.wav\n",
      "Segment 11 done in alu_ohne_io_URecorder_20240715_113410_segment_11.wav\n"
     ]
    },
    {
     "name": "stderr",
     "output_type": "stream",
     "text": [
      "C:\\Users\\Alexa\\AppData\\Local\\Packages\\PythonSoftwareFoundation.Python.3.11_qbz5n2kfra8p0\\LocalCache\\local-packages\\Python311\\site-packages\\maad\\util\\miscellaneous.py:413: RuntimeWarning: divide by zero encountered in log10\n",
      "  y = 10*log10(x)   # take log\n"
     ]
    },
    {
     "name": "stdout",
     "output_type": "stream",
     "text": [
      "Segment 1 done in alu_ohne_nio_URecorder_20240716_133258_segment_1.wav\n",
      "Segment 2 done in alu_ohne_nio_URecorder_20240716_133258_segment_2.wav\n",
      "Segment 3 done in alu_ohne_nio_URecorder_20240716_133258_segment_3.wav\n",
      "Segment 4 done in alu_ohne_nio_URecorder_20240716_133258_segment_4.wav\n",
      "Segment 5 done in alu_ohne_nio_URecorder_20240716_133258_segment_5.wav\n",
      "Segment 6 done in alu_ohne_nio_URecorder_20240716_133258_segment_6.wav\n",
      "Segment 7 done in alu_ohne_nio_URecorder_20240716_133258_segment_7.wav\n",
      "Segment 8 done in alu_ohne_nio_URecorder_20240716_133258_segment_8.wav\n",
      "Segment 9 done in alu_ohne_nio_URecorder_20240716_133258_segment_9.wav\n",
      "Segment 10 done in alu_ohne_nio_URecorder_20240716_133258_segment_10.wav\n",
      "Segment 11 done in alu_ohne_nio_URecorder_20240716_133258_segment_11.wav\n",
      "Segment 12 done in alu_ohne_nio_URecorder_20240716_133258_segment_12.wav\n",
      "Segment 13 done in alu_ohne_nio_URecorder_20240716_133258_segment_13.wav\n",
      "Segment 14 done in alu_ohne_nio_URecorder_20240716_133258_segment_14.wav\n",
      "Segment 15 done in alu_ohne_nio_URecorder_20240716_133258_segment_15.wav\n",
      "Segment 16 done in alu_ohne_nio_URecorder_20240716_133258_segment_16.wav\n",
      "Segment 17 done in alu_ohne_nio_URecorder_20240716_133258_segment_17.wav\n",
      "Segment 18 done in alu_ohne_nio_URecorder_20240716_133258_segment_18.wav\n",
      "Segment 19 done in alu_ohne_nio_URecorder_20240716_133258_segment_19.wav\n"
     ]
    },
    {
     "name": "stderr",
     "output_type": "stream",
     "text": [
      "C:\\Users\\Alexa\\AppData\\Local\\Packages\\PythonSoftwareFoundation.Python.3.11_qbz5n2kfra8p0\\LocalCache\\local-packages\\Python311\\site-packages\\maad\\util\\miscellaneous.py:413: RuntimeWarning: divide by zero encountered in log10\n",
      "  y = 10*log10(x)   # take log\n"
     ]
    },
    {
     "name": "stdout",
     "output_type": "stream",
     "text": [
      "Segment 1 done in alu_ohne_nio_URecorder_20240716_135105_segment_1.wav\n",
      "Segment 2 done in alu_ohne_nio_URecorder_20240716_135105_segment_2.wav\n",
      "Segment 3 done in alu_ohne_nio_URecorder_20240716_135105_segment_3.wav\n",
      "Segment 4 done in alu_ohne_nio_URecorder_20240716_135105_segment_4.wav\n",
      "Segment 5 done in alu_ohne_nio_URecorder_20240716_135105_segment_5.wav\n",
      "Segment 6 done in alu_ohne_nio_URecorder_20240716_135105_segment_6.wav\n",
      "Segment 7 done in alu_ohne_nio_URecorder_20240716_135105_segment_7.wav\n",
      "Segment 8 done in alu_ohne_nio_URecorder_20240716_135105_segment_8.wav\n",
      "Segment 9 done in alu_ohne_nio_URecorder_20240716_135105_segment_9.wav\n",
      "Segment 10 done in alu_ohne_nio_URecorder_20240716_135105_segment_10.wav\n",
      "Segment 11 done in alu_ohne_nio_URecorder_20240716_135105_segment_11.wav\n",
      "Segment 12 done in alu_ohne_nio_URecorder_20240716_135105_segment_12.wav\n",
      "Segment 13 done in alu_ohne_nio_URecorder_20240716_135105_segment_13.wav\n",
      "Segment 14 done in alu_ohne_nio_URecorder_20240716_135105_segment_14.wav\n",
      "Segment 15 done in alu_ohne_nio_URecorder_20240716_135105_segment_15.wav\n",
      "Segment 16 done in alu_ohne_nio_URecorder_20240716_135105_segment_16.wav\n",
      "Segment 17 done in alu_ohne_nio_URecorder_20240716_135105_segment_17.wav\n",
      "Segment 18 done in alu_ohne_nio_URecorder_20240716_135105_segment_18.wav\n",
      "Segment 19 done in alu_ohne_nio_URecorder_20240716_135105_segment_19.wav\n"
     ]
    },
    {
     "name": "stderr",
     "output_type": "stream",
     "text": [
      "C:\\Users\\Alexa\\AppData\\Local\\Packages\\PythonSoftwareFoundation.Python.3.11_qbz5n2kfra8p0\\LocalCache\\local-packages\\Python311\\site-packages\\maad\\util\\miscellaneous.py:413: RuntimeWarning: divide by zero encountered in log10\n",
      "  y = 10*log10(x)   # take log\n"
     ]
    },
    {
     "name": "stdout",
     "output_type": "stream",
     "text": [
      "Segment 1 done in alu_ohne_nio_URecorder_20240716_142053_segment_1.wav\n",
      "Segment 2 done in alu_ohne_nio_URecorder_20240716_142053_segment_2.wav\n",
      "Segment 3 done in alu_ohne_nio_URecorder_20240716_142053_segment_3.wav\n",
      "Segment 4 done in alu_ohne_nio_URecorder_20240716_142053_segment_4.wav\n",
      "Segment 5 done in alu_ohne_nio_URecorder_20240716_142053_segment_5.wav\n",
      "Segment 6 done in alu_ohne_nio_URecorder_20240716_142053_segment_6.wav\n",
      "Segment 7 done in alu_ohne_nio_URecorder_20240716_142053_segment_7.wav\n",
      "Segment 8 done in alu_ohne_nio_URecorder_20240716_142053_segment_8.wav\n",
      "Segment 9 done in alu_ohne_nio_URecorder_20240716_142053_segment_9.wav\n",
      "Segment 10 done in alu_ohne_nio_URecorder_20240716_142053_segment_10.wav\n",
      "Segment 11 done in alu_ohne_nio_URecorder_20240716_142053_segment_11.wav\n",
      "Segment 12 done in alu_ohne_nio_URecorder_20240716_142053_segment_12.wav\n",
      "Segment 13 done in alu_ohne_nio_URecorder_20240716_142053_segment_13.wav\n",
      "Segment 14 done in alu_ohne_nio_URecorder_20240716_142053_segment_14.wav\n",
      "Segment 15 done in alu_ohne_nio_URecorder_20240716_142053_segment_15.wav\n",
      "Segment 16 done in alu_ohne_nio_URecorder_20240716_142053_segment_16.wav\n",
      "Segment 17 done in alu_ohne_nio_URecorder_20240716_142053_segment_17.wav\n",
      "Segment 18 done in alu_ohne_nio_URecorder_20240716_142053_segment_18.wav\n",
      "Segment 19 done in alu_ohne_nio_URecorder_20240716_142053_segment_19.wav\n"
     ]
    },
    {
     "name": "stderr",
     "output_type": "stream",
     "text": [
      "C:\\Users\\Alexa\\AppData\\Local\\Packages\\PythonSoftwareFoundation.Python.3.11_qbz5n2kfra8p0\\LocalCache\\local-packages\\Python311\\site-packages\\maad\\util\\miscellaneous.py:413: RuntimeWarning: divide by zero encountered in log10\n",
      "  y = 10*log10(x)   # take log\n"
     ]
    },
    {
     "name": "stdout",
     "output_type": "stream",
     "text": [
      "Segment 1 done in alu_ohne_nio_URecorder_20240716_143728_segment_1.wav\n",
      "Segment 2 done in alu_ohne_nio_URecorder_20240716_143728_segment_2.wav\n",
      "Segment 3 done in alu_ohne_nio_URecorder_20240716_143728_segment_3.wav\n",
      "Segment 4 done in alu_ohne_nio_URecorder_20240716_143728_segment_4.wav\n",
      "Segment 5 done in alu_ohne_nio_URecorder_20240716_143728_segment_5.wav\n",
      "Segment 6 done in alu_ohne_nio_URecorder_20240716_143728_segment_6.wav\n",
      "Segment 7 done in alu_ohne_nio_URecorder_20240716_143728_segment_7.wav\n",
      "Segment 8 done in alu_ohne_nio_URecorder_20240716_143728_segment_8.wav\n",
      "Segment 9 done in alu_ohne_nio_URecorder_20240716_143728_segment_9.wav\n",
      "Segment 10 done in alu_ohne_nio_URecorder_20240716_143728_segment_10.wav\n",
      "Segment 11 done in alu_ohne_nio_URecorder_20240716_143728_segment_11.wav\n",
      "Segment 12 done in alu_ohne_nio_URecorder_20240716_143728_segment_12.wav\n",
      "Segment 13 done in alu_ohne_nio_URecorder_20240716_143728_segment_13.wav\n",
      "Segment 14 done in alu_ohne_nio_URecorder_20240716_143728_segment_14.wav\n",
      "Segment 15 done in alu_ohne_nio_URecorder_20240716_143728_segment_15.wav\n",
      "Segment 16 done in alu_ohne_nio_URecorder_20240716_143728_segment_16.wav\n",
      "Segment 17 done in alu_ohne_nio_URecorder_20240716_143728_segment_17.wav\n",
      "Segment 18 done in alu_ohne_nio_URecorder_20240716_143728_segment_18.wav\n",
      "Segment 19 done in alu_ohne_nio_URecorder_20240716_143728_segment_19.wav\n"
     ]
    },
    {
     "name": "stderr",
     "output_type": "stream",
     "text": [
      "C:\\Users\\Alexa\\AppData\\Local\\Packages\\PythonSoftwareFoundation.Python.3.11_qbz5n2kfra8p0\\LocalCache\\local-packages\\Python311\\site-packages\\maad\\util\\miscellaneous.py:413: RuntimeWarning: divide by zero encountered in log10\n",
      "  y = 10*log10(x)   # take log\n"
     ]
    },
    {
     "name": "stdout",
     "output_type": "stream",
     "text": [
      "Segment 1 done in alu_nut_io_URecorder_20240715_142944_segment_1.wav\n",
      "Segment 2 done in alu_nut_io_URecorder_20240715_142944_segment_2.wav\n",
      "Segment 3 done in alu_nut_io_URecorder_20240715_142944_segment_3.wav\n",
      "Segment 4 done in alu_nut_io_URecorder_20240715_142944_segment_4.wav\n",
      "Segment 5 done in alu_nut_io_URecorder_20240715_142944_segment_5.wav\n",
      "Segment 6 done in alu_nut_io_URecorder_20240715_142944_segment_6.wav\n",
      "Segment 7 done in alu_nut_io_URecorder_20240715_142944_segment_7.wav\n",
      "Segment 8 done in alu_nut_io_URecorder_20240715_142944_segment_8.wav\n",
      "Segment 9 done in alu_nut_io_URecorder_20240715_142944_segment_9.wav\n",
      "Segment 10 done in alu_nut_io_URecorder_20240715_142944_segment_10.wav\n",
      "Segment 11 done in alu_nut_io_URecorder_20240715_142944_segment_11.wav\n",
      "Segment 12 done in alu_nut_io_URecorder_20240715_142944_segment_12.wav\n",
      "Segment 13 done in alu_nut_io_URecorder_20240715_142944_segment_13.wav\n",
      "Segment 14 done in alu_nut_io_URecorder_20240715_142944_segment_14.wav\n",
      "Segment 15 done in alu_nut_io_URecorder_20240715_142944_segment_15.wav\n",
      "Segment 16 done in alu_nut_io_URecorder_20240715_142944_segment_16.wav\n"
     ]
    },
    {
     "name": "stderr",
     "output_type": "stream",
     "text": [
      "C:\\Users\\Alexa\\AppData\\Local\\Packages\\PythonSoftwareFoundation.Python.3.11_qbz5n2kfra8p0\\LocalCache\\local-packages\\Python311\\site-packages\\maad\\util\\miscellaneous.py:413: RuntimeWarning: divide by zero encountered in log10\n",
      "  y = 10*log10(x)   # take log\n"
     ]
    },
    {
     "name": "stdout",
     "output_type": "stream",
     "text": [
      "Segment 1 done in alu_nut_io_URecorder_20240715_150040_segment_1.wav\n",
      "Segment 2 done in alu_nut_io_URecorder_20240715_150040_segment_2.wav\n",
      "Segment 3 done in alu_nut_io_URecorder_20240715_150040_segment_3.wav\n",
      "Segment 4 done in alu_nut_io_URecorder_20240715_150040_segment_4.wav\n",
      "Segment 5 done in alu_nut_io_URecorder_20240715_150040_segment_5.wav\n",
      "Segment 6 done in alu_nut_io_URecorder_20240715_150040_segment_6.wav\n",
      "Segment 7 done in alu_nut_io_URecorder_20240715_150040_segment_7.wav\n",
      "Segment 8 done in alu_nut_io_URecorder_20240715_150040_segment_8.wav\n",
      "Segment 9 done in alu_nut_io_URecorder_20240715_150040_segment_9.wav\n",
      "Segment 10 done in alu_nut_io_URecorder_20240715_150040_segment_10.wav\n",
      "Segment 11 done in alu_nut_io_URecorder_20240715_150040_segment_11.wav\n",
      "Segment 12 done in alu_nut_io_URecorder_20240715_150040_segment_12.wav\n",
      "Segment 13 done in alu_nut_io_URecorder_20240715_150040_segment_13.wav\n"
     ]
    },
    {
     "name": "stderr",
     "output_type": "stream",
     "text": [
      "C:\\Users\\Alexa\\AppData\\Local\\Packages\\PythonSoftwareFoundation.Python.3.11_qbz5n2kfra8p0\\LocalCache\\local-packages\\Python311\\site-packages\\maad\\util\\miscellaneous.py:413: RuntimeWarning: divide by zero encountered in log10\n",
      "  y = 10*log10(x)   # take log\n"
     ]
    },
    {
     "name": "stdout",
     "output_type": "stream",
     "text": [
      "Segment 1 done in alu_nut_io_URecorder_20240716_081411_segment_1.wav\n",
      "Segment 2 done in alu_nut_io_URecorder_20240716_081411_segment_2.wav\n",
      "Segment 3 done in alu_nut_io_URecorder_20240716_081411_segment_3.wav\n",
      "Segment 4 done in alu_nut_io_URecorder_20240716_081411_segment_4.wav\n",
      "Segment 5 done in alu_nut_io_URecorder_20240716_081411_segment_5.wav\n",
      "Segment 6 done in alu_nut_io_URecorder_20240716_081411_segment_6.wav\n",
      "Segment 7 done in alu_nut_io_URecorder_20240716_081411_segment_7.wav\n",
      "Segment 8 done in alu_nut_io_URecorder_20240716_081411_segment_8.wav\n",
      "Segment 9 done in alu_nut_io_URecorder_20240716_081411_segment_9.wav\n",
      "Segment 10 done in alu_nut_io_URecorder_20240716_081411_segment_10.wav\n",
      "Segment 11 done in alu_nut_io_URecorder_20240716_081411_segment_11.wav\n",
      "Segment 12 done in alu_nut_io_URecorder_20240716_081411_segment_12.wav\n",
      "Segment 13 done in alu_nut_io_URecorder_20240716_081411_segment_13.wav\n",
      "Segment 14 done in alu_nut_io_URecorder_20240716_081411_segment_14.wav\n",
      "Segment 15 done in alu_nut_io_URecorder_20240716_081411_segment_15.wav\n",
      "Segment 16 done in alu_nut_io_URecorder_20240716_081411_segment_16.wav\n",
      "Segment 17 done in alu_nut_io_URecorder_20240716_081411_segment_17.wav\n",
      "Segment 18 done in alu_nut_io_URecorder_20240716_081411_segment_18.wav\n",
      "Segment 19 done in alu_nut_io_URecorder_20240716_081411_segment_19.wav\n"
     ]
    },
    {
     "name": "stderr",
     "output_type": "stream",
     "text": [
      "C:\\Users\\Alexa\\AppData\\Local\\Packages\\PythonSoftwareFoundation.Python.3.11_qbz5n2kfra8p0\\LocalCache\\local-packages\\Python311\\site-packages\\maad\\util\\miscellaneous.py:413: RuntimeWarning: divide by zero encountered in log10\n",
      "  y = 10*log10(x)   # take log\n"
     ]
    },
    {
     "name": "stdout",
     "output_type": "stream",
     "text": [
      "Segment 1 done in alu_nut_nio_URecorder_20240717_112229_segment_1.wav\n",
      "Segment 2 done in alu_nut_nio_URecorder_20240717_112229_segment_2.wav\n",
      "Segment 3 done in alu_nut_nio_URecorder_20240717_112229_segment_3.wav\n",
      "Segment 4 done in alu_nut_nio_URecorder_20240717_112229_segment_4.wav\n",
      "Segment 5 done in alu_nut_nio_URecorder_20240717_112229_segment_5.wav\n",
      "Segment 6 done in alu_nut_nio_URecorder_20240717_112229_segment_6.wav\n",
      "Segment 7 done in alu_nut_nio_URecorder_20240717_112229_segment_7.wav\n",
      "Segment 8 done in alu_nut_nio_URecorder_20240717_112229_segment_8.wav\n",
      "Segment 9 done in alu_nut_nio_URecorder_20240717_112229_segment_9.wav\n",
      "Segment 10 done in alu_nut_nio_URecorder_20240717_112229_segment_10.wav\n",
      "Segment 11 done in alu_nut_nio_URecorder_20240717_112229_segment_11.wav\n",
      "Segment 12 done in alu_nut_nio_URecorder_20240717_112229_segment_12.wav\n",
      "Segment 13 done in alu_nut_nio_URecorder_20240717_112229_segment_13.wav\n",
      "Segment 14 done in alu_nut_nio_URecorder_20240717_112229_segment_14.wav\n",
      "Segment 15 done in alu_nut_nio_URecorder_20240717_112229_segment_15.wav\n",
      "Segment 16 done in alu_nut_nio_URecorder_20240717_112229_segment_16.wav\n",
      "Segment 17 done in alu_nut_nio_URecorder_20240717_112229_segment_17.wav\n",
      "Segment 18 done in alu_nut_nio_URecorder_20240717_112229_segment_18.wav\n",
      "Segment 19 done in alu_nut_nio_URecorder_20240717_112229_segment_19.wav\n",
      "Segment 20 done in alu_nut_nio_URecorder_20240717_112229_segment_20.wav\n"
     ]
    },
    {
     "name": "stderr",
     "output_type": "stream",
     "text": [
      "C:\\Users\\Alexa\\AppData\\Local\\Packages\\PythonSoftwareFoundation.Python.3.11_qbz5n2kfra8p0\\LocalCache\\local-packages\\Python311\\site-packages\\maad\\util\\miscellaneous.py:413: RuntimeWarning: divide by zero encountered in log10\n",
      "  y = 10*log10(x)   # take log\n"
     ]
    },
    {
     "name": "stdout",
     "output_type": "stream",
     "text": [
      "Segment 1 done in alu_nut_nio_URecorder_20240717_130518_segment_1.wav\n",
      "Segment 2 done in alu_nut_nio_URecorder_20240717_130518_segment_2.wav\n",
      "Segment 3 done in alu_nut_nio_URecorder_20240717_130518_segment_3.wav\n",
      "Segment 4 done in alu_nut_nio_URecorder_20240717_130518_segment_4.wav\n",
      "Segment 5 done in alu_nut_nio_URecorder_20240717_130518_segment_5.wav\n",
      "Segment 6 done in alu_nut_nio_URecorder_20240717_130518_segment_6.wav\n",
      "Segment 7 done in alu_nut_nio_URecorder_20240717_130518_segment_7.wav\n",
      "Segment 8 done in alu_nut_nio_URecorder_20240717_130518_segment_8.wav\n",
      "Segment 9 done in alu_nut_nio_URecorder_20240717_130518_segment_9.wav\n",
      "Segment 10 done in alu_nut_nio_URecorder_20240717_130518_segment_10.wav\n",
      "Segment 11 done in alu_nut_nio_URecorder_20240717_130518_segment_11.wav\n",
      "Segment 12 done in alu_nut_nio_URecorder_20240717_130518_segment_12.wav\n",
      "Segment 13 done in alu_nut_nio_URecorder_20240717_130518_segment_13.wav\n",
      "Segment 14 done in alu_nut_nio_URecorder_20240717_130518_segment_14.wav\n",
      "Segment 15 done in alu_nut_nio_URecorder_20240717_130518_segment_15.wav\n",
      "Segment 16 done in alu_nut_nio_URecorder_20240717_130518_segment_16.wav\n",
      "Segment 17 done in alu_nut_nio_URecorder_20240717_130518_segment_17.wav\n",
      "Segment 18 done in alu_nut_nio_URecorder_20240717_130518_segment_18.wav\n",
      "Segment 19 done in alu_nut_nio_URecorder_20240717_130518_segment_19.wav\n"
     ]
    },
    {
     "name": "stderr",
     "output_type": "stream",
     "text": [
      "C:\\Users\\Alexa\\AppData\\Local\\Packages\\PythonSoftwareFoundation.Python.3.11_qbz5n2kfra8p0\\LocalCache\\local-packages\\Python311\\site-packages\\maad\\util\\miscellaneous.py:413: RuntimeWarning: divide by zero encountered in log10\n",
      "  y = 10*log10(x)   # take log\n"
     ]
    },
    {
     "name": "stdout",
     "output_type": "stream",
     "text": [
      "Segment 1 done in alu_nut_nio_URecorder_20240717_142102_segment_1.wav\n",
      "Segment 2 done in alu_nut_nio_URecorder_20240717_142102_segment_2.wav\n",
      "Segment 3 done in alu_nut_nio_URecorder_20240717_142102_segment_3.wav\n",
      "Segment 4 done in alu_nut_nio_URecorder_20240717_142102_segment_4.wav\n",
      "Segment 5 done in alu_nut_nio_URecorder_20240717_142102_segment_5.wav\n",
      "Segment 6 done in alu_nut_nio_URecorder_20240717_142102_segment_6.wav\n",
      "Segment 7 done in alu_nut_nio_URecorder_20240717_142102_segment_7.wav\n",
      "Segment 8 done in alu_nut_nio_URecorder_20240717_142102_segment_8.wav\n",
      "Segment 9 done in alu_nut_nio_URecorder_20240717_142102_segment_9.wav\n",
      "Segment 10 done in alu_nut_nio_URecorder_20240717_142102_segment_10.wav\n",
      "Segment 11 done in alu_nut_nio_URecorder_20240717_142102_segment_11.wav\n",
      "Segment 12 done in alu_nut_nio_URecorder_20240717_142102_segment_12.wav\n",
      "Segment 13 done in alu_nut_nio_URecorder_20240717_142102_segment_13.wav\n",
      "Segment 14 done in alu_nut_nio_URecorder_20240717_142102_segment_14.wav\n",
      "Segment 15 done in alu_nut_nio_URecorder_20240717_142102_segment_15.wav\n",
      "Segment 16 done in alu_nut_nio_URecorder_20240717_142102_segment_16.wav\n",
      "Segment 17 done in alu_nut_nio_URecorder_20240717_142102_segment_17.wav\n",
      "Segment 18 done in alu_nut_nio_URecorder_20240717_142102_segment_18.wav\n",
      "Segment 19 done in alu_nut_nio_URecorder_20240717_142102_segment_19.wav\n"
     ]
    },
    {
     "name": "stderr",
     "output_type": "stream",
     "text": [
      "C:\\Users\\Alexa\\AppData\\Local\\Packages\\PythonSoftwareFoundation.Python.3.11_qbz5n2kfra8p0\\LocalCache\\local-packages\\Python311\\site-packages\\maad\\util\\miscellaneous.py:413: RuntimeWarning: divide by zero encountered in log10\n",
      "  y = 10*log10(x)   # take log\n"
     ]
    },
    {
     "name": "stdout",
     "output_type": "stream",
     "text": [
      "Segment 1 done in alu_nut_nio_URecorder_20240717_143736_segment_1.wav\n",
      "Segment 2 done in alu_nut_nio_URecorder_20240717_143736_segment_2.wav\n",
      "Segment 3 done in alu_nut_nio_URecorder_20240717_143736_segment_3.wav\n",
      "Segment 4 done in alu_nut_nio_URecorder_20240717_143736_segment_4.wav\n",
      "Segment 5 done in alu_nut_nio_URecorder_20240717_143736_segment_5.wav\n",
      "Segment 6 done in alu_nut_nio_URecorder_20240717_143736_segment_6.wav\n",
      "Segment 7 done in alu_nut_nio_URecorder_20240717_143736_segment_7.wav\n",
      "Segment 8 done in alu_nut_nio_URecorder_20240717_143736_segment_8.wav\n",
      "Segment 9 done in alu_nut_nio_URecorder_20240717_143736_segment_9.wav\n",
      "Segment 10 done in alu_nut_nio_URecorder_20240717_143736_segment_10.wav\n",
      "Segment 11 done in alu_nut_nio_URecorder_20240717_143736_segment_11.wav\n",
      "Segment 12 done in alu_nut_nio_URecorder_20240717_143736_segment_12.wav\n",
      "Segment 13 done in alu_nut_nio_URecorder_20240717_143736_segment_13.wav\n",
      "Segment 14 done in alu_nut_nio_URecorder_20240717_143736_segment_14.wav\n",
      "Segment 15 done in alu_nut_nio_URecorder_20240717_143736_segment_15.wav\n",
      "Segment 16 done in alu_nut_nio_URecorder_20240717_143736_segment_16.wav\n",
      "Segment 17 done in alu_nut_nio_URecorder_20240717_143736_segment_17.wav\n",
      "Segment 18 done in alu_nut_nio_URecorder_20240717_143736_segment_18.wav\n",
      "Segment 19 done in alu_nut_nio_URecorder_20240717_143736_segment_19.wav\n"
     ]
    }
   ],
   "source": [
    "import os\n",
    "import random\n",
    "from shutil import copyfile\n",
    "from pydub import AudioSegment\n",
    "import librosa\n",
    "import pandas as pd\n",
    "from maad import sound, util\n",
    "from maad.rois import template_matching\n",
    "\n",
    "\n",
    "def aggregate(rois_df, window=21):\n",
    "    aggregated = []\n",
    "    current_group = rois_df.iloc[0].copy()\n",
    "    for index, row in rois_df.iterrows():\n",
    "        if row['peak_time'] <= current_group['peak_time'] + window:\n",
    "            current_group['xcorrcoef'] = max(current_group['xcorrcoef'], row['xcorrcoef'])\n",
    "            current_group['max_t'] = max(current_group['max_t'], row['max_t'])\n",
    "        else:\n",
    "            aggregated.append(current_group)\n",
    "            current_group = row.copy()\n",
    "    aggregated.append(current_group)\n",
    "    \n",
    "    return pd.DataFrame(aggregated)\n",
    "\n",
    "def get_timestamps(signal_name, template_name='pt16-m55013.wav', offset=0):\n",
    "    flims = (6000, 12000)\n",
    "    db_range = 80\n",
    "    template, fs_template = librosa.load(template_name, sr=None)\n",
    "    audio, fs_audio = librosa.load(signal_name, sr=None)\n",
    "\n",
    "    Sxx_template, _, _, _ = sound.spectrogram(template, fs_template)\n",
    "    Sxx_template = util.power2dB(Sxx_template, db_range)\n",
    "\n",
    "    Sxx_audio, tn, fn, ext = sound.spectrogram(audio, fs_audio)\n",
    "    Sxx_audio = util.power2dB(Sxx_audio, db_range)\n",
    "\n",
    "    peak_th = 0.75\n",
    "    xcorrcoef, rois = template_matching(Sxx_audio, Sxx_template, tn, ext, peak_th)\n",
    "    rois['min_f'] = flims[0]\n",
    "    rois['max_f'] = flims[1]\n",
    "    rois_df = pd.DataFrame(rois)\n",
    "    aggregated_rois = aggregate(rois_df)\n",
    "    min_t_values = aggregated_rois['min_t'].values + offset\n",
    "        \n",
    "    if len(min_t_values) > 1:\n",
    "        min_t_values = min_t_values[:-1]\n",
    "    else:\n",
    "        min_t_values = []\n",
    "        \n",
    "    return min_t_values\n",
    "\n",
    "def process_audio_files(input_folder, output_folder, template_name='cutting/pt16-m55013.wav'):\n",
    "    if not os.path.exists(output_folder):\n",
    "        os.makedirs(output_folder)\n",
    "\n",
    "    for root, dirs, files in os.walk(input_folder):\n",
    "        for file_name in files:\n",
    "            if file_name.endswith('.wav'):\n",
    "                file_path = os.path.join(root, file_name)\n",
    "                min_t_values = get_timestamps(file_path, template_name)\n",
    "                \n",
    "                if len(min_t_values) > 0:\n",
    "                    audio = AudioSegment.from_wav(file_path)\n",
    "                    for i, start_time in enumerate(min_t_values):\n",
    "                        if i < len(min_t_values) - 1:\n",
    "                            end_time = min_t_values[i+1] * 1000\n",
    "                        else:\n",
    "                            end_time = len(audio)\n",
    "                        \n",
    "                        start_time_ms = start_time * 1000\n",
    "                        segment = audio[start_time_ms:end_time]\n",
    "                        \n",
    "                        # Extract label\n",
    "                        category_label = os.path.basename(os.path.dirname(root))\n",
    "                        \n",
    "                        output_file_name = f\"{category_label}_{file_name.split('.')[0]}_segment_{i+1}.wav\"\n",
    "                        output_path = os.path.join(output_folder, output_file_name)\n",
    "                        segment.export(output_path, format=\"wav\")\n",
    "                        print(f\"Segment {i+1} done in {output_file_name}\")\n",
    "                else:\n",
    "                    print(f\"Im File {file_name} keine Abschnitte gefunden!\")\n",
    "\n",
    "\n",
    "\n",
    "\n",
    "def split_files(input_folder, output_folder, splits=(0.7, 0.15, 0.15)):\n",
    "    assert sum(splits) == 1.0, \"Splits must sum to 1.0\"\n",
    "    \n",
    "    for category in os.listdir(input_folder):\n",
    "        category_path = os.path.join(input_folder, category)\n",
    "        if os.path.isdir(category_path):\n",
    "            files = [os.path.join(category_path, f) for f in os.listdir(category_path) if f.endswith('.wav')]\n",
    "            random.shuffle(files)\n",
    "            \n",
    "            train_split = int(splits[0] * len(files))\n",
    "            test_split = int(splits[1] * len(files))\n",
    "            \n",
    "            train_files = files[:train_split]\n",
    "            test_files = files[train_split:train_split + test_split]\n",
    "            val_files = files[train_split + test_split:]\n",
    "            \n",
    "            splits_map = {'train': train_files, 'test': test_files, 'val': val_files}\n",
    "            \n",
    "            for split, split_files in splits_map.items():\n",
    "                split_folder = os.path.join(output_folder, category, split)\n",
    "                if not os.path.exists(split_folder):\n",
    "                    os.makedirs(split_folder)\n",
    "                \n",
    "                for file_path in split_files:\n",
    "                    dest_path = os.path.join(split_folder, os.path.basename(file_path))\n",
    "                    copyfile(file_path, dest_path)\n",
    "                    print(f\"Copied {file_path} to {dest_path}\")\n",
    "\n",
    "\n",
    "main_input_folder = 'ALL_audio'\n",
    "temp_output_folder = 'temp_split_audio'\n",
    "final_output_folder = 'ALL_segments'\n",
    "\n",
    "split_files(main_input_folder, temp_output_folder)\n",
    "\n",
    "for split in ['train', 'test', 'val']:\n",
    "    for subfolder in ['alu_ohne_io', 'alu_ohne_nio', 'alu_nut_io', 'alu_nut_nio', 'kunststoff_nut_io', 'kunststoff_nut_nio', 'kunststoff_ohne_io', 'kunststoff_ohne_nio']:\n",
    "        split_folder_path = os.path.join(temp_output_folder, subfolder, split)\n",
    "        output_subfolder_path = os.path.join(final_output_folder, subfolder, split)\n",
    "        process_audio_files(split_folder_path, output_subfolder_path)\n"
   ]
  }
 ],
 "metadata": {
  "kernelspec": {
   "display_name": "Python 3",
   "language": "python",
   "name": "python3"
  },
  "language_info": {
   "codemirror_mode": {
    "name": "ipython",
    "version": 3
   },
   "file_extension": ".py",
   "mimetype": "text/x-python",
   "name": "python",
   "nbconvert_exporter": "python",
   "pygments_lexer": "ipython3",
   "version": "3.11.9"
  }
 },
 "nbformat": 4,
 "nbformat_minor": 2
}
